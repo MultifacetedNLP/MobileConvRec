{
 "cells": [
  {
   "cell_type": "code",
   "execution_count": 73,
   "metadata": {},
   "outputs": [],
   "source": [
    "import csv\n",
    "import pandas as pd\n",
    "import os\n",
    "from tqdm import tqdm\n",
    "from fuzzywuzzy import fuzz\n",
    "import nltk\n",
    "from nltk.tokenize import word_tokenize"
   ]
  },
  {
   "cell_type": "code",
   "execution_count": 6,
   "metadata": {},
   "outputs": [],
   "source": [
    "file_path = '/u/spa-d4/grad/mfe261/Projects/MobileConvRec/data/master_app_data_V1_true.csv'\n",
    "data = pd.read_csv(file_path)"
   ]
  },
  {
   "cell_type": "code",
   "execution_count": 8,
   "metadata": {},
   "outputs": [
    {
     "name": "stdout",
     "output_type": "stream",
     "text": [
      "1730\n"
     ]
    }
   ],
   "source": [
    "print(len(data))"
   ]
  },
  {
   "cell_type": "code",
   "execution_count": 11,
   "metadata": {},
   "outputs": [
    {
     "name": "stdout",
     "output_type": "stream",
     "text": [
      "Number of unique apps:  1730\n",
      "Number of unique categories:  45\n"
     ]
    }
   ],
   "source": [
    "num_apps = data['app_package'].nunique()\n",
    "num_categories = data['app_category'].nunique()\n",
    "\n",
    "print(\"Number of unique apps: \", num_apps)\n",
    "print(\"Number of unique categories: \", num_categories)"
   ]
  },
  {
   "cell_type": "code",
   "execution_count": 9,
   "metadata": {},
   "outputs": [],
   "source": [
    "# Load the second CSV file\n",
    "file_path_2 = '/u/spa-d4/grad/mfe261/Projects/MobileConvRec/data/final_review_data_update_V2.csv'\n",
    "data_2 = pd.read_csv(file_path_2)"
   ]
  },
  {
   "cell_type": "code",
   "execution_count": 14,
   "metadata": {},
   "outputs": [
    {
     "data": {
      "text/plain": [
       "Index(['reviewId', 'review', 'app_package', 'User Interface Design',\n",
       "       'Navigation', 'Accessibility', 'Customization', 'Functionality',\n",
       "       'Performance', 'Responsiveness', 'Security', 'Privacy', 'Permissions',\n",
       "       'Data Collection', 'Data Sharing', 'Updates', 'Customer support',\n",
       "       'Reviews and ratings', 'Developer', 'Price', 'In-app purchases',\n",
       "       'Advertisement Frequency', 'Battery/power Drainage', 'aspect_count',\n",
       "       'formated_date', 'rating', 'votes', 'uid', 'app_name'],\n",
       "      dtype='object')"
      ]
     },
     "execution_count": 14,
     "metadata": {},
     "output_type": "execute_result"
    }
   ],
   "source": [
    "data_2.columns"
   ]
  },
  {
   "cell_type": "code",
   "execution_count": 10,
   "metadata": {},
   "outputs": [
    {
     "name": "stdout",
     "output_type": "stream",
     "text": [
      "12340\n"
     ]
    }
   ],
   "source": [
    "print(len(data_2))"
   ]
  },
  {
   "cell_type": "code",
   "execution_count": 15,
   "metadata": {},
   "outputs": [
    {
     "name": "stdout",
     "output_type": "stream",
     "text": [
      "Number of unique users: 11863\n"
     ]
    }
   ],
   "source": [
    "# Get the number of unique users from the 'uid' column\n",
    "num_unique_users = data_2['uid'].nunique()\n",
    "\n",
    "print(\"Number of unique users:\", num_unique_users)"
   ]
  },
  {
   "cell_type": "code",
   "execution_count": 56,
   "metadata": {},
   "outputs": [
    {
     "name": "stdout",
     "output_type": "stream",
     "text": [
      "Total number of dialogs: 12562\n"
     ]
    }
   ],
   "source": [
    "# List all files in the folder\n",
    "training_files = os.listdir(\"data/dataset_v2/training\")\n",
    "testing_files = os.listdir(\"data/dataset_v2/testing\")\n",
    "validation_files = os.listdir(\"data/dataset_v2/validation\")\n",
    "num_dialog = len(training_files) + len(testing_files) + len(validation_files)\n",
    "print(\"Total number of dialogs:\", num_dialog)"
   ]
  },
  {
   "cell_type": "code",
   "execution_count": 22,
   "metadata": {},
   "outputs": [],
   "source": [
    "def is_approximate_substring(substring, string, threshold=70):\n",
    "    for i in range(len(string) - len(substring) + 1):\n",
    "        window = string[i:i+len(substring)]\n",
    "        similarity_ratio = fuzz.ratio(substring, window)\n",
    "        if similarity_ratio >= threshold:\n",
    "            return True\n",
    "    return False"
   ]
  },
  {
   "cell_type": "code",
   "execution_count": 120,
   "metadata": {},
   "outputs": [
    {
     "name": "stdout",
     "output_type": "stream",
     "text": [
      "The phrase 'Negative Recommended App Name:' appears 3 times.\n"
     ]
    }
   ],
   "source": [
    "text = \"\"\"\n",
    "User's Previous Interactions\n",
    "No History Available\n",
    "\n",
    "Recommended App Name: Firefox Fast & Private Browser | Package Name: org.mozilla.firefox | Date: 16-11-2018\n",
    "\n",
    "Negative Recommended App Name: Opera Mini - fast web browser | Package Name: com.opera.mini.native\n",
    "Negative Recommended App Name: Chrome Dev | Package Name: com.chrome.dev\n",
    "Negative Recommended App Name: Opera browser beta | Package Name: com.opera.browser.beta\n",
    "\n",
    "COMPUTER: Hi there! How can I help you today?\n",
    "\"\"\"\n",
    "\n",
    "count = text.count(\"Negative Recommended App Name:\")\n",
    "print(f\"The phrase 'Negative Recommended App Name:' appears {count} times.\")\n"
   ]
  },
  {
   "cell_type": "code",
   "execution_count": 121,
   "metadata": {},
   "outputs": [
    {
     "name": "stderr",
     "output_type": "stream",
     "text": [
      "100%|██████████| 8720/8720 [00:26<00:00, 329.76it/s]"
     ]
    },
    {
     "name": "stdout",
     "output_type": "stream",
     "text": [
      "8720\n",
      "8720\n",
      "8720\n",
      "8720\n",
      "\n",
      "number of rows: 8720\n"
     ]
    },
    {
     "name": "stderr",
     "output_type": "stream",
     "text": [
      "\n"
     ]
    }
   ],
   "source": [
    "conversation_training_path = \"data/dataset_v2/training\"\n",
    "\n",
    "user_id = []\n",
    "previous_interactions = []\n",
    "previous_interactions_array = []\n",
    "count_neg_recommended_all = []\n",
    "recommended_app_name = []\n",
    "turns = []\n",
    "recommend_indexes = []\n",
    "\n",
    "\n",
    "# List all files in the folder\n",
    "files = os.listdir(conversation_training_path)\n",
    "\n",
    "# Loop through each file in the directory\n",
    "for filename in tqdm(files):\n",
    "    # Construct the full file path\n",
    "    file_path = os.path.join(conversation_training_path, filename)\n",
    "\n",
    "    # Check if the current item is a file\n",
    "    if os.path.isfile(file_path):\n",
    "        # Open and read the file\n",
    "        with open(file_path, 'r') as file:\n",
    "            # Read the content of the file\n",
    "            file_content = file.read().lower()\n",
    "            \n",
    "            # finding the user id\n",
    "            index_1 = file_content.find(\"user's previous interactions\")\n",
    "            user_id.append(file_content[9:index_1].rstrip('\\n'))\n",
    "            \n",
    "            # finding the User's Previous Interactions\n",
    "            index_2 = file_content.find(\"recommended app name:\")\n",
    "            previous_interactions_arr = file_content[index_1+29:index_2].rstrip('\\n').split(\"app name:\")\n",
    "            previous_interactions_arr_filtered = []\n",
    "            for previous_interaction in previous_interactions_arr[1:]:\n",
    "                previous_interactions_arr_filtered.append(previous_interaction[:previous_interaction.find(\" | \")])\n",
    "            if len(previous_interactions_arr_filtered) > 0:\n",
    "                previous_interactions.append(\",\".join(previous_interactions_arr_filtered))\n",
    "                previous_interactions_array.append(previous_interactions_arr_filtered)\n",
    "            else:\n",
    "                previous_interactions.append(None)\n",
    "                previous_interactions_array.append([])\n",
    "            \n",
    "            # finding recommended app name\n",
    "            index_3 = file_content[index_2:].find(\"package name\")\n",
    "            recommended = file_content[index_2+22:index_2+index_3-3].rstrip('\\n')\n",
    "            recommended_app_name.append(recommended)\n",
    "            \n",
    "            # finding the number of times negative recommended apps are mentioned in the file\n",
    "            count_neg_recommended = file_content.count(\"negative recommended app name:\")\n",
    "            count_neg_recommended_all.append(count_neg_recommended)\n",
    "            \n",
    "            # finding each turns\n",
    "            dialog_turns = []\n",
    "            dialog_index = 0\n",
    "            COMPUTER_index = file_content.find(\"computer:\")\n",
    "            file_content = file_content[COMPUTER_index:]\n",
    "            found_recommender = False\n",
    "            while True:\n",
    "                HUMAN_index = file_content.find(\"human:\")\n",
    "                if HUMAN_index == -1:\n",
    "                    break\n",
    "                turn = file_content[:HUMAN_index].rstrip('\\n') # computer dialog\n",
    "                if (recommended in turn) and not found_recommender:\n",
    "                    recommend_indexes.append(dialog_index)\n",
    "                    found_recommender = True\n",
    "                dialog_turns.append(turn)\n",
    "                dialog_index +=1\n",
    "                file_content = file_content[HUMAN_index:]\n",
    "                \n",
    "                COMPUTER_index = file_content.find(\"computer:\")\n",
    "                turn = file_content[:COMPUTER_index].rstrip('\\n') # human dialog\n",
    "                dialog_turns.append(turn)\n",
    "                dialog_index +=1\n",
    "                file_content = file_content[COMPUTER_index:]\n",
    "                \n",
    "            if not found_recommender: # approximately finding the recommender turn\n",
    "                for i, dialog_turn in enumerate(dialog_turns):\n",
    "                    if is_approximate_substring(recommended, dialog_turn):\n",
    "                        recommend_indexes.append(i)\n",
    "                        found_recommender = True\n",
    "                        break\n",
    "                    \n",
    "            if not found_recommender:\n",
    "                recommend_indexes.append(-1)\n",
    "                        \n",
    "            turns.append(dialog_turns)\n",
    "\n",
    "print(len(user_id))\n",
    "print(len(previous_interactions))\n",
    "print(len(recommended_app_name))\n",
    "print(len(recommend_indexes))\n",
    "df_recommender_train = pd.DataFrame({\"user_id\": user_id, \"previous_interactions\":previous_interactions, \"previous_interactions_array\": previous_interactions_array, \"recommended_app_name\":recommended_app_name, \"count_neg_recommended_all\": count_neg_recommended_all, \"turns\": turns, \"recommend_indexes\":recommend_indexes})\n",
    "print(f\"\\nnumber of rows: {len(df_recommender_train)}\")"
   ]
  },
  {
   "cell_type": "code",
   "execution_count": 24,
   "metadata": {},
   "outputs": [],
   "source": [
    "# df_recommender_train = df_recommender_train[(df_recommender_train[\"recommend_indexes\"] != -1) & (df_recommender_train[\"turns\"].apply(lambda x: len(x) > 0))]"
   ]
  },
  {
   "cell_type": "code",
   "execution_count": 122,
   "metadata": {},
   "outputs": [
    {
     "name": "stderr",
     "output_type": "stream",
     "text": [
      "100%|██████████| 1285/1285 [00:04<00:00, 276.50it/s]"
     ]
    },
    {
     "name": "stdout",
     "output_type": "stream",
     "text": [
      "1285\n",
      "1285\n",
      "1285\n",
      "1285\n",
      "\n",
      "number of rows: 1285\n"
     ]
    },
    {
     "name": "stderr",
     "output_type": "stream",
     "text": [
      "\n"
     ]
    }
   ],
   "source": [
    "conversation_validation_path = \"data/dataset_v2/validation\"\n",
    "\n",
    "user_id = []\n",
    "previous_interactions = []\n",
    "previous_interactions_array = []\n",
    "count_neg_recommended_all = []\n",
    "recommended_app_name = []\n",
    "turns = []\n",
    "recommend_indexes = []\n",
    "\n",
    "\n",
    "# List all files in the folder\n",
    "files = os.listdir(conversation_validation_path)\n",
    "\n",
    "# Loop through each file in the directory\n",
    "for filename in tqdm(files):\n",
    "    # Construct the full file path\n",
    "    file_path = os.path.join(conversation_validation_path, filename)\n",
    "\n",
    "    # Check if the current item is a file\n",
    "    if os.path.isfile(file_path):\n",
    "        # Open and read the file\n",
    "        with open(file_path, 'r') as file:\n",
    "            # Read the content of the file\n",
    "            file_content = file.read().lower()\n",
    "            \n",
    "            # finding the user id\n",
    "            index_1 = file_content.find(\"user's previous interactions\")\n",
    "            user_id.append(file_content[9:index_1].rstrip('\\n'))\n",
    "            \n",
    "            # finding the User's Previous Interactions\n",
    "            index_2 = file_content.find(\"recommended app name:\")\n",
    "            previous_interactions_arr = file_content[index_1+29:index_2].rstrip('\\n').split(\"app name:\")\n",
    "            previous_interactions_arr_filtered = []\n",
    "            for previous_interaction in previous_interactions_arr[1:]:\n",
    "                previous_interactions_arr_filtered.append(previous_interaction[:previous_interaction.find(\" | \")])\n",
    "            if len(previous_interactions_arr_filtered) > 0:\n",
    "                previous_interactions.append(\",\".join(previous_interactions_arr_filtered))\n",
    "                previous_interactions_array.append(previous_interactions_arr_filtered)\n",
    "            else:\n",
    "                previous_interactions.append(None)\n",
    "                previous_interactions_array.append([])\n",
    "            \n",
    "            # finding recommended app name\n",
    "            index_3 = file_content[index_2:].find(\"package name\")\n",
    "            recommended = file_content[index_2+22:index_2+index_3-3].rstrip('\\n')\n",
    "            recommended_app_name.append(recommended)\n",
    "            \n",
    "            # finding the number of times negative recommended apps are mentioned in the file\n",
    "            count_neg_recommended = file_content.count(\"negative recommended app name:\")\n",
    "            count_neg_recommended_all.append(count_neg_recommended)\n",
    "            \n",
    "            # finding each turns\n",
    "            dialog_turns = []\n",
    "            dialog_index = 0\n",
    "            COMPUTER_index = file_content.find(\"computer:\")\n",
    "            file_content = file_content[COMPUTER_index:]\n",
    "            found_recommender = False\n",
    "            while True:\n",
    "                HUMAN_index = file_content.find(\"human:\")\n",
    "                if HUMAN_index == -1:\n",
    "                    break\n",
    "                turn = file_content[:HUMAN_index].rstrip('\\n') # computer dialog\n",
    "                if (recommended in turn) and not found_recommender:\n",
    "                    recommend_indexes.append(dialog_index)\n",
    "                    found_recommender = True\n",
    "                dialog_turns.append(turn)\n",
    "                dialog_index +=1\n",
    "                file_content = file_content[HUMAN_index:]\n",
    "                \n",
    "                COMPUTER_index = file_content.find(\"computer:\")\n",
    "                turn = file_content[:COMPUTER_index].rstrip('\\n') # human dialog\n",
    "                dialog_turns.append(turn)\n",
    "                dialog_index +=1\n",
    "                file_content = file_content[COMPUTER_index:]\n",
    "                \n",
    "            if not found_recommender: # approximately finding the recommender turn\n",
    "                for i, dialog_turn in enumerate(dialog_turns):\n",
    "                    if is_approximate_substring(recommended, dialog_turn):\n",
    "                        recommend_indexes.append(i)\n",
    "                        found_recommender = True\n",
    "                        break\n",
    "                    \n",
    "            if not found_recommender:\n",
    "                recommend_indexes.append(-1)\n",
    "                        \n",
    "            turns.append(dialog_turns)\n",
    "\n",
    "print(len(user_id))\n",
    "print(len(previous_interactions))\n",
    "print(len(recommended_app_name))\n",
    "print(len(recommend_indexes))\n",
    "df_recommender_validation = pd.DataFrame({\"user_id\": user_id, \"previous_interactions\":previous_interactions, \"previous_interactions_array\": previous_interactions_array, \"recommended_app_name\":recommended_app_name, \"count_neg_recommended_all\": count_neg_recommended_all, \"turns\": turns, \"recommend_indexes\":recommend_indexes})\n",
    "print(f\"\\nnumber of rows: {len(df_recommender_validation)}\")"
   ]
  },
  {
   "cell_type": "code",
   "execution_count": 123,
   "metadata": {},
   "outputs": [],
   "source": [
    "# df_recommender_validation = df_recommender_validation[(df_recommender_validation[\"recommend_indexes\"] != -1) & (df_recommender_validation[\"turns\"].apply(lambda x: len(x) > 0))]"
   ]
  },
  {
   "cell_type": "code",
   "execution_count": 124,
   "metadata": {},
   "outputs": [
    {
     "name": "stderr",
     "output_type": "stream",
     "text": [
      "  0%|          | 0/2557 [00:00<?, ?it/s]"
     ]
    },
    {
     "name": "stderr",
     "output_type": "stream",
     "text": [
      "100%|██████████| 2557/2557 [00:08<00:00, 318.40it/s]"
     ]
    },
    {
     "name": "stdout",
     "output_type": "stream",
     "text": [
      "2557\n",
      "2557\n",
      "2557\n",
      "2557\n",
      "\n",
      "number of rows: 2557\n"
     ]
    },
    {
     "name": "stderr",
     "output_type": "stream",
     "text": [
      "\n"
     ]
    }
   ],
   "source": [
    "conversation_test_path = \"data/dataset_v2/testing\"\n",
    "\n",
    "user_id = []\n",
    "previous_interactions = []\n",
    "previous_interactions_array = []\n",
    "count_neg_recommended_all = []\n",
    "recommended_app_name = []\n",
    "turns = []\n",
    "recommend_indexes = []\n",
    "\n",
    "\n",
    "# List all files in the folder\n",
    "files = os.listdir(conversation_test_path)\n",
    "\n",
    "# Loop through each file in the directory\n",
    "for filename in tqdm(files):\n",
    "    # Construct the full file path\n",
    "    file_path = os.path.join(conversation_test_path, filename)\n",
    "\n",
    "    # Check if the current item is a file\n",
    "    if os.path.isfile(file_path):\n",
    "        # Open and read the file\n",
    "        with open(file_path, 'r') as file:\n",
    "            # Read the content of the file\n",
    "            file_content = file.read().lower()\n",
    "            \n",
    "            # finding the user id\n",
    "            index_1 = file_content.find(\"user's previous interactions\")\n",
    "            user_id.append(file_content[9:index_1].rstrip('\\n'))\n",
    "            \n",
    "            # finding the User's Previous Interactions\n",
    "            index_2 = file_content.find(\"recommended app name:\")\n",
    "            previous_interactions_arr = file_content[index_1+29:index_2].rstrip('\\n').split(\"app name:\")\n",
    "            previous_interactions_arr_filtered = []\n",
    "            for previous_interaction in previous_interactions_arr[1:]:\n",
    "                previous_interactions_arr_filtered.append(previous_interaction[:previous_interaction.find(\" | \")])\n",
    "            if len(previous_interactions_arr_filtered) > 0:\n",
    "                previous_interactions.append(\",\".join(previous_interactions_arr_filtered))\n",
    "                previous_interactions_array.append(previous_interactions_arr_filtered)\n",
    "            else:\n",
    "                previous_interactions.append(None)\n",
    "                previous_interactions_array.append([])\n",
    "            \n",
    "            # finding recommended app name\n",
    "            index_3 = file_content[index_2:].find(\"package name\")\n",
    "            recommended = file_content[index_2+22:index_2+index_3-3].rstrip('\\n')\n",
    "            recommended_app_name.append(recommended)\n",
    "            \n",
    "            # finding the number of times negative recommended apps are mentioned in the file\n",
    "            count_neg_recommended = file_content.count(\"negative recommended app name:\")\n",
    "            count_neg_recommended_all.append(count_neg_recommended)\n",
    "            \n",
    "            # finding each turns\n",
    "            dialog_turns = []\n",
    "            dialog_index = 0\n",
    "            COMPUTER_index = file_content.find(\"computer:\")\n",
    "            file_content = file_content[COMPUTER_index:]\n",
    "            found_recommender = False\n",
    "            while True:\n",
    "                HUMAN_index = file_content.find(\"human:\")\n",
    "                if HUMAN_index == -1:\n",
    "                    break\n",
    "                turn = file_content[:HUMAN_index].rstrip('\\n') # computer dialog\n",
    "                if (recommended in turn) and not found_recommender:\n",
    "                    recommend_indexes.append(dialog_index)\n",
    "                    found_recommender = True\n",
    "                dialog_turns.append(turn)\n",
    "                dialog_index +=1\n",
    "                file_content = file_content[HUMAN_index:]\n",
    "                \n",
    "                COMPUTER_index = file_content.find(\"computer:\")\n",
    "                turn = file_content[:COMPUTER_index].rstrip('\\n') # human dialog\n",
    "                dialog_turns.append(turn)\n",
    "                dialog_index +=1\n",
    "                file_content = file_content[COMPUTER_index:]\n",
    "                \n",
    "            if not found_recommender: # approximately finding the recommender turn\n",
    "                for i, dialog_turn in enumerate(dialog_turns):\n",
    "                    if is_approximate_substring(recommended, dialog_turn):\n",
    "                        recommend_indexes.append(i)\n",
    "                        found_recommender = True\n",
    "                        break\n",
    "                    \n",
    "            if not found_recommender:\n",
    "                recommend_indexes.append(-1)\n",
    "                        \n",
    "            turns.append(dialog_turns)\n",
    "\n",
    "print(len(user_id))\n",
    "print(len(previous_interactions))\n",
    "print(len(recommended_app_name))\n",
    "print(len(recommend_indexes))\n",
    "df_recommender_test = pd.DataFrame({\"user_id\": user_id, \"previous_interactions\":previous_interactions, \"previous_interactions_array\": previous_interactions_array, \"recommended_app_name\":recommended_app_name, \"count_neg_recommended_all\": count_neg_recommended_all, \"turns\": turns, \"recommend_indexes\":recommend_indexes})\n",
    "print(f\"\\nnumber of rows: {len(df_recommender_test)}\")"
   ]
  },
  {
   "cell_type": "code",
   "execution_count": 29,
   "metadata": {},
   "outputs": [],
   "source": [
    "# df_recommender_test = df_recommender_test[(df_recommender_test[\"recommend_indexes\"] != -1) & (df_recommender_test[\"turns\"].apply(lambda x: len(x) > 0))]"
   ]
  },
  {
   "cell_type": "code",
   "execution_count": 125,
   "metadata": {},
   "outputs": [
    {
     "data": {
      "text/plain": [
       "0       [computer: hello! how can i assist you today?,...\n",
       "1       [computer: hi there! what are you looking for ...\n",
       "2       [computer: are you looking for apps that are e...\n",
       "3       [computer: hi! how can i help you today?, huma...\n",
       "4       [computer: hey there! what can i help you with...\n",
       "                              ...                        \n",
       "8715    [computer: hi there! how can i help you today?...\n",
       "8716    [computer: hey there! how can i help you today...\n",
       "8717    [computer: sure thing! what kinds of zombie hu...\n",
       "8718    [computer: hi there! how can i help you today?...\n",
       "8719    [computer: hi there! what brings you here toda...\n",
       "Name: turns, Length: 8720, dtype: object"
      ]
     },
     "execution_count": 125,
     "metadata": {},
     "output_type": "execute_result"
    }
   ],
   "source": [
    "df_recommender_train[\"turns\"]"
   ]
  },
  {
   "cell_type": "code",
   "execution_count": 126,
   "metadata": {},
   "outputs": [
    {
     "data": {
      "text/plain": [
       "0       [computer: hi there! how can i help you today?...\n",
       "1       [computer: hi there! what brings you here toda...\n",
       "2       [computer: hey there! how can i help you today...\n",
       "3       [computer: hey there! what are you looking for...\n",
       "4       [computer: hello! how can i help you today?, h...\n",
       "                              ...                        \n",
       "1280    [computer: hello! how can i help you today?, h...\n",
       "1281    [computer: hi there! how can i help you today?...\n",
       "1282    [computer: hey there! what can i help you find...\n",
       "1283    [computer: hi there! what are you looking for ...\n",
       "1284    [computer: hey there! what brings you here tod...\n",
       "Name: turns, Length: 1285, dtype: object"
      ]
     },
     "execution_count": 126,
     "metadata": {},
     "output_type": "execute_result"
    }
   ],
   "source": [
    "df_recommender_validation[\"turns\"]"
   ]
  },
  {
   "cell_type": "code",
   "execution_count": 127,
   "metadata": {},
   "outputs": [
    {
     "data": {
      "text/plain": [
       "0       [computer: hey there! how can i help you today...\n",
       "1       [computer: hello! how can i help you today?, h...\n",
       "2       [computer: hi there! how can i help you today?...\n",
       "3       [computer: hi! what can i help you with today?...\n",
       "4       [computer: hello! how can i help you today?, h...\n",
       "                              ...                        \n",
       "2552    [computer: hi there! how can i help you today?...\n",
       "2553    [computer: hi there! how can i assist you toda...\n",
       "2554    [computer: hey! how can i help you today?, hum...\n",
       "2555    [computer: hi there! how can i help you today?...\n",
       "2556    [computer: hi! how can i help you today?, huma...\n",
       "Name: turns, Length: 2557, dtype: object"
      ]
     },
     "execution_count": 127,
     "metadata": {},
     "output_type": "execute_result"
    }
   ],
   "source": [
    "df_recommender_test[\"turns\"]"
   ]
  },
  {
   "cell_type": "code",
   "execution_count": 129,
   "metadata": {},
   "outputs": [
    {
     "data": {
      "text/plain": [
       "22"
      ]
     },
     "execution_count": 129,
     "metadata": {},
     "output_type": "execute_result"
    }
   ],
   "source": [
    "len(df_recommender_validation[\"turns\"][0])"
   ]
  },
  {
   "cell_type": "code",
   "execution_count": 130,
   "metadata": {},
   "outputs": [
    {
     "data": {
      "text/plain": [
       "12562"
      ]
     },
     "execution_count": 130,
     "metadata": {},
     "output_type": "execute_result"
    }
   ],
   "source": [
    "len(df_recommender_train[\"turns\"]) + len(df_recommender_validation[\"turns\"]) + len(df_recommender_test[\"turns\"])"
   ]
  },
  {
   "cell_type": "code",
   "execution_count": 131,
   "metadata": {},
   "outputs": [
    {
     "data": {
      "text/plain": [
       "12562"
      ]
     },
     "execution_count": 131,
     "metadata": {},
     "output_type": "execute_result"
    }
   ],
   "source": [
    "num_dialog"
   ]
  },
  {
   "cell_type": "code",
   "execution_count": 165,
   "metadata": {},
   "outputs": [
    {
     "name": "stdout",
     "output_type": "stream",
     "text": [
      "Number of unique turns: 148166\n"
     ]
    }
   ],
   "source": [
    "total_turns = 0\n",
    "\n",
    "for turn in df_recommender_train[\"turns\"]:\n",
    "    total_turns += len(turn)\n",
    "    \n",
    "for turn in df_recommender_validation[\"turns\"]:\n",
    "    total_turns += len(turn)\n",
    "\n",
    "for turn in df_recommender_test[\"turns\"]:\n",
    "    total_turns += len(turn)\n",
    "\n",
    "total_turns = int(total_turns / 2) # both computer and human are considered to be one turn\n",
    "\n",
    "print(\"Number of unique turns:\", total_turns)\n"
   ]
  },
  {
   "cell_type": "code",
   "execution_count": 133,
   "metadata": {},
   "outputs": [
    {
     "data": {
      "text/plain": [
       "0       [computer: hey there! how can i help you today...\n",
       "1       [computer: hello! how can i help you today?, h...\n",
       "2       [computer: hi there! how can i help you today?...\n",
       "3       [computer: hi! what can i help you with today?...\n",
       "4       [computer: hello! how can i help you today?, h...\n",
       "                              ...                        \n",
       "2552    [computer: hi there! how can i help you today?...\n",
       "2553    [computer: hi there! how can i assist you toda...\n",
       "2554    [computer: hey! how can i help you today?, hum...\n",
       "2555    [computer: hi there! how can i help you today?...\n",
       "2556    [computer: hi! how can i help you today?, huma...\n",
       "Name: turns, Length: 2557, dtype: object"
      ]
     },
     "execution_count": 133,
     "metadata": {},
     "output_type": "execute_result"
    }
   ],
   "source": [
    "df_recommender_test[\"turns\"]"
   ]
  },
  {
   "cell_type": "code",
   "execution_count": 134,
   "metadata": {},
   "outputs": [
    {
     "data": {
      "text/plain": [
       "12562"
      ]
     },
     "execution_count": 134,
     "metadata": {},
     "output_type": "execute_result"
    }
   ],
   "source": [
    "num_dialog"
   ]
  },
  {
   "cell_type": "code",
   "execution_count": 135,
   "metadata": {},
   "outputs": [
    {
     "name": "stdout",
     "output_type": "stream",
     "text": [
      "Average turns per dialog: 23.589555803216047\n"
     ]
    }
   ],
   "source": [
    "print(\"Average turns per dialog:\", total_turns / num_dialog)"
   ]
  },
  {
   "cell_type": "code",
   "execution_count": 136,
   "metadata": {},
   "outputs": [
    {
     "name": "stderr",
     "output_type": "stream",
     "text": [
      "[nltk_data] Downloading package punkt to\n",
      "[nltk_data]     /u/spa-d4/grad/mfe261/nltk_data...\n",
      "[nltk_data]   Package punkt is already up-to-date!\n",
      "[nltk_data] Downloading package stopwords to\n",
      "[nltk_data]     /u/spa-d4/grad/mfe261/nltk_data...\n",
      "[nltk_data]   Package stopwords is already up-to-date!\n"
     ]
    },
    {
     "data": {
      "text/plain": [
       "True"
      ]
     },
     "execution_count": 136,
     "metadata": {},
     "output_type": "execute_result"
    }
   ],
   "source": [
    "# Download the necessary data for tokenization and stopwords\n",
    "nltk.download('punkt')\n",
    "nltk.download('stopwords')\n"
   ]
  },
  {
   "cell_type": "code",
   "execution_count": 137,
   "metadata": {},
   "outputs": [
    {
     "name": "stdout",
     "output_type": "stream",
     "text": [
      "The number of words in the sentence is: 11\n"
     ]
    }
   ],
   "source": [
    "def count_words(sentence):\n",
    "    \"\"\"\n",
    "    Count the number of words in a sentence, excluding punctuation.\n",
    "\n",
    "    Parameters:\n",
    "    sentence (str): The input sentence.\n",
    "\n",
    "    Returns:\n",
    "    int: The number of words in the sentence.\n",
    "    \"\"\"\n",
    "    # Tokenize the sentence into words\n",
    "    words = word_tokenize(sentence)\n",
    "\n",
    "    # Remove punctuation from the list of words\n",
    "    words = [word for word in words if word.isalnum()]\n",
    "\n",
    "    # Count the number of words\n",
    "    word_count = len(words)\n",
    "\n",
    "    return word_count\n",
    "\n",
    "# Sample usage\n",
    "sentence = \"I am kinda shy, but I am trying to improve myself.\"\n",
    "print(\"The number of words in the sentence is:\", count_words(sentence))"
   ]
  },
  {
   "cell_type": "code",
   "execution_count": 138,
   "metadata": {},
   "outputs": [
    {
     "data": {
      "text/plain": [
       "['computer: hi! how can i help you today?',\n",
       " \"human: i'm looking for offline shooting games for my android device.\",\n",
       " \"computer: that's cool! do you want games with easy controls?\",\n",
       " 'human: yes, i prefer games with easy controls.',\n",
       " 'computer: what rating are you looking for in the apps?',\n",
       " 'human: i like apps with at least a 4.7 star rating.',\n",
       " 'computer: are you looking for free apps, or are you open to paying for extra features?',\n",
       " \"human: i'd prefer free apps.\",\n",
       " 'computer: are you okay with apps that have ads?',\n",
       " 'human: a few ads are okay with me.',\n",
       " 'computer: i recommend trying out the stacky dash app.',\n",
       " 'human: can you tell me more about the stacky dash app?',\n",
       " 'computer: it has relaxing gameplay, but some users have mentioned too many ads.',\n",
       " \"human: i'll pass on that app. do you have any other suggestions?\",\n",
       " 'computer: how about trying the hills of steel app?',\n",
       " 'human: tell me more about the hills of steel app.',\n",
       " 'computer: it has multiplayer features and customizable tanks, but there are consistent ads and some faulty features.',\n",
       " \"human: i'll look for another app. any other recommendations?\",\n",
       " 'computer: you might want to consider the last island of survival app.',\n",
       " 'human: can you provide more details about the last island of survival app?',\n",
       " 'computer: some users have mentioned poor optimization.',\n",
       " \"human: thank you for the suggestion, but i'll pass on that one. any other ideas?\",\n",
       " 'computer: you could try the cover fire: offline shooting app.',\n",
       " 'human: what can you tell me about the cover fire: offline shooting app?',\n",
       " 'computer: it offers realistic graphics and offline missions.',\n",
       " \"human: sounds good! i'll give cover fire a try. thank you for the suggestion.\"]"
      ]
     },
     "execution_count": 138,
     "metadata": {},
     "output_type": "execute_result"
    }
   ],
   "source": [
    "turn"
   ]
  },
  {
   "cell_type": "code",
   "execution_count": 139,
   "metadata": {},
   "outputs": [
    {
     "name": "stderr",
     "output_type": "stream",
     "text": [
      "100%|██████████| 8720/8720 [00:18<00:00, 483.73it/s]\n",
      "100%|██████████| 1285/1285 [00:02<00:00, 481.97it/s]\n",
      "100%|██████████| 2557/2557 [00:05<00:00, 477.28it/s]"
     ]
    },
    {
     "name": "stdout",
     "output_type": "stream",
     "text": [
      "Average words per turns: 9.701429477747931\n"
     ]
    },
    {
     "name": "stderr",
     "output_type": "stream",
     "text": [
      "\n"
     ]
    }
   ],
   "source": [
    "total_words = 0\n",
    "\n",
    "for turn in tqdm(df_recommender_train[\"turns\"]):\n",
    "    for each_turn in turn:\n",
    "        if \"computer\" in each_turn:\n",
    "            processed_turn = each_turn[9:]\n",
    "        elif \"human\" in each_turn:\n",
    "            processed_turn = each_turn[6:]\n",
    "        else:\n",
    "            print(\"sth is wrong\")\n",
    "        total_words += count_words(processed_turn)\n",
    "    \n",
    "for turn in tqdm(df_recommender_validation[\"turns\"]):\n",
    "    for each_turn in turn:\n",
    "        if \"computer\" in each_turn:\n",
    "            processed_turn = each_turn[9:]\n",
    "        elif \"human\" in each_turn:\n",
    "            processed_turn = each_turn[6:]\n",
    "        else:\n",
    "            print(\"sth is wrong\")\n",
    "        total_words += count_words(processed_turn)\n",
    "\n",
    "for turn in tqdm(df_recommender_test[\"turns\"]):\n",
    "    for each_turn in turn:\n",
    "        if \"computer\" in each_turn:\n",
    "            processed_turn = each_turn[9:]\n",
    "        elif \"human\" in each_turn:\n",
    "            processed_turn = each_turn[6:]\n",
    "        else:\n",
    "            print(\"sth is wrong\")\n",
    "        total_words += count_words(processed_turn)\n",
    "\n",
    "print(\"Average words per turns:\", total_words / total_turns)\n"
   ]
  },
  {
   "cell_type": "code",
   "execution_count": 112,
   "metadata": {},
   "outputs": [
    {
     "data": {
      "text/plain": [
       "[' city island 5 - building sim',\n",
       " ' truck simulator 2018 : europe',\n",
       " ' ringid- live stream, live tv and online shopping',\n",
       " ' second galaxy',\n",
       " ' kim kardashian: hollywood',\n",
       " ' my little pony: harmony quest',\n",
       " ' parchisi star online',\n",
       " ' property brothers home design',\n",
       " ' voice access',\n",
       " ' solitaire tripeaks: farm and family']"
      ]
     },
     "execution_count": 112,
     "metadata": {},
     "output_type": "execute_result"
    }
   ],
   "source": [
    "df_recommender_test['previous_interactions_array'][35]"
   ]
  },
  {
   "cell_type": "code",
   "execution_count": 141,
   "metadata": {},
   "outputs": [
    {
     "name": "stderr",
     "output_type": "stream",
     "text": [
      "100%|██████████| 8720/8720 [00:00<00:00, 1431985.08it/s]\n",
      "100%|██████████| 1285/1285 [00:00<00:00, 1701288.08it/s]\n",
      "100%|██████████| 2557/2557 [00:00<00:00, 1808572.57it/s]"
     ]
    },
    {
     "name": "stdout",
     "output_type": "stream",
     "text": [
      "Number of previous interactions: 88921\n",
      "Average number of previous interactions: 7.07857029135488\n"
     ]
    },
    {
     "name": "stderr",
     "output_type": "stream",
     "text": [
      "\n"
     ]
    }
   ],
   "source": [
    "total_previous_interactions = 0\n",
    "\n",
    "for previous_interactions in tqdm(df_recommender_train[\"previous_interactions_array\"]):\n",
    "    total_previous_interactions += len(previous_interactions)\n",
    "    \n",
    "for previous_interactions in tqdm(df_recommender_validation[\"previous_interactions_array\"]):\n",
    "    total_previous_interactions += len(previous_interactions)\n",
    "\n",
    "for previous_interactions in tqdm(df_recommender_test[\"previous_interactions_array\"]):\n",
    "    total_previous_interactions += len(previous_interactions)\n",
    "\n",
    "print(\"Number of previous interactions:\", total_previous_interactions)\n",
    "print(\"Average number of previous interactions:\", total_previous_interactions / num_dialog)"
   ]
  },
  {
   "cell_type": "code",
   "execution_count": 163,
   "metadata": {},
   "outputs": [
    {
     "data": {
      "text/plain": [
       "previous_interactions_array\n",
       "1     592\n",
       "10    396\n",
       "2     339\n",
       "3     260\n",
       "0     184\n",
       "4     181\n",
       "5     157\n",
       "6     145\n",
       "7     113\n",
       "8     107\n",
       "9      83\n",
       "Name: count, dtype: int64"
      ]
     },
     "execution_count": 163,
     "metadata": {},
     "output_type": "execute_result"
    }
   ],
   "source": [
    "# Find the length of each array\n",
    "lengths = df_recommender_test[\"previous_interactions_array\"].apply(len)\n",
    "\n",
    "lengths.value_counts()"
   ]
  },
  {
   "cell_type": "code",
   "execution_count": 145,
   "metadata": {},
   "outputs": [
    {
     "name": "stderr",
     "output_type": "stream",
     "text": [
      "100%|██████████| 8720/8720 [00:00<00:00, 1966467.60it/s]\n",
      "100%|██████████| 1285/1285 [00:00<00:00, 1316804.46it/s]\n",
      "100%|██████████| 2557/2557 [00:00<00:00, 2045553.18it/s]"
     ]
    },
    {
     "name": "stdout",
     "output_type": "stream",
     "text": [
      "Number of negative recommendations: 28365\n",
      "Average number of negative recommendations per dialog: 2.258000318420634\n"
     ]
    },
    {
     "name": "stderr",
     "output_type": "stream",
     "text": [
      "\n"
     ]
    }
   ],
   "source": [
    "total_neg_recommended = 0\n",
    "\n",
    "for count_neg_recommended in tqdm(df_recommender_train[\"count_neg_recommended_all\"]):\n",
    "    total_neg_recommended += count_neg_recommended\n",
    "    \n",
    "for count_neg_recommended in tqdm(df_recommender_validation[\"count_neg_recommended_all\"]):\n",
    "    total_neg_recommended += count_neg_recommended\n",
    "\n",
    "for count_neg_recommended in tqdm(df_recommender_test[\"count_neg_recommended_all\"]):\n",
    "    total_neg_recommended += count_neg_recommended\n",
    "\n",
    "print(\"Number of negative recommendations:\", total_neg_recommended)\n",
    "print(\"Average number of negative recommendations per dialog:\", total_neg_recommended / num_dialog)"
   ]
  }
 ],
 "metadata": {
  "kernelspec": {
   "display_name": "Python 3",
   "language": "python",
   "name": "python3"
  },
  "language_info": {
   "codemirror_mode": {
    "name": "ipython",
    "version": 3
   },
   "file_extension": ".py",
   "mimetype": "text/x-python",
   "name": "python",
   "nbconvert_exporter": "python",
   "pygments_lexer": "ipython3",
   "version": "3.9.0"
  }
 },
 "nbformat": 4,
 "nbformat_minor": 2
}
