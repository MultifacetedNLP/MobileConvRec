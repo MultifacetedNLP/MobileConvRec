{
 "cells": [
  {
   "cell_type": "code",
   "execution_count": 1,
   "metadata": {},
   "outputs": [
    {
     "name": "stdout",
     "output_type": "stream",
     "text": [
      "env: CUDA_DEVICE_ORDER=PCI_BUS_ID\n",
      "env: CUDA_VISIBLE_DEVICES=0\n"
     ]
    }
   ],
   "source": [
    "%env CUDA_DEVICE_ORDER=PCI_BUS_ID\n",
    "%env CUDA_VISIBLE_DEVICES=0"
   ]
  },
  {
   "cell_type": "code",
   "execution_count": null,
   "metadata": {},
   "outputs": [],
   "source": [
    "from transformers import GPT2LMHeadModel, GPT2Tokenizer, Trainer, TrainingArguments\n",
    "import torch\n",
    "import os\n",
    "import pandas as pd\n",
    "from tqdm import tqdm\n",
    "from torch.utils.data import Dataset\n",
    "from dataclasses import dataclass\n",
    "from typing import Optional, List\n",
    "from fuzzywuzzy import fuzz\n",
    "import csv\n",
    "import numpy as np\n",
    "import evaluate\n",
    "import torch.nn.functional as F\n",
    "from sklearn.metrics import top_k_accuracy_score, ndcg_score"
   ]
  },
  {
   "cell_type": "code",
   "execution_count": 3,
   "metadata": {},
   "outputs": [],
   "source": [
    "def is_approximate_substring(substring, string, threshold=70):\n",
    "    for i in range(len(string) - len(substring) + 1):\n",
    "        window = string[i:i+len(substring)]\n",
    "        similarity_ratio = fuzz.ratio(substring, window)\n",
    "        if similarity_ratio >= threshold:\n",
    "            return True\n",
    "    return False"
   ]
  },
  {
   "cell_type": "code",
   "execution_count": 4,
   "metadata": {},
   "outputs": [
    {
     "name": "stderr",
     "output_type": "stream",
     "text": [
      "  0%|          | 0/8720 [00:00<?, ?it/s]"
     ]
    },
    {
     "name": "stderr",
     "output_type": "stream",
     "text": [
      "100%|██████████| 8720/8720 [00:25<00:00, 344.27it/s]"
     ]
    },
    {
     "name": "stdout",
     "output_type": "stream",
     "text": [
      "8720\n",
      "8720\n",
      "8720\n",
      "8720\n",
      "\n",
      "number of rows: 8720\n"
     ]
    },
    {
     "name": "stderr",
     "output_type": "stream",
     "text": [
      "\n"
     ]
    }
   ],
   "source": [
    "conversation_training_path = \"data/dataset_v2/training\"\n",
    "\n",
    "user_id = []\n",
    "previous_interactions = []\n",
    "recommended_app_name = []\n",
    "turns = []\n",
    "recommend_indexes = []\n",
    "\n",
    "\n",
    "# List all files in the folder\n",
    "files = os.listdir(conversation_training_path)\n",
    "\n",
    "# Loop through each file in the directory\n",
    "for filename in tqdm(files):\n",
    "    # Construct the full file path\n",
    "    file_path = os.path.join(conversation_training_path, filename)\n",
    "\n",
    "    # Check if the current item is a file\n",
    "    if os.path.isfile(file_path):\n",
    "        # Open and read the file\n",
    "        with open(file_path, 'r') as file:\n",
    "            # Read the content of the file\n",
    "            file_content = file.read().lower()\n",
    "            \n",
    "            # finding the user id\n",
    "            index_1 = file_content.find(\"user's previous interactions\")\n",
    "            user_id.append(file_content[9:index_1].rstrip('\\n'))\n",
    "            \n",
    "            # finding the User's Previous Interactions\n",
    "            index_2 = file_content.find(\"recommended app name:\")\n",
    "            previous_interactions_arr = file_content[index_1+29:index_2].rstrip('\\n').split(\"app name:\")\n",
    "            previous_interactions_arr_filtered = []\n",
    "            for previous_interaction in previous_interactions_arr[1:]:\n",
    "                previous_interactions_arr_filtered.append(previous_interaction[:previous_interaction.find(\" | \")])\n",
    "            if len(previous_interactions_arr_filtered) > 0:\n",
    "                previous_interactions.append(\",\".join(previous_interactions_arr_filtered))\n",
    "            else:\n",
    "                previous_interactions.append(None)\n",
    "            \n",
    "            # finding recommended app name\n",
    "            index_3 = file_content[index_2:].find(\"package name\")\n",
    "            recommended = file_content[index_2+22:index_2+index_3-3].rstrip('\\n')\n",
    "            recommended_app_name.append(recommended)\n",
    "            \n",
    "            # finding each turns\n",
    "            dialog_turns = []\n",
    "            dialog_index = 0\n",
    "            COMPUTER_index = file_content.find(\"computer:\")\n",
    "            file_content = file_content[COMPUTER_index:]\n",
    "            found_recommender = False\n",
    "            while True:\n",
    "                HUMAN_index = file_content.find(\"human:\")\n",
    "                if HUMAN_index == -1:\n",
    "                    break\n",
    "                turn = file_content[:HUMAN_index].rstrip('\\n') # computer dialog\n",
    "                if (recommended in turn) and not found_recommender:\n",
    "                    recommend_indexes.append(dialog_index)\n",
    "                    found_recommender = True\n",
    "                dialog_turns.append(turn)\n",
    "                dialog_index +=1\n",
    "                file_content = file_content[HUMAN_index:]\n",
    "                \n",
    "                COMPUTER_index = file_content.find(\"computer:\")\n",
    "                turn = file_content[:COMPUTER_index].rstrip('\\n') # human dialog\n",
    "                dialog_turns.append(turn)\n",
    "                dialog_index +=1\n",
    "                file_content = file_content[COMPUTER_index:]\n",
    "                \n",
    "            if not found_recommender: # approximately finding the recommender turn\n",
    "                for i, dialog_turn in enumerate(dialog_turns):\n",
    "                    if is_approximate_substring(recommended, dialog_turn):\n",
    "                        recommend_indexes.append(i)\n",
    "                        found_recommender = True\n",
    "                        break\n",
    "                    \n",
    "            if not found_recommender:\n",
    "                recommend_indexes.append(-1)\n",
    "                        \n",
    "            turns.append(dialog_turns)\n",
    "\n",
    "print(len(user_id))\n",
    "print(len(previous_interactions))\n",
    "print(len(recommended_app_name))\n",
    "print(len(recommend_indexes))\n",
    "df_recommender_train = pd.DataFrame({\"user_id\": user_id, \"previous_interactions\":previous_interactions, \"recommended_app_name\":recommended_app_name, \"turns\": turns, \"recommend_indexes\":recommend_indexes})\n",
    "print(f\"\\nnumber of rows: {len(df_recommender_train)}\")"
   ]
  },
  {
   "cell_type": "code",
   "execution_count": 5,
   "metadata": {},
   "outputs": [],
   "source": [
    "df_recommender_train = df_recommender_train[(df_recommender_train[\"recommend_indexes\"] != -1) & (df_recommender_train[\"turns\"].apply(lambda x: len(x) > 0))]"
   ]
  },
  {
   "cell_type": "code",
   "execution_count": 6,
   "metadata": {},
   "outputs": [],
   "source": [
    "apps_training_path = \"data/master_app_data_V1_true.csv\"\n",
    "\n",
    "all_apps = []\n",
    "with open(apps_training_path, 'r') as csv_file:\n",
    "    csv_reader = csv.DictReader(csv_file)\n",
    "    for row in csv_reader:\n",
    "        all_apps.append(row[\"app_name\"].lower())"
   ]
  },
  {
   "cell_type": "code",
   "execution_count": 7,
   "metadata": {},
   "outputs": [],
   "source": [
    "def fix_recommended_apps_names(row):\n",
    "    if row[\"recommended_app_name\"] not in all_apps:\n",
    "        for app in all_apps:\n",
    "            if fuzz.ratio(row[\"recommended_app_name\"], app) > 80:\n",
    "                return app\n",
    "        return \"uno!™\"\n",
    "    else:\n",
    "        return row[\"recommended_app_name\"]\n",
    "\n",
    "df_recommender_train['recommended_app_name'] = df_recommender_train.apply(fix_recommended_apps_names, axis=1)"
   ]
  },
  {
   "cell_type": "code",
   "execution_count": 8,
   "metadata": {},
   "outputs": [
    {
     "name": "stdout",
     "output_type": "stream",
     "text": [
      "0\n",
      "0\n",
      "8644\n"
     ]
    }
   ],
   "source": [
    "counter = 0\n",
    "counter_not_found = 0\n",
    "found = False\n",
    "recommended_apps = df_recommender_train['recommended_app_name'].values\n",
    "for recommended in recommended_apps:\n",
    "    if recommended not in all_apps:\n",
    "        found = False\n",
    "        for app in all_apps:\n",
    "            if fuzz.ratio(recommended, app) > 80:\n",
    "                print(recommended, app)\n",
    "                found = True\n",
    "                break\n",
    "        if not found:\n",
    "            counter_not_found += 1\n",
    "            print(recommended, \"not found\")\n",
    "        counter += 1\n",
    "        \n",
    "        \n",
    "print(counter)\n",
    "print(counter_not_found)\n",
    "print(len(recommended_apps))"
   ]
  },
  {
   "cell_type": "code",
   "execution_count": 9,
   "metadata": {},
   "outputs": [],
   "source": [
    "max_existing_length = max(len(item) for item in all_apps)  # Max length in current array\n",
    "new_dtype = f'<U{max_existing_length}'\n",
    "\n",
    "def candidate_creator(row):\n",
    "    selected_values = np.random.choice(np.setdiff1d(all_apps, [row[\"recommended_app_name\"]]), 24, replace=False).astype(new_dtype)\n",
    "    random_position = np.random.randint(0, len(selected_values) + 1)\n",
    "    \n",
    "    return np.insert(selected_values, random_position, row[\"recommended_app_name\"]) \n",
    "\n",
    "df_recommender_train['candidate_apps'] = df_recommender_train.apply(candidate_creator, axis=1)"
   ]
  },
  {
   "cell_type": "code",
   "execution_count": 10,
   "metadata": {},
   "outputs": [
    {
     "data": {
      "text/plain": [
       "'audiomack-stream music offline'"
      ]
     },
     "execution_count": 10,
     "metadata": {},
     "output_type": "execute_result"
    }
   ],
   "source": [
    "df_recommender_train[\"recommended_app_name\"][874] "
   ]
  },
  {
   "cell_type": "code",
   "execution_count": 11,
   "metadata": {},
   "outputs": [
    {
     "data": {
      "text/plain": [
       "'computer: in that case, i recommend trying audiomack-stream music offline app.'"
      ]
     },
     "execution_count": 11,
     "metadata": {},
     "output_type": "execute_result"
    }
   ],
   "source": [
    "df_recommender_train[\"turns\"][874][df_recommender_train[\"recommend_indexes\"][874]]"
   ]
  },
  {
   "cell_type": "code",
   "execution_count": 12,
   "metadata": {},
   "outputs": [
    {
     "data": {
      "text/plain": [
       "array(['club vegas slots: casino games', 'cardboard design lab',\n",
       "       'temple run 2', 'puzzles & survival',\n",
       "       'modern combat versus: fps game', 'audiomack-stream music offline',\n",
       "       'world at arms', 'self - build credit & savings',\n",
       "       'idle supermarket tycoon－shop', 'qr & barcode scanner',\n",
       "       'wikipedia', 'manta: unlimited comics',\n",
       "       'who - live video chat & match & meet me',\n",
       "       'truck simulator - truck games', 'paper fold', 'my talking hank',\n",
       "       'whatsapp messenger', 'postknight', 'youtube music',\n",
       "       'gameloft classics: 20 years', 'stumble guys: multiplayer royale',\n",
       "       'noblemen: 1896', 'solitaire ocean', 'blockstarplanet',\n",
       "       'nova launcher'], dtype='<U50')"
      ]
     },
     "execution_count": 12,
     "metadata": {},
     "output_type": "execute_result"
    }
   ],
   "source": [
    "df_recommender_train[\"candidate_apps\"][874]"
   ]
  },
  {
   "cell_type": "code",
   "execution_count": 13,
   "metadata": {},
   "outputs": [
    {
     "name": "stderr",
     "output_type": "stream",
     "text": [
      "  2%|▏         | 29/1285 [00:00<00:04, 289.78it/s]"
     ]
    },
    {
     "name": "stderr",
     "output_type": "stream",
     "text": [
      "100%|██████████| 1285/1285 [00:04<00:00, 306.28it/s]"
     ]
    },
    {
     "name": "stdout",
     "output_type": "stream",
     "text": [
      "1285\n",
      "1285\n",
      "1285\n",
      "1285\n",
      "\n",
      "number of rows: 1285\n"
     ]
    },
    {
     "name": "stderr",
     "output_type": "stream",
     "text": [
      "\n"
     ]
    }
   ],
   "source": [
    "conversation_validation_path = \"data/dataset_v2/validation\"\n",
    "\n",
    "user_id = []\n",
    "previous_interactions = []\n",
    "recommended_app_name = []\n",
    "turns = []\n",
    "recommend_indexes = []\n",
    "\n",
    "\n",
    "# List all files in the folder\n",
    "files = os.listdir(conversation_validation_path)\n",
    "\n",
    "# Loop through each file in the directory\n",
    "for filename in tqdm(files):\n",
    "    # Construct the full file path\n",
    "    file_path = os.path.join(conversation_validation_path, filename)\n",
    "\n",
    "    # Check if the current item is a file\n",
    "    if os.path.isfile(file_path):\n",
    "        # Open and read the file\n",
    "        with open(file_path, 'r') as file:\n",
    "            # Read the content of the file\n",
    "            file_content = file.read().lower()\n",
    "            \n",
    "            # finding the user id\n",
    "            index_1 = file_content.find(\"user's previous interactions\")\n",
    "            user_id.append(file_content[9:index_1].rstrip('\\n'))\n",
    "            \n",
    "            # finding the User's Previous Interactions\n",
    "            index_2 = file_content.find(\"recommended app name:\")\n",
    "            previous_interactions_arr = file_content[index_1+29:index_2].rstrip('\\n').split(\"app name:\")\n",
    "            previous_interactions_arr_filtered = []\n",
    "            for previous_interaction in previous_interactions_arr[1:]:\n",
    "                previous_interactions_arr_filtered.append(previous_interaction[:previous_interaction.find(\" | \")])\n",
    "            if len(previous_interactions_arr_filtered) > 0:\n",
    "                previous_interactions.append(\",\".join(previous_interactions_arr_filtered))\n",
    "            else:\n",
    "                previous_interactions.append(None)\n",
    "            \n",
    "            # finding recommended app name\n",
    "            index_3 = file_content[index_2:].find(\"package name\")\n",
    "            recommended = file_content[index_2+22:index_2+index_3-3].rstrip('\\n')\n",
    "            recommended_app_name.append(recommended)\n",
    "            \n",
    "            # finding each turns\n",
    "            dialog_turns = []\n",
    "            dialog_index = 0\n",
    "            COMPUTER_index = file_content.find(\"computer:\")\n",
    "            file_content = file_content[COMPUTER_index:]\n",
    "            found_recommender = False\n",
    "            while True:\n",
    "                HUMAN_index = file_content.find(\"human:\")\n",
    "                if HUMAN_index == -1:\n",
    "                    break\n",
    "                turn = file_content[:HUMAN_index].rstrip('\\n') # computer dialog\n",
    "                if (recommended in turn) and not found_recommender:\n",
    "                    recommend_indexes.append(dialog_index)\n",
    "                    found_recommender = True\n",
    "                dialog_turns.append(turn)\n",
    "                dialog_index +=1\n",
    "                file_content = file_content[HUMAN_index:]\n",
    "                \n",
    "                COMPUTER_index = file_content.find(\"computer:\")\n",
    "                turn = file_content[:COMPUTER_index].rstrip('\\n') # human dialog\n",
    "                dialog_turns.append(turn)\n",
    "                dialog_index +=1\n",
    "                file_content = file_content[COMPUTER_index:]\n",
    "                \n",
    "            if not found_recommender: # approximately finding the recommender turn\n",
    "                for i, dialog_turn in enumerate(dialog_turns):\n",
    "                    if is_approximate_substring(recommended, dialog_turn):\n",
    "                        recommend_indexes.append(i)\n",
    "                        found_recommender = True\n",
    "                        break\n",
    "                    \n",
    "            if not found_recommender:\n",
    "                recommend_indexes.append(-1)\n",
    "                        \n",
    "            turns.append(dialog_turns)\n",
    "\n",
    "print(len(user_id))\n",
    "print(len(previous_interactions))\n",
    "print(len(recommended_app_name))\n",
    "print(len(recommend_indexes))\n",
    "df_recommender_validation = pd.DataFrame({\"user_id\": user_id, \"previous_interactions\":previous_interactions, \"recommended_app_name\":recommended_app_name, \"turns\": turns, \"recommend_indexes\":recommend_indexes})\n",
    "print(f\"\\nnumber of rows: {len(df_recommender_validation)}\")"
   ]
  },
  {
   "cell_type": "code",
   "execution_count": 14,
   "metadata": {},
   "outputs": [],
   "source": [
    "df_recommender_validation = df_recommender_validation[(df_recommender_validation[\"recommend_indexes\"] != -1) & (df_recommender_validation[\"turns\"].apply(lambda x: len(x) > 0))]"
   ]
  },
  {
   "cell_type": "code",
   "execution_count": 15,
   "metadata": {},
   "outputs": [
    {
     "name": "stdout",
     "output_type": "stream",
     "text": [
      "0\n",
      "0\n"
     ]
    }
   ],
   "source": [
    "count = 0\n",
    "for turn in df_recommender_validation['turns']:\n",
    "    if len(turn) == 0:\n",
    "        count += 1\n",
    "print(count)\n",
    "\n",
    "count = 0\n",
    "for recommend_index in df_recommender_validation['recommend_indexes']:\n",
    "    if recommend_index == -1:\n",
    "        count += 1\n",
    "print(count)"
   ]
  },
  {
   "cell_type": "code",
   "execution_count": 16,
   "metadata": {},
   "outputs": [],
   "source": [
    "def fix_recommended_apps_names(row):\n",
    "    if row[\"recommended_app_name\"] not in all_apps:\n",
    "        for app in all_apps:\n",
    "            if fuzz.ratio(row[\"recommended_app_name\"], app) > 80:\n",
    "                return app\n",
    "        return \"uno!™\"\n",
    "    else:\n",
    "        return row[\"recommended_app_name\"]\n",
    "\n",
    "df_recommender_validation['recommended_app_name'] = df_recommender_validation.apply(fix_recommended_apps_names, axis=1)"
   ]
  },
  {
   "cell_type": "code",
   "execution_count": 18,
   "metadata": {},
   "outputs": [],
   "source": [
    "max_existing_length = max(len(item) for item in all_apps)  # Max length in current array\n",
    "new_dtype = f'<U{max_existing_length}'\n",
    "\n",
    "def candidate_creator(row):\n",
    "    selected_values = np.random.choice(np.setdiff1d(all_apps, [row[\"recommended_app_name\"]]), 24, replace=False).astype(new_dtype)\n",
    "    random_position = np.random.randint(0, len(selected_values) + 1)\n",
    "    \n",
    "    return np.insert(selected_values, random_position, row[\"recommended_app_name\"]) \n",
    "\n",
    "df_recommender_validation['candidate_apps'] = df_recommender_validation.apply(candidate_creator, axis=1)"
   ]
  },
  {
   "cell_type": "code",
   "execution_count": 19,
   "metadata": {},
   "outputs": [
    {
     "data": {
      "text/html": [
       "<div>\n",
       "<style scoped>\n",
       "    .dataframe tbody tr th:only-of-type {\n",
       "        vertical-align: middle;\n",
       "    }\n",
       "\n",
       "    .dataframe tbody tr th {\n",
       "        vertical-align: top;\n",
       "    }\n",
       "\n",
       "    .dataframe thead th {\n",
       "        text-align: right;\n",
       "    }\n",
       "</style>\n",
       "<table border=\"1\" class=\"dataframe\">\n",
       "  <thead>\n",
       "    <tr style=\"text-align: right;\">\n",
       "      <th></th>\n",
       "      <th>user_id</th>\n",
       "      <th>previous_interactions</th>\n",
       "      <th>recommended_app_name</th>\n",
       "      <th>turns</th>\n",
       "      <th>recommend_indexes</th>\n",
       "      <th>candidate_apps</th>\n",
       "    </tr>\n",
       "  </thead>\n",
       "  <tbody>\n",
       "    <tr>\n",
       "      <th>0</th>\n",
       "      <td>qwttxhjcryqhatgb</td>\n",
       "      <td>None</td>\n",
       "      <td>wattpad - read &amp; write stories</td>\n",
       "      <td>[computer: hi there! how can i help you today?...</td>\n",
       "      <td>18</td>\n",
       "      <td>[rider, novelcat-read &amp; write stories, keepcle...</td>\n",
       "    </tr>\n",
       "    <tr>\n",
       "      <th>1</th>\n",
       "      <td>tugk24mlf1qvjzba</td>\n",
       "      <td>flight sim 2018</td>\n",
       "      <td>paytm -upi, money transfer, recharge, bill pay...</td>\n",
       "      <td>[computer: hi there! what brings you here toda...</td>\n",
       "      <td>24</td>\n",
       "      <td>[paytm -upi, money transfer, recharge, bill pa...</td>\n",
       "    </tr>\n",
       "    <tr>\n",
       "      <th>2</th>\n",
       "      <td>hjbzfrhcuq2pxoma</td>\n",
       "      <td>dealdash - bid &amp; save auctions, heart's medic...</td>\n",
       "      <td>wood block puzzle - block game</td>\n",
       "      <td>[computer: hey there! how can i help you today...</td>\n",
       "      <td>20</td>\n",
       "      <td>[myheritage: family tree &amp; dna, amazon kindle,...</td>\n",
       "    </tr>\n",
       "    <tr>\n",
       "      <th>3</th>\n",
       "      <td>0zm4n7djyrppfrgx</td>\n",
       "      <td>dangerous fellows: otome game, painnt - pro a...</td>\n",
       "      <td>dynamons 2</td>\n",
       "      <td>[computer: hey there! what are you looking for...</td>\n",
       "      <td>24</td>\n",
       "      <td>[animation throwdown: epic ccg, walk band - mu...</td>\n",
       "    </tr>\n",
       "    <tr>\n",
       "      <th>4</th>\n",
       "      <td>2c7ofjyraazmwgr3</td>\n",
       "      <td>bumble - dating. friends. bizz, music player ...</td>\n",
       "      <td>2 player games : the challenge</td>\n",
       "      <td>[computer: hello! how can i help you today?, h...</td>\n",
       "      <td>20</td>\n",
       "      <td>[toca life world: build stories, 2 player game...</td>\n",
       "    </tr>\n",
       "    <tr>\n",
       "      <th>...</th>\n",
       "      <td>...</td>\n",
       "      <td>...</td>\n",
       "      <td>...</td>\n",
       "      <td>...</td>\n",
       "      <td>...</td>\n",
       "      <td>...</td>\n",
       "    </tr>\n",
       "    <tr>\n",
       "      <th>1280</th>\n",
       "      <td>chyzv6ycokrxisoo</td>\n",
       "      <td>vector, command &amp; conquer: rivalsãâ¢ãâãâ¢...</td>\n",
       "      <td>my talking hank</td>\n",
       "      <td>[computer: hello! how can i help you today?, h...</td>\n",
       "      <td>22</td>\n",
       "      <td>[rider, cookie swirl world, foxnovel - read st...</td>\n",
       "    </tr>\n",
       "    <tr>\n",
       "      <th>1281</th>\n",
       "      <td>pfin90inkk8rauwn</td>\n",
       "      <td>wattpad beta, soccer star 22 top leagues, rai...</td>\n",
       "      <td>pinterest</td>\n",
       "      <td>[computer: hi there! how can i help you today?...</td>\n",
       "      <td>20</td>\n",
       "      <td>[foxnovel - read stories &amp;  books, pinterest, ...</td>\n",
       "    </tr>\n",
       "    <tr>\n",
       "      <th>1282</th>\n",
       "      <td>rog58g9ofnggpobe</td>\n",
       "      <td>journey: diary, journal, my ooredoo myanmar, ...</td>\n",
       "      <td>lego® friends: heartlake rush</td>\n",
       "      <td>[computer: hey there! what can i help you find...</td>\n",
       "      <td>24</td>\n",
       "      <td>[keepclean - cleaner &amp; booster, sweet escapes:...</td>\n",
       "    </tr>\n",
       "    <tr>\n",
       "      <th>1283</th>\n",
       "      <td>5s1a0sasi88h3mcq</td>\n",
       "      <td>age of war 2, noblemen: 1896, groupon ãâ¢ãâ...</td>\n",
       "      <td>human anatomy atlas 2021: complete 3d human body</td>\n",
       "      <td>[computer: hi there! what are you looking for ...</td>\n",
       "      <td>12</td>\n",
       "      <td>[google go: a lighter, faster way to search, p...</td>\n",
       "    </tr>\n",
       "    <tr>\n",
       "      <th>1284</th>\n",
       "      <td>mlzi40v2kprwwi8x</td>\n",
       "      <td>chrome canary (unstable), colornote notepad n...</td>\n",
       "      <td>phoenix browser - fast &amp; safe</td>\n",
       "      <td>[computer: hey there! what brings you here tod...</td>\n",
       "      <td>18</td>\n",
       "      <td>[pokémon go, solitaire grand harvest, audible:...</td>\n",
       "    </tr>\n",
       "  </tbody>\n",
       "</table>\n",
       "<p>1267 rows × 6 columns</p>\n",
       "</div>"
      ],
      "text/plain": [
       "               user_id                              previous_interactions  \\\n",
       "0     qwttxhjcryqhatgb                                               None   \n",
       "1     tugk24mlf1qvjzba                                    flight sim 2018   \n",
       "2     hjbzfrhcuq2pxoma   dealdash - bid & save auctions, heart's medic...   \n",
       "3     0zm4n7djyrppfrgx   dangerous fellows: otome game, painnt - pro a...   \n",
       "4     2c7ofjyraazmwgr3   bumble - dating. friends. bizz, music player ...   \n",
       "...                ...                                                ...   \n",
       "1280  chyzv6ycokrxisoo   vector, command & conquer: rivalsãâ¢ãâãâ¢...   \n",
       "1281  pfin90inkk8rauwn   wattpad beta, soccer star 22 top leagues, rai...   \n",
       "1282  rog58g9ofnggpobe   journey: diary, journal, my ooredoo myanmar, ...   \n",
       "1283  5s1a0sasi88h3mcq   age of war 2, noblemen: 1896, groupon ãâ¢ãâ...   \n",
       "1284  mlzi40v2kprwwi8x   chrome canary (unstable), colornote notepad n...   \n",
       "\n",
       "                                   recommended_app_name  \\\n",
       "0                        wattpad - read & write stories   \n",
       "1     paytm -upi, money transfer, recharge, bill pay...   \n",
       "2                        wood block puzzle - block game   \n",
       "3                                            dynamons 2   \n",
       "4                        2 player games : the challenge   \n",
       "...                                                 ...   \n",
       "1280                                    my talking hank   \n",
       "1281                                          pinterest   \n",
       "1282                      lego® friends: heartlake rush   \n",
       "1283   human anatomy atlas 2021: complete 3d human body   \n",
       "1284                      phoenix browser - fast & safe   \n",
       "\n",
       "                                                  turns  recommend_indexes  \\\n",
       "0     [computer: hi there! how can i help you today?...                 18   \n",
       "1     [computer: hi there! what brings you here toda...                 24   \n",
       "2     [computer: hey there! how can i help you today...                 20   \n",
       "3     [computer: hey there! what are you looking for...                 24   \n",
       "4     [computer: hello! how can i help you today?, h...                 20   \n",
       "...                                                 ...                ...   \n",
       "1280  [computer: hello! how can i help you today?, h...                 22   \n",
       "1281  [computer: hi there! how can i help you today?...                 20   \n",
       "1282  [computer: hey there! what can i help you find...                 24   \n",
       "1283  [computer: hi there! what are you looking for ...                 12   \n",
       "1284  [computer: hey there! what brings you here tod...                 18   \n",
       "\n",
       "                                         candidate_apps  \n",
       "0     [rider, novelcat-read & write stories, keepcle...  \n",
       "1     [paytm -upi, money transfer, recharge, bill pa...  \n",
       "2     [myheritage: family tree & dna, amazon kindle,...  \n",
       "3     [animation throwdown: epic ccg, walk band - mu...  \n",
       "4     [toca life world: build stories, 2 player game...  \n",
       "...                                                 ...  \n",
       "1280  [rider, cookie swirl world, foxnovel - read st...  \n",
       "1281  [foxnovel - read stories &  books, pinterest, ...  \n",
       "1282  [keepclean - cleaner & booster, sweet escapes:...  \n",
       "1283  [google go: a lighter, faster way to search, p...  \n",
       "1284  [pokémon go, solitaire grand harvest, audible:...  \n",
       "\n",
       "[1267 rows x 6 columns]"
      ]
     },
     "execution_count": 19,
     "metadata": {},
     "output_type": "execute_result"
    }
   ],
   "source": [
    "df_recommender_validation"
   ]
  },
  {
   "cell_type": "code",
   "execution_count": 20,
   "metadata": {},
   "outputs": [
    {
     "data": {
      "text/html": [
       "<div>\n",
       "<style scoped>\n",
       "    .dataframe tbody tr th:only-of-type {\n",
       "        vertical-align: middle;\n",
       "    }\n",
       "\n",
       "    .dataframe tbody tr th {\n",
       "        vertical-align: top;\n",
       "    }\n",
       "\n",
       "    .dataframe thead th {\n",
       "        text-align: right;\n",
       "    }\n",
       "</style>\n",
       "<table border=\"1\" class=\"dataframe\">\n",
       "  <thead>\n",
       "    <tr style=\"text-align: right;\">\n",
       "      <th></th>\n",
       "      <th>user_id</th>\n",
       "      <th>previous_interactions</th>\n",
       "      <th>recommended_app_name</th>\n",
       "      <th>turns</th>\n",
       "      <th>recommend_indexes</th>\n",
       "      <th>candidate_apps</th>\n",
       "    </tr>\n",
       "  </thead>\n",
       "  <tbody>\n",
       "    <tr>\n",
       "      <th>0</th>\n",
       "      <td>d1o00gcfxa7tj9fc</td>\n",
       "      <td>snipers vs thieves, retro bowl, be the king: ...</td>\n",
       "      <td>weather forecast - accurate local weather &amp; wi...</td>\n",
       "      <td>[computer: hello! how can i assist you today?,...</td>\n",
       "      <td>24</td>\n",
       "      <td>[harry potter: hogwarts mystery, marvel future...</td>\n",
       "    </tr>\n",
       "    <tr>\n",
       "      <th>1</th>\n",
       "      <td>tjfy73vbqa5acgac</td>\n",
       "      <td>daily shopping stories, truck simulator 2018 ...</td>\n",
       "      <td>bridge race</td>\n",
       "      <td>[computer: hi there! what are you looking for ...</td>\n",
       "      <td>18</td>\n",
       "      <td>[toca life: stable, chess, retro bowl, cyber h...</td>\n",
       "    </tr>\n",
       "    <tr>\n",
       "      <th>2</th>\n",
       "      <td>okqwykkowhwv8ppo</td>\n",
       "      <td>shop titans: craft &amp; build, dragon ball z dok...</td>\n",
       "      <td>video editor &amp; maker videoshow</td>\n",
       "      <td>[computer: are you looking for apps that are e...</td>\n",
       "      <td>16</td>\n",
       "      <td>[tile master - classic triple match &amp; puzzle g...</td>\n",
       "    </tr>\n",
       "    <tr>\n",
       "      <th>3</th>\n",
       "      <td>och0j9udd8rwbezp</td>\n",
       "      <td>pepi wonder world: magic isle!, the simsãâ¯ã...</td>\n",
       "      <td>ludo star</td>\n",
       "      <td>[computer: hi! how can i help you today?, huma...</td>\n",
       "      <td>24</td>\n",
       "      <td>[plants vs. zombies free, flow free, raid: sha...</td>\n",
       "    </tr>\n",
       "    <tr>\n",
       "      <th>4</th>\n",
       "      <td>86ckfhrgr3my1asp</td>\n",
       "      <td>microsoft onenote: save ideas and organize no...</td>\n",
       "      <td>xender - share music transfer</td>\n",
       "      <td>[computer: hey there! what can i help you with...</td>\n",
       "      <td>22</td>\n",
       "      <td>[monstercrafter, hackers, roku - official remo...</td>\n",
       "    </tr>\n",
       "    <tr>\n",
       "      <th>...</th>\n",
       "      <td>...</td>\n",
       "      <td>...</td>\n",
       "      <td>...</td>\n",
       "      <td>...</td>\n",
       "      <td>...</td>\n",
       "      <td>...</td>\n",
       "    </tr>\n",
       "    <tr>\n",
       "      <th>8715</th>\n",
       "      <td>dkfqslrdxlhbegdr</td>\n",
       "      <td>None</td>\n",
       "      <td>true fear: forsaken souls 1</td>\n",
       "      <td>[computer: hi there! how can i help you today?...</td>\n",
       "      <td>24</td>\n",
       "      <td>[drop the number® : merge game, tennis clash: ...</td>\n",
       "    </tr>\n",
       "    <tr>\n",
       "      <th>8716</th>\n",
       "      <td>8lw0qo1crrzsoef9</td>\n",
       "      <td>macy's, play to win: win real money, opera ne...</td>\n",
       "      <td>hill climb racing 2</td>\n",
       "      <td>[computer: hey there! how can i help you today...</td>\n",
       "      <td>16</td>\n",
       "      <td>[bbc learning english, twitch: live game strea...</td>\n",
       "    </tr>\n",
       "    <tr>\n",
       "      <th>8717</th>\n",
       "      <td>xqbiugex5rwctlsp</td>\n",
       "      <td>jurassic world alive, google classroom</td>\n",
       "      <td>zombie catchers – love to hunt</td>\n",
       "      <td>[computer: sure thing! what kinds of zombie hu...</td>\n",
       "      <td>22</td>\n",
       "      <td>[animal jam, hp smart, streamer rush, sky danc...</td>\n",
       "    </tr>\n",
       "    <tr>\n",
       "      <th>8718</th>\n",
       "      <td>xpo2xk6chiiygdp3</td>\n",
       "      <td>playmobil luxury mansion, into the dead 2, sc...</td>\n",
       "      <td>township</td>\n",
       "      <td>[computer: hi there! how can i help you today?...</td>\n",
       "      <td>20</td>\n",
       "      <td>[bingo showdown - bingo games, streamkar - liv...</td>\n",
       "    </tr>\n",
       "    <tr>\n",
       "      <th>8719</th>\n",
       "      <td>xm36yeto9tlqbfsa</td>\n",
       "      <td>None</td>\n",
       "      <td>video maker</td>\n",
       "      <td>[computer: hi there! what brings you here toda...</td>\n",
       "      <td>2</td>\n",
       "      <td>[marvel future fight, video maker, good pizza,...</td>\n",
       "    </tr>\n",
       "  </tbody>\n",
       "</table>\n",
       "<p>8644 rows × 6 columns</p>\n",
       "</div>"
      ],
      "text/plain": [
       "               user_id                              previous_interactions  \\\n",
       "0     d1o00gcfxa7tj9fc   snipers vs thieves, retro bowl, be the king: ...   \n",
       "1     tjfy73vbqa5acgac   daily shopping stories, truck simulator 2018 ...   \n",
       "2     okqwykkowhwv8ppo   shop titans: craft & build, dragon ball z dok...   \n",
       "3     och0j9udd8rwbezp   pepi wonder world: magic isle!, the simsãâ¯ã...   \n",
       "4     86ckfhrgr3my1asp   microsoft onenote: save ideas and organize no...   \n",
       "...                ...                                                ...   \n",
       "8715  dkfqslrdxlhbegdr                                               None   \n",
       "8716  8lw0qo1crrzsoef9   macy's, play to win: win real money, opera ne...   \n",
       "8717  xqbiugex5rwctlsp             jurassic world alive, google classroom   \n",
       "8718  xpo2xk6chiiygdp3   playmobil luxury mansion, into the dead 2, sc...   \n",
       "8719  xm36yeto9tlqbfsa                                               None   \n",
       "\n",
       "                                   recommended_app_name  \\\n",
       "0     weather forecast - accurate local weather & wi...   \n",
       "1                                           bridge race   \n",
       "2                        video editor & maker videoshow   \n",
       "3                                             ludo star   \n",
       "4                         xender - share music transfer   \n",
       "...                                                 ...   \n",
       "8715                        true fear: forsaken souls 1   \n",
       "8716                                hill climb racing 2   \n",
       "8717                     zombie catchers – love to hunt   \n",
       "8718                                           township   \n",
       "8719                                        video maker   \n",
       "\n",
       "                                                  turns  recommend_indexes  \\\n",
       "0     [computer: hello! how can i assist you today?,...                 24   \n",
       "1     [computer: hi there! what are you looking for ...                 18   \n",
       "2     [computer: are you looking for apps that are e...                 16   \n",
       "3     [computer: hi! how can i help you today?, huma...                 24   \n",
       "4     [computer: hey there! what can i help you with...                 22   \n",
       "...                                                 ...                ...   \n",
       "8715  [computer: hi there! how can i help you today?...                 24   \n",
       "8716  [computer: hey there! how can i help you today...                 16   \n",
       "8717  [computer: sure thing! what kinds of zombie hu...                 22   \n",
       "8718  [computer: hi there! how can i help you today?...                 20   \n",
       "8719  [computer: hi there! what brings you here toda...                  2   \n",
       "\n",
       "                                         candidate_apps  \n",
       "0     [harry potter: hogwarts mystery, marvel future...  \n",
       "1     [toca life: stable, chess, retro bowl, cyber h...  \n",
       "2     [tile master - classic triple match & puzzle g...  \n",
       "3     [plants vs. zombies free, flow free, raid: sha...  \n",
       "4     [monstercrafter, hackers, roku - official remo...  \n",
       "...                                                 ...  \n",
       "8715  [drop the number® : merge game, tennis clash: ...  \n",
       "8716  [bbc learning english, twitch: live game strea...  \n",
       "8717  [animal jam, hp smart, streamer rush, sky danc...  \n",
       "8718  [bingo showdown - bingo games, streamkar - liv...  \n",
       "8719  [marvel future fight, video maker, good pizza,...  \n",
       "\n",
       "[8644 rows x 6 columns]"
      ]
     },
     "execution_count": 20,
     "metadata": {},
     "output_type": "execute_result"
    }
   ],
   "source": [
    "df_recommender_train"
   ]
  },
  {
   "cell_type": "code",
   "execution_count": 21,
   "metadata": {},
   "outputs": [
    {
     "data": {
      "text/plain": [
       "'sonic dash - endless running'"
      ]
     },
     "execution_count": 21,
     "metadata": {},
     "output_type": "execute_result"
    }
   ],
   "source": [
    "df_recommender_validation[\"recommended_app_name\"][213]"
   ]
  },
  {
   "cell_type": "code",
   "execution_count": 22,
   "metadata": {},
   "outputs": [
    {
     "data": {
      "text/plain": [
       "array(['novelcat-read & write stories', 'audible: audiobooks & podcasts',\n",
       "       'pokémon go', 'readict -one click away novels',\n",
       "       'toca life world: build stories', 'solitaire grand harvest',\n",
       "       'dhgate-online wholesale stores', 'standoff 2', 'archero',\n",
       "       'walk band - multitracks music', 'rider',\n",
       "       'google go: a lighter, faster way to search',\n",
       "       'wattpad - read & write stories', 'norton secure vpn: wi-fi proxy',\n",
       "       'asphalt 8 - car racing game', 'animation throwdown: epic ccg',\n",
       "       'pixellab - text on pictures', 'sonic dash - endless running',\n",
       "       'stickman vs zombies', 'foxnovel - read stories &  books',\n",
       "       'dreame', 'keepclean - cleaner & booster',\n",
       "       'sweet escapes: design a bakery with puzzle games',\n",
       "       'amazon kindle', 'cookie swirl world'], dtype='<U50')"
      ]
     },
     "execution_count": 22,
     "metadata": {},
     "output_type": "execute_result"
    }
   ],
   "source": [
    "df_recommender_validation[\"candidate_apps\"][213]"
   ]
  },
  {
   "cell_type": "code",
   "execution_count": null,
   "metadata": {},
   "outputs": [],
   "source": [
    "model_checkpoint = \"gpt2\"\n",
    "bos = '<|startoftext|>'\n",
    "eos = '<|endoftext|>'\n",
    "pad = '<|pad|>'\n",
    "\n",
    "device = torch.device(\"cuda\" if torch.cuda.is_available() else \"cpu\")\n",
    "\n",
    "tokenizer = GPT2Tokenizer.from_pretrained(model_checkpoint, bos_token=bos, eos_token=eos, pad_token=pad, additional_special_tokens=[\"computer:\", \"human:\", \"candidate_apps:\", \"previous_interactions:\"])\n",
    "\n",
    "model = GPT2LMHeadModel.from_pretrained(model_checkpoint).to(device)\n",
    "model.resize_token_embeddings(len(tokenizer))\n",
    "model_max_length=1024"
   ]
  },
  {
   "cell_type": "code",
   "execution_count": 24,
   "metadata": {},
   "outputs": [],
   "source": [
    "@dataclass\n",
    "class RecommenderItem:\n",
    "    prompt: str\n",
    "    generation: Optional[str] = None\n",
    "    \n",
    "class recommenderDataset(Dataset):\n",
    "    def __init__(self, data: List[RecommenderItem]):\n",
    "        self.data = data\n",
    "\n",
    "    def __len__(self):\n",
    "        return len(self.data)\n",
    "\n",
    "    def __getitem__(self, idx) -> RecommenderItem:\n",
    "        return self.data[idx]"
   ]
  },
  {
   "cell_type": "code",
   "execution_count": 25,
   "metadata": {},
   "outputs": [],
   "source": [
    "items_validation = []\n",
    "for _, row in df_recommender_validation.iterrows():\n",
    "    if row[\"previous_interactions\"] is not None:\n",
    "        prompt = bos + \"previous_interactions:\" + row[\"previous_interactions\"] + \"\\n\"\n",
    "    else:\n",
    "        prompt = bos + \"previous_interactions: No previous interactions\" + \"\\n\"\n",
    "    for index, turn in enumerate(row[\"turns\"]):\n",
    "        if index < row[\"recommend_indexes\"]:\n",
    "            prompt += turn + \"\\n\"\n",
    "        elif index == row[\"recommend_indexes\"]:\n",
    "            prompt += \"candidate_apps: \"\n",
    "            for app in row[\"candidate_apps\"]:\n",
    "                prompt += \"'\" + app + \"', \"\n",
    "            prompt += \"\\n\"\n",
    "            prompt += \"computer: I would recommend the \"\n",
    "            items_validation.append(RecommenderItem(prompt, row[\"recommended_app_name\"] + \" app.\" + eos))\n",
    "            break\n",
    "        else:\n",
    "            print(\"error!!\")"
   ]
  },
  {
   "cell_type": "code",
   "execution_count": 26,
   "metadata": {},
   "outputs": [
    {
     "data": {
      "text/plain": [
       "\"<|startoftext|>previous_interactions: bumble - dating. friends. bizz, music player & mp3 player - lark player, cooking craze: restaurant game, critical ops: multiplayer fps, imgur: funny memes & gif maker, bingo abradoodle: mobile bingo, alfredcamera home security app, good pizza, great pizza, art of war 3:rts strategy game, snake rivals - fun snake game\\ncomputer: hello! how can i help you today?\\nhuman: i'm looking for multiplayer minigames apps for android. any suggestions?\\ncomputer: are you interested in apps that focus on gaming for bonding?\\nhuman: yes, that's what i'm looking for.\\ncomputer: do you mind if the apps have ads or in-app purchases?\\nhuman: i'm okay with apps that have ads and offers in-app purchases.\\ncomputer: do you have a preference for the content rating?\\nhuman: i prefer apps with an 'everyone' rating.\\ncomputer: how many reviews are you looking for in an app?\\nhuman: i prefer apps with a lot of reviews, like 1m.\\ncomputer: are you looking for a free app or would you consider paying for additional features?\\nhuman: i prefer free apps.\\ncomputer: based on your preferences, you might like stickman party: 1 2 3 4 player games free app.\\nhuman: can you tell me more about stickman party: 1 2 3 4 player games free?\\ncomputer: it has a wide variety of multiplayer games, though some users mentioned it's 'pay to win'. interested in trying it out?\\nhuman: i'd prefer to avoid 'pay to win'. can you recommend another app?\\ncomputer: how about brothers in armsã\\x83â¯ã\\x82â¿ã\\x82â½ 3? would you like to consider it?\\nhuman: how does this app handle energy?\\ncomputer: some users reported that it has 'expensive consumables'.\\nhuman: i think i'll pass on this one. i don't want expensive consumables.\\ncandidate_apps: 'toca life world: build stories', '2 player games : the challenge', 'pixellab - text on pictures', 'standoff 2', 'amazon kindle', 'audible: audiobooks & podcasts', 'pokémon go', 'keepclean - cleaner & booster', 'myheritage: family tree & dna', 'animation throwdown: epic ccg', 'solitaire grand harvest', 'sweet escapes: design a bakery with puzzle games', 'dreame', 'stickman vs zombies', 'dhgate-online wholesale stores', 'cookie swirl world', 'norton secure vpn: wi-fi proxy', 'rider', 'foxnovel - read stories &  books', 'novelcat-read & write stories', 'asphalt 8 - car racing game', 'google go: a lighter, faster way to search', 'walk band - multitracks music', 'readict -one click away novels', 'wattpad - read & write stories', \\ncomputer: I would recommend the \""
      ]
     },
     "execution_count": 26,
     "metadata": {},
     "output_type": "execute_result"
    }
   ],
   "source": [
    "items_validation[4].prompt"
   ]
  },
  {
   "cell_type": "code",
   "execution_count": 27,
   "metadata": {},
   "outputs": [
    {
     "data": {
      "text/plain": [
       "'2 player games : the challenge app.<|endoftext|>'"
      ]
     },
     "execution_count": 27,
     "metadata": {},
     "output_type": "execute_result"
    }
   ],
   "source": [
    "items_validation[4].generation"
   ]
  },
  {
   "cell_type": "code",
   "execution_count": 28,
   "metadata": {},
   "outputs": [],
   "source": [
    "items_train = []\n",
    "for _, row in df_recommender_train.iterrows():\n",
    "    if row[\"previous_interactions\"] is not None:\n",
    "        prompt = bos + \"previous_interactions:\" + row[\"previous_interactions\"] + \"\\n\"\n",
    "    else:\n",
    "        prompt = bos + \"previous_interactions: No previous interactions\" + \"\\n\"\n",
    "    for index, turn in enumerate(row[\"turns\"]):\n",
    "        if index < row[\"recommend_indexes\"]:\n",
    "            prompt += turn + \"\\n\"\n",
    "        elif index == row[\"recommend_indexes\"]:\n",
    "            prompt += \"candidate_apps: \"\n",
    "            for app in row[\"candidate_apps\"]:\n",
    "                prompt += \"'\" + app + \"', \"\n",
    "            prompt += \"\\n\"\n",
    "            prompt += \"computer: I would recommend the \"\n",
    "            items_train.append(RecommenderItem(prompt, row[\"recommended_app_name\"] + \" app.\" + eos))\n",
    "            break\n",
    "        else:\n",
    "            print(\"error!!\")"
   ]
  },
  {
   "cell_type": "code",
   "execution_count": 29,
   "metadata": {},
   "outputs": [
    {
     "data": {
      "text/plain": [
       "\"<|startoftext|>previous_interactions: home streetã\\x83â¯ã\\x82â¿ã\\x82â½dream house design, picsart color - painting, drawing & sketch, bleach: brave souls anime game, learn coding/programming: mimo, knives out, mr bean - special delivery, background eraser, viber - safe chats and calls, crackle, warfriends: pvp shooter game\\ncomputer: hi there! how can i help you today?\\nhuman: looking for apps for android that allow free audio/video calls.\\ncomputer: are you looking for communication apps or something else?\\nhuman: apps with everyone content rating.\\ncomputer: do you mind if the apps have ads?\\nhuman: i'm okay with apps that have ads and offer in-app purchases.\\ncomputer: would you prefer free apps or are you willing to pay for additional features?\\nhuman: i prefer using free apps.\\ncomputer: do you have a preference for the app's average rating?\\nhuman: i prefer apps with high ratings, around 4.5 stars or above.\\ncomputer: i recommend checking out the messenger app. is that something you'd be interested in?\\nhuman: i'll pass on the messenger app. do you have any other suggestions?\\ncomputer: how about trying out the bip - messenger, video call app? would you like to know more about it?\\nhuman: i'd like to learn more about the bip app.\\ncomputer: it features high quality video calls and fun themes, but there have been some reports of high data usage. are you interested in trying it out?\\nhuman: i'll skip the bip app due to the reported data usage. do you have any other suggestions?\\ncomputer: how about trying the line: calls & messages app? would you like more information on that?\\nhuman: yes, please tell me more about the line app.\\ncomputer: the app offers stickers and themes, but there have been reports of high device storage usage. would you like to give it a try?\\nhuman: i'll pass on the line app. do you have another suggestion?\\ncandidate_apps: 'truck simulator 2018 : europe', 'mad skills bmx 2', 'norton secure vpn: wi-fi proxy', 'candy camera - photo editor', 'touchgrind bmx 2', 'snipers vs thieves', 'amazon alexa', 'bouncemasters', 'grow empire: rome', 'viber - safe chats and calls', 'screen recorder video recorder', 'toca life: office', 'gta: chinatown wars', 'grand theft auto: vice city', 'my talking tom friends', 'skype', 'gmail', 'age of colossus', 'animal crossing: pocket camp', 'baseball 9', 'opera touch', 'ppsspp gold - psp emulator', 'hidden hotel: miami mystery', 'akinator', 'city racing 2: 3d fun epic car action racing game', \\ncomputer: I would recommend the \""
      ]
     },
     "execution_count": 29,
     "metadata": {},
     "output_type": "execute_result"
    }
   ],
   "source": [
    "items_train[70].prompt"
   ]
  },
  {
   "cell_type": "code",
   "execution_count": 30,
   "metadata": {},
   "outputs": [
    {
     "data": {
      "text/plain": [
       "'viber - safe chats and calls app.<|endoftext|>'"
      ]
     },
     "execution_count": 30,
     "metadata": {},
     "output_type": "execute_result"
    }
   ],
   "source": [
    "items_train[70].generation"
   ]
  },
  {
   "cell_type": "code",
   "execution_count": 31,
   "metadata": {},
   "outputs": [],
   "source": [
    "def training_collator(batch: list[recommenderDataset]): # for training a language model\n",
    "    input_ids = []\n",
    "    attention_masks = []\n",
    "    labels = []\n",
    "    for item in batch:\n",
    "        prompt_tokens = tokenizer.encode(item.prompt, return_tensors=\"pt\")[0] \n",
    "        generation_tokens = tokenizer.encode(item.generation, return_tensors=\"pt\")[0]\n",
    "        prompt_len = len(prompt_tokens)\n",
    "        generation_len = len(generation_tokens)\n",
    "        unused_len = model_max_length - prompt_len - generation_len\n",
    "        # handling case when input is greater than tokenizer length.\n",
    "        if unused_len < 0:\n",
    "            prompt_start_tokens = prompt_tokens[:1]\n",
    "            trimmed_prompt = prompt_tokens[unused_len * -1 + 1 :] # TODO: you could delete the prompt to reach the first |beginuser| token\n",
    "            prompt_tokens = torch.cat(\n",
    "                [prompt_start_tokens, trimmed_prompt], axis=0\n",
    "            )\n",
    "            prompt_len = len(prompt_tokens)\n",
    "            unused_len = 0\n",
    "        pad = torch.full([unused_len], tokenizer.pad_token_id)\n",
    "        input_tokens = torch.cat(\n",
    "            [prompt_tokens, generation_tokens, pad]\n",
    "        )\n",
    "        label = torch.cat(\n",
    "            [\n",
    "                torch.full(\n",
    "                    [prompt_len],\n",
    "                    -100,\n",
    "                ),\n",
    "                generation_tokens,\n",
    "                torch.full([unused_len], -100),\n",
    "            ]\n",
    "        )\n",
    "        attention_mask = torch.cat(\n",
    "            [\n",
    "                torch.full([prompt_len + generation_len], 1),\n",
    "                torch.full([unused_len], 0),\n",
    "            ]\n",
    "        )\n",
    "        input_ids.append(input_tokens)\n",
    "        attention_masks.append(attention_mask)\n",
    "        labels.append(label)\n",
    "\n",
    "    out = {\n",
    "        \"input_ids\": torch.stack(input_ids),\n",
    "        \"attention_mask\": torch.stack(attention_masks),\n",
    "        \"labels\": torch.stack(labels),\n",
    "    }\n",
    "\n",
    "    return out"
   ]
  },
  {
   "cell_type": "code",
   "execution_count": 32,
   "metadata": {},
   "outputs": [
    {
     "name": "stderr",
     "output_type": "stream",
     "text": [
      "Detected kernel version 5.4.0, which is below the recommended minimum of 5.5.0; this can cause the process to hang. It is recommended to upgrade the kernel to the minimum version or higher.\n"
     ]
    }
   ],
   "source": [
    "training_args = TrainingArguments(\n",
    "    output_dir=\"models/GPT2_previous_interactions_candidate_apps\",\n",
    "    num_train_epochs=5,\n",
    "    # logging_steps=500,\n",
    "    # logging_dir=self.cfg.logging_dir,\n",
    "    load_best_model_at_end=True,\n",
    "    metric_for_best_model=\"eval_loss\",\n",
    "    save_strategy=\"steps\",\n",
    "    evaluation_strategy=\"steps\",\n",
    "    save_steps=1000,#self.cfg.save_steps,\n",
    "    eval_steps=1000, #self.cfg.eval_steps,\n",
    "    save_total_limit=3,\n",
    "    gradient_accumulation_steps=3, #gradient_accumulation_steps,\n",
    "    per_device_train_batch_size=4, #train_batch_size,\n",
    "    per_device_eval_batch_size=4, #self.cfg.eval_batch_size,\n",
    "    warmup_steps=100,\n",
    "    weight_decay=0.01,\n",
    "    # dataloader_drop_last=True,\n",
    "    disable_tqdm=False,\n",
    "    push_to_hub=False\n",
    ")\n",
    "\n",
    "\n",
    "trainer = Trainer(\n",
    "        model=model,\n",
    "        args=training_args,\n",
    "        train_dataset=recommenderDataset(items_train),\n",
    "        eval_dataset=recommenderDataset(items_validation), #dm.datasets[DataNames.dev_language_model.value],\n",
    "        data_collator=training_collator,\n",
    "    )"
   ]
  },
  {
   "cell_type": "code",
   "execution_count": 33,
   "metadata": {},
   "outputs": [
    {
     "data": {
      "text/html": [
       "\n",
       "    <div>\n",
       "      \n",
       "      <progress value='3600' max='3600' style='width:300px; height:20px; vertical-align: middle;'></progress>\n",
       "      [3600/3600 1:02:19, Epoch 4/5]\n",
       "    </div>\n",
       "    <table border=\"1\" class=\"dataframe\">\n",
       "  <thead>\n",
       " <tr style=\"text-align: left;\">\n",
       "      <th>Step</th>\n",
       "      <th>Training Loss</th>\n",
       "      <th>Validation Loss</th>\n",
       "    </tr>\n",
       "  </thead>\n",
       "  <tbody>\n",
       "    <tr>\n",
       "      <td>1000</td>\n",
       "      <td>0.212500</td>\n",
       "      <td>0.140672</td>\n",
       "    </tr>\n",
       "    <tr>\n",
       "      <td>2000</td>\n",
       "      <td>0.073800</td>\n",
       "      <td>0.085166</td>\n",
       "    </tr>\n",
       "    <tr>\n",
       "      <td>3000</td>\n",
       "      <td>0.037400</td>\n",
       "      <td>0.086379</td>\n",
       "    </tr>\n",
       "  </tbody>\n",
       "</table><p>"
      ],
      "text/plain": [
       "<IPython.core.display.HTML object>"
      ]
     },
     "metadata": {},
     "output_type": "display_data"
    },
    {
     "name": "stderr",
     "output_type": "stream",
     "text": [
      "There were missing keys in the checkpoint model loaded: ['lm_head.weight'].\n"
     ]
    }
   ],
   "source": [
    "trainer.train()\n",
    "trainer.save_model()"
   ]
  },
  {
   "cell_type": "code",
   "execution_count": 208,
   "metadata": {},
   "outputs": [],
   "source": [
    "torch.cuda.empty_cache()"
   ]
  },
  {
   "cell_type": "markdown",
   "metadata": {},
   "source": [
    "Load the model and test it on the test dataset"
   ]
  },
  {
   "cell_type": "code",
   "execution_count": 3,
   "metadata": {},
   "outputs": [],
   "source": [
    "def is_approximate_substring(substring, string, threshold=70):\n",
    "    for i in range(len(string) - len(substring) + 1):\n",
    "        window = string[i:i+len(substring)]\n",
    "        similarity_ratio = fuzz.ratio(substring, window)\n",
    "        if similarity_ratio >= threshold:\n",
    "            return True\n",
    "    return False"
   ]
  },
  {
   "cell_type": "code",
   "execution_count": 4,
   "metadata": {},
   "outputs": [
    {
     "name": "stderr",
     "output_type": "stream",
     "text": [
      "100%|██████████| 2557/2557 [00:06<00:00, 369.11it/s]"
     ]
    },
    {
     "name": "stdout",
     "output_type": "stream",
     "text": [
      "2557\n",
      "2557\n",
      "2557\n",
      "2557\n",
      "\n",
      "number of rows: 2557\n"
     ]
    },
    {
     "name": "stderr",
     "output_type": "stream",
     "text": [
      "\n"
     ]
    }
   ],
   "source": [
    "conversation_test_path = \"data/dataset_v2/testing\"\n",
    "\n",
    "user_id = []\n",
    "previous_interactions = []\n",
    "recommended_app_name = []\n",
    "turns = []\n",
    "recommend_indexes = []\n",
    "\n",
    "\n",
    "# List all files in the folder\n",
    "files = os.listdir(conversation_test_path)\n",
    "\n",
    "# Loop through each file in the directory\n",
    "for filename in tqdm(files):\n",
    "    # Construct the full file path\n",
    "    file_path = os.path.join(conversation_test_path, filename)\n",
    "\n",
    "    # Check if the current item is a file\n",
    "    if os.path.isfile(file_path):\n",
    "        # Open and read the file\n",
    "        with open(file_path, 'r') as file:\n",
    "            # Read the content of the file\n",
    "            file_content = file.read().lower()\n",
    "            \n",
    "            # finding the user id\n",
    "            index_1 = file_content.find(\"user's previous interactions\")\n",
    "            user_id.append(file_content[9:index_1].rstrip('\\n'))\n",
    "            \n",
    "            # finding the User's Previous Interactions\n",
    "            index_2 = file_content.find(\"recommended app name:\")\n",
    "            previous_interactions_arr = file_content[index_1+29:index_2].rstrip('\\n').split(\"app name:\")\n",
    "            previous_interactions_arr_filtered = []\n",
    "            for previous_interaction in previous_interactions_arr[1:]:\n",
    "                previous_interactions_arr_filtered.append(previous_interaction[:previous_interaction.find(\" | \")])\n",
    "            if len(previous_interactions_arr_filtered) > 0:\n",
    "                previous_interactions.append(\",\".join(previous_interactions_arr_filtered))\n",
    "            else:\n",
    "                previous_interactions.append(None)\n",
    "            \n",
    "            # finding recommended app name\n",
    "            index_3 = file_content[index_2:].find(\"package name\")\n",
    "            recommended = file_content[index_2+22:index_2+index_3-3].rstrip('\\n')\n",
    "            recommended_app_name.append(recommended)\n",
    "            \n",
    "            # finding each turns\n",
    "            dialog_turns = []\n",
    "            dialog_index = 0\n",
    "            COMPUTER_index = file_content.find(\"computer:\")\n",
    "            file_content = file_content[COMPUTER_index:]\n",
    "            found_recommender = False\n",
    "            while True:\n",
    "                HUMAN_index = file_content.find(\"human:\")\n",
    "                if HUMAN_index == -1:\n",
    "                    break\n",
    "                turn = file_content[:HUMAN_index].rstrip('\\n') # computer dialog\n",
    "                if (recommended in turn) and not found_recommender:\n",
    "                    recommend_indexes.append(dialog_index)\n",
    "                    found_recommender = True\n",
    "                dialog_turns.append(turn)\n",
    "                dialog_index +=1\n",
    "                file_content = file_content[HUMAN_index:]\n",
    "                \n",
    "                COMPUTER_index = file_content.find(\"computer:\")\n",
    "                turn = file_content[:COMPUTER_index].rstrip('\\n') # human dialog\n",
    "                dialog_turns.append(turn)\n",
    "                dialog_index +=1\n",
    "                file_content = file_content[COMPUTER_index:]\n",
    "                \n",
    "            if not found_recommender: # approximately finding the recommender turn\n",
    "                for i, dialog_turn in enumerate(dialog_turns):\n",
    "                    if is_approximate_substring(recommended, dialog_turn):\n",
    "                        recommend_indexes.append(i)\n",
    "                        found_recommender = True\n",
    "                        break\n",
    "                    \n",
    "            if not found_recommender:\n",
    "                recommend_indexes.append(-1)\n",
    "                        \n",
    "            turns.append(dialog_turns)\n",
    "\n",
    "print(len(user_id))\n",
    "print(len(previous_interactions))\n",
    "print(len(recommended_app_name))\n",
    "print(len(recommend_indexes))\n",
    "df_recommender_test = pd.DataFrame({\"user_id\": user_id, \"previous_interactions\":previous_interactions, \"recommended_app_name\":recommended_app_name, \"turns\": turns, \"recommend_indexes\":recommend_indexes})\n",
    "print(f\"\\nnumber of rows: {len(df_recommender_test)}\")"
   ]
  },
  {
   "cell_type": "code",
   "execution_count": 5,
   "metadata": {},
   "outputs": [],
   "source": [
    "df_recommender_test = df_recommender_test[(df_recommender_test[\"recommend_indexes\"] != -1) & (df_recommender_test[\"turns\"].apply(lambda x: len(x) > 0))]"
   ]
  },
  {
   "cell_type": "code",
   "execution_count": 6,
   "metadata": {},
   "outputs": [],
   "source": [
    "apps_training_path = \"data/master_app_data_V1_true.csv\"\n",
    "\n",
    "all_apps = []\n",
    "with open(apps_training_path, 'r') as csv_file:\n",
    "    csv_reader = csv.DictReader(csv_file)\n",
    "    for row in csv_reader:\n",
    "        all_apps.append(row[\"app_name\"].lower())"
   ]
  },
  {
   "cell_type": "code",
   "execution_count": 7,
   "metadata": {},
   "outputs": [],
   "source": [
    "def fix_recommended_apps_names(row):\n",
    "    if row[\"recommended_app_name\"] not in all_apps:\n",
    "        for app in all_apps:\n",
    "            if fuzz.ratio(row[\"recommended_app_name\"], app) > 80:\n",
    "                return app\n",
    "        return \"uno!™\"\n",
    "    else:\n",
    "        return row[\"recommended_app_name\"]\n",
    "\n",
    "df_recommender_test['recommended_app_name'] = df_recommender_test.apply(fix_recommended_apps_names, axis=1)"
   ]
  },
  {
   "cell_type": "code",
   "execution_count": 23,
   "metadata": {},
   "outputs": [
    {
     "name": "stderr",
     "output_type": "stream",
     "text": [
      "/tmp/ipykernel_2121809/766425766.py:7: FutureWarning: DataFrame.applymap has been deprecated. Use DataFrame.map instead.\n",
      "  df_apps = df_app.applymap(lambda x: x.lower() if isinstance(x, str) else x)\n"
     ]
    }
   ],
   "source": [
    "import pandas as pd\n",
    "from fuzzywuzzy import fuzz\n",
    "\n",
    "# Ensure that you've already defined 'apps_training_path' to point to your data file\n",
    "cols = ['app_name', 'app_type', 'app_category']\n",
    "df_app = pd.read_csv(apps_training_path, usecols=cols)\n",
    "df_apps = df_app.applymap(lambda x: x.lower() if isinstance(x, str) else x)\n",
    "\n",
    "def filter_candidate_apps(rec_app_name):\n",
    "    candidate_apps = set()  # Using a set to avoid duplicates\n",
    "    df_rec_app = df_apps[df_apps['app_name'] == rec_app_name.lower()]\n",
    "    \n",
    "    if df_rec_app.empty:\n",
    "        print(\"No matching app found.\")\n",
    "        return []\n",
    "    \n",
    "    recommended_app_type = df_rec_app['app_type'].iloc[0]\n",
    "    recommended_app_category = df_rec_app['app_category'].iloc[0]\n",
    "    \n",
    "    df_same_category = df_apps[df_apps['app_category'] == recommended_app_category]\n",
    "    df_different_category = df_apps[df_apps['app_category'] != recommended_app_category]\n",
    "\n",
    "    # same category, same type\n",
    "    for _, row in df_same_category.iterrows():\n",
    "        if fuzz.ratio(row[\"app_type\"], recommended_app_type) > 70:\n",
    "            candidate_apps.add(row['app_name'])\n",
    "\n",
    "    # only same category\n",
    "    if len(candidate_apps) < 25:\n",
    "        for _, row in df_same_category.iterrows():\n",
    "            if len(candidate_apps) >= 25:\n",
    "                break\n",
    "            candidate_apps.add(row['app_name'])\n",
    "\n",
    "    # different category, same type\n",
    "    if len(candidate_apps) < 25:\n",
    "        for _, row in df_different_category.iterrows():\n",
    "            if len(candidate_apps) >= 25:\n",
    "                break\n",
    "            if fuzz.ratio(row[\"app_type\"], recommended_app_type) > 70:\n",
    "                candidate_apps.add(row['app_name'])\n",
    "\n",
    "    # all\n",
    "    if len(candidate_apps) < 25:\n",
    "        for _, row in df_apps.iterrows():\n",
    "            if len(candidate_apps) >= 25:\n",
    "                break\n",
    "            candidate_apps.add(row['app_name'])\n",
    "\n",
    "    return list(candidate_apps)  # Converting back to list if needed for downstream processes"
   ]
  },
  {
   "cell_type": "code",
   "execution_count": 24,
   "metadata": {},
   "outputs": [],
   "source": [
    "max_existing_length = max(len(item) for item in all_apps)  # Max length in current array\n",
    "new_dtype = f'<U{max_existing_length}'\n",
    "\n",
    "def candidate_creator(row):\n",
    "    np.random.seed(row.name)\n",
    "    \n",
    "    selected_values = np.random.choice(np.setdiff1d(all_apps, [row[\"recommended_app_name\"]]), 24, replace=False).astype(new_dtype) # filter_candidate_apps(row[\"recommended_app_name\"])\n",
    "    random_position = np.random.randint(0, len(selected_values) + 1)\n",
    "    \n",
    "    return np.insert(selected_values, random_position, row[\"recommended_app_name\"]) \n",
    "\n",
    "df_recommender_test['candidate_apps'] = df_recommender_test.apply(lambda row: candidate_creator(row), axis=1)"
   ]
  },
  {
   "cell_type": "code",
   "execution_count": 25,
   "metadata": {},
   "outputs": [
    {
     "data": {
      "text/html": [
       "<div>\n",
       "<style scoped>\n",
       "    .dataframe tbody tr th:only-of-type {\n",
       "        vertical-align: middle;\n",
       "    }\n",
       "\n",
       "    .dataframe tbody tr th {\n",
       "        vertical-align: top;\n",
       "    }\n",
       "\n",
       "    .dataframe thead th {\n",
       "        text-align: right;\n",
       "    }\n",
       "</style>\n",
       "<table border=\"1\" class=\"dataframe\">\n",
       "  <thead>\n",
       "    <tr style=\"text-align: right;\">\n",
       "      <th></th>\n",
       "      <th>user_id</th>\n",
       "      <th>previous_interactions</th>\n",
       "      <th>recommended_app_name</th>\n",
       "      <th>turns</th>\n",
       "      <th>recommend_indexes</th>\n",
       "      <th>candidate_apps</th>\n",
       "    </tr>\n",
       "  </thead>\n",
       "  <tbody>\n",
       "    <tr>\n",
       "      <th>0</th>\n",
       "      <td>wstfhmhy9czodllb</td>\n",
       "      <td>toca life: hospital</td>\n",
       "      <td>toca life: hospital</td>\n",
       "      <td>[computer: hey there! how can i help you today...</td>\n",
       "      <td>20</td>\n",
       "      <td>[dumb ways to draw, baby panda's juice shop, t...</td>\n",
       "    </tr>\n",
       "    <tr>\n",
       "      <th>1</th>\n",
       "      <td>6nwqmzcxfrkgrtup</td>\n",
       "      <td>chic me - chic in command, scribblenauts unli...</td>\n",
       "      <td>sketchbook</td>\n",
       "      <td>[computer: hello! how can i help you today?, h...</td>\n",
       "      <td>22</td>\n",
       "      <td>[hulu: stream tv series &amp; films, godzilla defe...</td>\n",
       "    </tr>\n",
       "    <tr>\n",
       "      <th>2</th>\n",
       "      <td>pq6f1srzatvtawfx</td>\n",
       "      <td>viva slots vegas: casino slots, kitty city, s...</td>\n",
       "      <td>intro maker -video intro outro</td>\n",
       "      <td>[computer: hi there! how can i help you today?...</td>\n",
       "      <td>20</td>\n",
       "      <td>[big fish casino - social slots, but you seem ...</td>\n",
       "    </tr>\n",
       "    <tr>\n",
       "      <th>3</th>\n",
       "      <td>pjsymtgz7tht9m0m</td>\n",
       "      <td>speedtest by ookla</td>\n",
       "      <td>uno!™</td>\n",
       "      <td>[computer: hi! what can i help you with today?...</td>\n",
       "      <td>18</td>\n",
       "      <td>[world at war: ww2 strategy mmo, life360: find...</td>\n",
       "    </tr>\n",
       "    <tr>\n",
       "      <th>4</th>\n",
       "      <td>cinuyvftdrhv0bb5</td>\n",
       "      <td>gta: chinatown wars, toca kitchen, touchgrind...</td>\n",
       "      <td>microsoft excel: spreadsheets</td>\n",
       "      <td>[computer: hello! how can i help you today?, h...</td>\n",
       "      <td>20</td>\n",
       "      <td>[my friend pedro: ripe for revenge, qr &amp; barco...</td>\n",
       "    </tr>\n",
       "    <tr>\n",
       "      <th>...</th>\n",
       "      <td>...</td>\n",
       "      <td>...</td>\n",
       "      <td>...</td>\n",
       "      <td>...</td>\n",
       "      <td>...</td>\n",
       "      <td>...</td>\n",
       "    </tr>\n",
       "    <tr>\n",
       "      <th>2552</th>\n",
       "      <td>udb5lh4yq0qtymrw</td>\n",
       "      <td>zulily: fresh finds, daily deals, basketball ...</td>\n",
       "      <td>google docs</td>\n",
       "      <td>[computer: hi there! how can i help you today?...</td>\n",
       "      <td>20</td>\n",
       "      <td>[wheel of fortune: tv game, jurassic world™: t...</td>\n",
       "    </tr>\n",
       "    <tr>\n",
       "      <th>2553</th>\n",
       "      <td>imov9268r3fjzryt</td>\n",
       "      <td>None</td>\n",
       "      <td>where's my water?</td>\n",
       "      <td>[computer: hi there! how can i assist you toda...</td>\n",
       "      <td>24</td>\n",
       "      <td>[where's my water?, five nights at freddy's 4,...</td>\n",
       "    </tr>\n",
       "    <tr>\n",
       "      <th>2554</th>\n",
       "      <td>ofvpfkqsyzgqub3e</td>\n",
       "      <td>radarbot: speed camera detector &amp; speedometer...</td>\n",
       "      <td>minecraft</td>\n",
       "      <td>[computer: hey! how can i help you today?, hum...</td>\n",
       "      <td>24</td>\n",
       "      <td>[fonts keyboard, world war heroes: ww2 fps, so...</td>\n",
       "    </tr>\n",
       "    <tr>\n",
       "      <th>2555</th>\n",
       "      <td>j9wginotn1rgxaz2</td>\n",
       "      <td>musou glory</td>\n",
       "      <td>my talking tom friends</td>\n",
       "      <td>[computer: hi there! how can i help you today?...</td>\n",
       "      <td>20</td>\n",
       "      <td>[kid-e-cats: kitty cat games!, helix stack jum...</td>\n",
       "    </tr>\n",
       "    <tr>\n",
       "      <th>2556</th>\n",
       "      <td>fdbwzjsg2h1sdqkj</td>\n",
       "      <td>fitify: workout routines &amp; training plans</td>\n",
       "      <td>cover fire: offline shooting</td>\n",
       "      <td>[computer: hi! how can i help you today?, huma...</td>\n",
       "      <td>22</td>\n",
       "      <td>[math games: math for kids, plants vs. zombies...</td>\n",
       "    </tr>\n",
       "  </tbody>\n",
       "</table>\n",
       "<p>2536 rows × 6 columns</p>\n",
       "</div>"
      ],
      "text/plain": [
       "               user_id                              previous_interactions  \\\n",
       "0     wstfhmhy9czodllb                                toca life: hospital   \n",
       "1     6nwqmzcxfrkgrtup   chic me - chic in command, scribblenauts unli...   \n",
       "2     pq6f1srzatvtawfx   viva slots vegas: casino slots, kitty city, s...   \n",
       "3     pjsymtgz7tht9m0m                                 speedtest by ookla   \n",
       "4     cinuyvftdrhv0bb5   gta: chinatown wars, toca kitchen, touchgrind...   \n",
       "...                ...                                                ...   \n",
       "2552  udb5lh4yq0qtymrw   zulily: fresh finds, daily deals, basketball ...   \n",
       "2553  imov9268r3fjzryt                                               None   \n",
       "2554  ofvpfkqsyzgqub3e   radarbot: speed camera detector & speedometer...   \n",
       "2555  j9wginotn1rgxaz2                                        musou glory   \n",
       "2556  fdbwzjsg2h1sdqkj          fitify: workout routines & training plans   \n",
       "\n",
       "                recommended_app_name  \\\n",
       "0                toca life: hospital   \n",
       "1                         sketchbook   \n",
       "2     intro maker -video intro outro   \n",
       "3                              uno!™   \n",
       "4      microsoft excel: spreadsheets   \n",
       "...                              ...   \n",
       "2552                     google docs   \n",
       "2553               where's my water?   \n",
       "2554                       minecraft   \n",
       "2555          my talking tom friends   \n",
       "2556    cover fire: offline shooting   \n",
       "\n",
       "                                                  turns  recommend_indexes  \\\n",
       "0     [computer: hey there! how can i help you today...                 20   \n",
       "1     [computer: hello! how can i help you today?, h...                 22   \n",
       "2     [computer: hi there! how can i help you today?...                 20   \n",
       "3     [computer: hi! what can i help you with today?...                 18   \n",
       "4     [computer: hello! how can i help you today?, h...                 20   \n",
       "...                                                 ...                ...   \n",
       "2552  [computer: hi there! how can i help you today?...                 20   \n",
       "2553  [computer: hi there! how can i assist you toda...                 24   \n",
       "2554  [computer: hey! how can i help you today?, hum...                 24   \n",
       "2555  [computer: hi there! how can i help you today?...                 20   \n",
       "2556  [computer: hi! how can i help you today?, huma...                 22   \n",
       "\n",
       "                                         candidate_apps  \n",
       "0     [dumb ways to draw, baby panda's juice shop, t...  \n",
       "1     [hulu: stream tv series & films, godzilla defe...  \n",
       "2     [big fish casino - social slots, but you seem ...  \n",
       "3     [world at war: ww2 strategy mmo, life360: find...  \n",
       "4     [my friend pedro: ripe for revenge, qr & barco...  \n",
       "...                                                 ...  \n",
       "2552  [wheel of fortune: tv game, jurassic world™: t...  \n",
       "2553  [where's my water?, five nights at freddy's 4,...  \n",
       "2554  [fonts keyboard, world war heroes: ww2 fps, so...  \n",
       "2555  [kid-e-cats: kitty cat games!, helix stack jum...  \n",
       "2556  [math games: math for kids, plants vs. zombies...  \n",
       "\n",
       "[2536 rows x 6 columns]"
      ]
     },
     "execution_count": 25,
     "metadata": {},
     "output_type": "execute_result"
    }
   ],
   "source": [
    "df_recommender_test"
   ]
  },
  {
   "cell_type": "code",
   "execution_count": 26,
   "metadata": {},
   "outputs": [],
   "source": [
    "@dataclass\n",
    "class RecommenderItem:\n",
    "    prompt: str\n",
    "    generation: Optional[str] = None\n",
    "    \n",
    "class recommenderDataset(Dataset):\n",
    "    def __init__(self, data: List[RecommenderItem]):\n",
    "        self.data = data\n",
    "\n",
    "    def __len__(self):\n",
    "        return len(self.data)\n",
    "\n",
    "    def __getitem__(self, idx) -> RecommenderItem:\n",
    "        return self.data[idx]"
   ]
  },
  {
   "cell_type": "code",
   "execution_count": null,
   "metadata": {},
   "outputs": [],
   "source": [
    "device = torch.device(\"cuda\" if torch.cuda.is_available() else \"cpu\")\n",
    "bos = '<|startoftext|>'\n",
    "eos = '<|endoftext|>'\n",
    "pad = '<|pad|>'\n",
    "\n",
    "tokenizer = GPT2Tokenizer.from_pretrained(\"gpt2\", bos_token=bos, eos_token=eos, pad_token=pad, additional_special_tokens=[\"computer:\", \"human:\", \"candidate_apps:\", \"previous_interactions:\"], padding_side='left')\n",
    "\n",
    "model = GPT2LMHeadModel.from_pretrained(\"models/GPT2_previous_interactions_candidate_apps\").to(device)\n",
    "model.resize_token_embeddings(len(tokenizer))"
   ]
  },
  {
   "cell_type": "code",
   "execution_count": 28,
   "metadata": {},
   "outputs": [
    {
     "data": {
      "text/html": [
       "<div>\n",
       "<style scoped>\n",
       "    .dataframe tbody tr th:only-of-type {\n",
       "        vertical-align: middle;\n",
       "    }\n",
       "\n",
       "    .dataframe tbody tr th {\n",
       "        vertical-align: top;\n",
       "    }\n",
       "\n",
       "    .dataframe thead th {\n",
       "        text-align: right;\n",
       "    }\n",
       "</style>\n",
       "<table border=\"1\" class=\"dataframe\">\n",
       "  <thead>\n",
       "    <tr style=\"text-align: right;\">\n",
       "      <th></th>\n",
       "      <th>user_id</th>\n",
       "      <th>previous_interactions</th>\n",
       "      <th>recommended_app_name</th>\n",
       "      <th>turns</th>\n",
       "      <th>recommend_indexes</th>\n",
       "      <th>candidate_apps</th>\n",
       "    </tr>\n",
       "  </thead>\n",
       "  <tbody>\n",
       "    <tr>\n",
       "      <th>0</th>\n",
       "      <td>wstfhmhy9czodllb</td>\n",
       "      <td>toca life: hospital</td>\n",
       "      <td>toca life: hospital</td>\n",
       "      <td>[computer: hey there! how can i help you today...</td>\n",
       "      <td>20</td>\n",
       "      <td>[dumb ways to draw, baby panda's juice shop, t...</td>\n",
       "    </tr>\n",
       "    <tr>\n",
       "      <th>1</th>\n",
       "      <td>6nwqmzcxfrkgrtup</td>\n",
       "      <td>chic me - chic in command, scribblenauts unli...</td>\n",
       "      <td>sketchbook</td>\n",
       "      <td>[computer: hello! how can i help you today?, h...</td>\n",
       "      <td>22</td>\n",
       "      <td>[hulu: stream tv series &amp; films, godzilla defe...</td>\n",
       "    </tr>\n",
       "    <tr>\n",
       "      <th>2</th>\n",
       "      <td>pq6f1srzatvtawfx</td>\n",
       "      <td>viva slots vegas: casino slots, kitty city, s...</td>\n",
       "      <td>intro maker -video intro outro</td>\n",
       "      <td>[computer: hi there! how can i help you today?...</td>\n",
       "      <td>20</td>\n",
       "      <td>[big fish casino - social slots, but you seem ...</td>\n",
       "    </tr>\n",
       "    <tr>\n",
       "      <th>3</th>\n",
       "      <td>pjsymtgz7tht9m0m</td>\n",
       "      <td>speedtest by ookla</td>\n",
       "      <td>uno!™</td>\n",
       "      <td>[computer: hi! what can i help you with today?...</td>\n",
       "      <td>18</td>\n",
       "      <td>[world at war: ww2 strategy mmo, life360: find...</td>\n",
       "    </tr>\n",
       "    <tr>\n",
       "      <th>4</th>\n",
       "      <td>cinuyvftdrhv0bb5</td>\n",
       "      <td>gta: chinatown wars, toca kitchen, touchgrind...</td>\n",
       "      <td>microsoft excel: spreadsheets</td>\n",
       "      <td>[computer: hello! how can i help you today?, h...</td>\n",
       "      <td>20</td>\n",
       "      <td>[my friend pedro: ripe for revenge, qr &amp; barco...</td>\n",
       "    </tr>\n",
       "    <tr>\n",
       "      <th>...</th>\n",
       "      <td>...</td>\n",
       "      <td>...</td>\n",
       "      <td>...</td>\n",
       "      <td>...</td>\n",
       "      <td>...</td>\n",
       "      <td>...</td>\n",
       "    </tr>\n",
       "    <tr>\n",
       "      <th>2552</th>\n",
       "      <td>udb5lh4yq0qtymrw</td>\n",
       "      <td>zulily: fresh finds, daily deals, basketball ...</td>\n",
       "      <td>google docs</td>\n",
       "      <td>[computer: hi there! how can i help you today?...</td>\n",
       "      <td>20</td>\n",
       "      <td>[wheel of fortune: tv game, jurassic world™: t...</td>\n",
       "    </tr>\n",
       "    <tr>\n",
       "      <th>2553</th>\n",
       "      <td>imov9268r3fjzryt</td>\n",
       "      <td>None</td>\n",
       "      <td>where's my water?</td>\n",
       "      <td>[computer: hi there! how can i assist you toda...</td>\n",
       "      <td>24</td>\n",
       "      <td>[where's my water?, five nights at freddy's 4,...</td>\n",
       "    </tr>\n",
       "    <tr>\n",
       "      <th>2554</th>\n",
       "      <td>ofvpfkqsyzgqub3e</td>\n",
       "      <td>radarbot: speed camera detector &amp; speedometer...</td>\n",
       "      <td>minecraft</td>\n",
       "      <td>[computer: hey! how can i help you today?, hum...</td>\n",
       "      <td>24</td>\n",
       "      <td>[fonts keyboard, world war heroes: ww2 fps, so...</td>\n",
       "    </tr>\n",
       "    <tr>\n",
       "      <th>2555</th>\n",
       "      <td>j9wginotn1rgxaz2</td>\n",
       "      <td>musou glory</td>\n",
       "      <td>my talking tom friends</td>\n",
       "      <td>[computer: hi there! how can i help you today?...</td>\n",
       "      <td>20</td>\n",
       "      <td>[kid-e-cats: kitty cat games!, helix stack jum...</td>\n",
       "    </tr>\n",
       "    <tr>\n",
       "      <th>2556</th>\n",
       "      <td>fdbwzjsg2h1sdqkj</td>\n",
       "      <td>fitify: workout routines &amp; training plans</td>\n",
       "      <td>cover fire: offline shooting</td>\n",
       "      <td>[computer: hi! how can i help you today?, huma...</td>\n",
       "      <td>22</td>\n",
       "      <td>[math games: math for kids, plants vs. zombies...</td>\n",
       "    </tr>\n",
       "  </tbody>\n",
       "</table>\n",
       "<p>2536 rows × 6 columns</p>\n",
       "</div>"
      ],
      "text/plain": [
       "               user_id                              previous_interactions  \\\n",
       "0     wstfhmhy9czodllb                                toca life: hospital   \n",
       "1     6nwqmzcxfrkgrtup   chic me - chic in command, scribblenauts unli...   \n",
       "2     pq6f1srzatvtawfx   viva slots vegas: casino slots, kitty city, s...   \n",
       "3     pjsymtgz7tht9m0m                                 speedtest by ookla   \n",
       "4     cinuyvftdrhv0bb5   gta: chinatown wars, toca kitchen, touchgrind...   \n",
       "...                ...                                                ...   \n",
       "2552  udb5lh4yq0qtymrw   zulily: fresh finds, daily deals, basketball ...   \n",
       "2553  imov9268r3fjzryt                                               None   \n",
       "2554  ofvpfkqsyzgqub3e   radarbot: speed camera detector & speedometer...   \n",
       "2555  j9wginotn1rgxaz2                                        musou glory   \n",
       "2556  fdbwzjsg2h1sdqkj          fitify: workout routines & training plans   \n",
       "\n",
       "                recommended_app_name  \\\n",
       "0                toca life: hospital   \n",
       "1                         sketchbook   \n",
       "2     intro maker -video intro outro   \n",
       "3                              uno!™   \n",
       "4      microsoft excel: spreadsheets   \n",
       "...                              ...   \n",
       "2552                     google docs   \n",
       "2553               where's my water?   \n",
       "2554                       minecraft   \n",
       "2555          my talking tom friends   \n",
       "2556    cover fire: offline shooting   \n",
       "\n",
       "                                                  turns  recommend_indexes  \\\n",
       "0     [computer: hey there! how can i help you today...                 20   \n",
       "1     [computer: hello! how can i help you today?, h...                 22   \n",
       "2     [computer: hi there! how can i help you today?...                 20   \n",
       "3     [computer: hi! what can i help you with today?...                 18   \n",
       "4     [computer: hello! how can i help you today?, h...                 20   \n",
       "...                                                 ...                ...   \n",
       "2552  [computer: hi there! how can i help you today?...                 20   \n",
       "2553  [computer: hi there! how can i assist you toda...                 24   \n",
       "2554  [computer: hey! how can i help you today?, hum...                 24   \n",
       "2555  [computer: hi there! how can i help you today?...                 20   \n",
       "2556  [computer: hi! how can i help you today?, huma...                 22   \n",
       "\n",
       "                                         candidate_apps  \n",
       "0     [dumb ways to draw, baby panda's juice shop, t...  \n",
       "1     [hulu: stream tv series & films, godzilla defe...  \n",
       "2     [big fish casino - social slots, but you seem ...  \n",
       "3     [world at war: ww2 strategy mmo, life360: find...  \n",
       "4     [my friend pedro: ripe for revenge, qr & barco...  \n",
       "...                                                 ...  \n",
       "2552  [wheel of fortune: tv game, jurassic world™: t...  \n",
       "2553  [where's my water?, five nights at freddy's 4,...  \n",
       "2554  [fonts keyboard, world war heroes: ww2 fps, so...  \n",
       "2555  [kid-e-cats: kitty cat games!, helix stack jum...  \n",
       "2556  [math games: math for kids, plants vs. zombies...  \n",
       "\n",
       "[2536 rows x 6 columns]"
      ]
     },
     "execution_count": 28,
     "metadata": {},
     "output_type": "execute_result"
    }
   ],
   "source": [
    "df_recommender_test"
   ]
  },
  {
   "cell_type": "code",
   "execution_count": 29,
   "metadata": {},
   "outputs": [],
   "source": [
    "prompts = []\n",
    "generations = []\n",
    "candidate_apps = []\n",
    "true_candidate_index = []\n",
    "for _, row in df_recommender_test.iterrows():\n",
    "    # creating candidate apps\n",
    "    candidates = []\n",
    "    for index, candidate_app in enumerate(row[\"candidate_apps\"].tolist()):\n",
    "        candidates.append(candidate_app + \" app.\" + eos)\n",
    "        if candidate_app == row[\"recommended_app_name\"]:\n",
    "            true_candidate_index.append(index)\n",
    "    candidate_apps.append(candidates)\n",
    "    # creating prompts and generations\n",
    "    if row[\"previous_interactions\"] is not None:\n",
    "        prompt = bos + \"previous_interactions:\" + row[\"previous_interactions\"] + \"\\n\"\n",
    "    else:\n",
    "        prompt = bos + \"previous_interactions: No previous interactions\" + \"\\n\"\n",
    "    for index, turn in enumerate(row[\"turns\"]):\n",
    "        if index < row[\"recommend_indexes\"]:\n",
    "            prompt += turn + \"\\n\"\n",
    "        elif index == row[\"recommend_indexes\"]:\n",
    "            prompt += \"candidate_apps: \"\n",
    "            for app in row[\"candidate_apps\"]:\n",
    "                prompt += \"'\" + app + \"', \"\n",
    "            prompt += \"\\n\"\n",
    "            # prompt += \"computer: I would recommend the \"\n",
    "            prompt += \"computer: I would recommend the \"\n",
    "            prompts.append(prompt)\n",
    "            generations.append(row[\"recommended_app_name\"] + \" app.\" + eos)\n",
    "            break\n",
    "        else:\n",
    "            print(\"error!!\")"
   ]
  },
  {
   "cell_type": "code",
   "execution_count": 30,
   "metadata": {},
   "outputs": [
    {
     "data": {
      "text/plain": [
       "2536"
      ]
     },
     "execution_count": 30,
     "metadata": {},
     "output_type": "execute_result"
    }
   ],
   "source": [
    "len(prompts)"
   ]
  },
  {
   "cell_type": "code",
   "execution_count": 31,
   "metadata": {},
   "outputs": [
    {
     "data": {
      "text/plain": [
       "2536"
      ]
     },
     "execution_count": 31,
     "metadata": {},
     "output_type": "execute_result"
    }
   ],
   "source": [
    "len(true_candidate_index)"
   ]
  },
  {
   "cell_type": "code",
   "execution_count": 32,
   "metadata": {},
   "outputs": [
    {
     "data": {
      "text/plain": [
       "\"<|startoftext|>previous_interactions: microsoft edge: web browser, darkness rises, avg antivirus & security, cheapflights ã\\x83â¢ã\\x82â\\x80ã\\x82â\\x93 flight search, chat & date: dating made simple to meet new people, hooked inc: fishing games, vpn proxy master - safer vpn, karaoke - sing songs, real steel boxing champions, moneylion: mobile banking app\\ncomputer: hi there! how can i help you today?\\nhuman: i want to find strategy game apps for my android phone.\\ncomputer: great! do you like games that are really fun?\\nhuman: yes, i want apps that are exciting.\\ncomputer: would it be okay if the apps have ads sometimes?\\nhuman: sure, i don't mind ads as long as the app is good.\\ncomputer: are you looking for a free app or one that you have to pay for?\\nhuman: i prefer free apps.\\ncomputer: how many reviews do you want the app to have?\\nhuman: i'd like an app that's popular and has lots of reviews.\\ncomputer: i recommend trying out grand theft auto: vice city app.\\nhuman: can you tell me more about that app?\\ncomputer: it has fun gameplay and you can customize the controls. but some users have had issues with glitches and bugs.\\nhuman: i think i'll pass on that app. do you have any other suggestions?\\ncomputer: how about trying the cooking world: cooking games app?\\nhuman: can you tell me more about that app?\\ncomputer: it has lots of levels and fun gameplay, but some users have mentioned concerns about it being pay to win.\\nhuman: i'll skip that one too. do you have another recommendation?\\ncandidate_apps: 'iqiyi-drama, anime, show', 'modern combat versus: fps game', 'monster masters', 'paypal business: send invoices and track sales', 'hair challenge', 'flex run 3d', 'aquapark.io', 'hole.io', 'idle miner tycoon: gold & cash', 'zooba: zoo battle royale game', 'opera news lite - less data, more news', 'godzilla defense force', 'ramboat 2- offline action game', 'manta: unlimited comics', 'home design makeover', 'walk band - multitracks music', 'angi: find local home services', 'zombie catchers – love to hunt', 'words of wonders: crossword', 'knives out', 'video editor app - vivacut', 'five nights at freddy's 4', 'camscanner (license)', 'crossword quest', 'sudoku.com - сlassic sudoku', \\ncomputer: I would recommend the \""
      ]
     },
     "execution_count": 32,
     "metadata": {},
     "output_type": "execute_result"
    }
   ],
   "source": [
    "prompts[40]"
   ]
  },
  {
   "cell_type": "code",
   "execution_count": 33,
   "metadata": {},
   "outputs": [
    {
     "data": {
      "text/plain": [
       "'hole.io app.<|endoftext|>'"
      ]
     },
     "execution_count": 33,
     "metadata": {},
     "output_type": "execute_result"
    }
   ],
   "source": [
    "generations[40]"
   ]
  },
  {
   "cell_type": "code",
   "execution_count": 34,
   "metadata": {},
   "outputs": [
    {
     "data": {
      "text/plain": [
       "7"
      ]
     },
     "execution_count": 34,
     "metadata": {},
     "output_type": "execute_result"
    }
   ],
   "source": [
    "true_candidate_index[40]"
   ]
  },
  {
   "cell_type": "code",
   "execution_count": 35,
   "metadata": {},
   "outputs": [],
   "source": [
    "def chunk(list_of_elements, batch_size): # using this chunk function, we can split our data to multiple batches\n",
    "  for i in range(0, len(list_of_elements), batch_size):\n",
    "    yield list_of_elements[i:i+batch_size]\n",
    "\n",
    "def evaluate_recommender(prompts, generations, model, tokenizer, batch_size=8, device=device, threshold=70):\n",
    "  prompt_batches = list(chunk(prompts, batch_size))\n",
    "  generation_batches = list(chunk(generations, batch_size))\n",
    "  max_length = 992\n",
    "  generation_length = 32\n",
    "  correctly_predicted = []\n",
    "  for prompt_batch, generation_batch in tqdm(zip(prompt_batches, generation_batches), total = len(generation_batches)):\n",
    "\n",
    "    inputs = tokenizer(prompt_batch, max_length=max_length, truncation=True, padding=\"max_length\", return_tensors=\"pt\") \n",
    "\n",
    "    generations_predicted = model.generate(input_ids=inputs[\"input_ids\"].to(device), attention_mask=inputs[\"attention_mask\"].to(device),\n",
    "                            max_new_tokens=generation_length,\n",
    "                            num_beams=8,\n",
    "                            eos_token_id=tokenizer.eos_token_id,\n",
    "                            pad_token_id=tokenizer.pad_token_id,\n",
    "                            bos_token_id=tokenizer.bos_token_id) # length_penalty=0.8, Set length_penalty to values < 1.0 in order to encourage the model to generate shorter sequences, to a value > 1.0 in order to encourage the model to produce longer sequences.\n",
    "\n",
    "    generations_predicted = generations_predicted[:, max_length:] # we only need the generation part, not the prompt part.\n",
    "    decoded_generations = [tokenizer.decode(generation, skip_special_tokens=True, clean_up_tokenization_spaces=True).replace(\" app.\", \"\")  for generation in generations_predicted]\n",
    "    generation_batch = [generation.replace(\" app.\", \"\").replace(\"<|endoftext|>\", \"\") for generation in generation_batch]\n",
    "    \n",
    "    correctly_predicted.extend([1 if fuzz.ratio(predicted, ground_truth) >= threshold else 0 for predicted, ground_truth in zip(decoded_generations, generation_batch)])\n",
    "  \n",
    "  return correctly_predicted"
   ]
  },
  {
   "cell_type": "code",
   "execution_count": 36,
   "metadata": {},
   "outputs": [
    {
     "name": "stderr",
     "output_type": "stream",
     "text": [
      "100%|██████████| 634/634 [13:34<00:00,  1.28s/it]"
     ]
    },
    {
     "name": "stdout",
     "output_type": "stream",
     "text": [
      "success_rate:  0.8261041009463722\n"
     ]
    },
    {
     "name": "stderr",
     "output_type": "stream",
     "text": [
      "\n"
     ]
    }
   ],
   "source": [
    "correctly_predicted = evaluate_recommender(prompts, generations, model, tokenizer, batch_size=4, device=device, threshold=95)\n",
    "success_rate = sum(correctly_predicted) / len(correctly_predicted)\n",
    "print(\"success_rate: \", success_rate)"
   ]
  },
  {
   "cell_type": "code",
   "execution_count": 21,
   "metadata": {},
   "outputs": [
    {
     "name": "stderr",
     "output_type": "stream",
     "text": [
      "  0%|          | 0/634 [00:00<?, ?it/s]"
     ]
    },
    {
     "name": "stderr",
     "output_type": "stream",
     "text": [
      "100%|██████████| 634/634 [12:28<00:00,  1.18s/it]"
     ]
    },
    {
     "name": "stdout",
     "output_type": "stream",
     "text": [
      "success_rate:  0.4720031545741325\n"
     ]
    },
    {
     "name": "stderr",
     "output_type": "stream",
     "text": [
      "\n"
     ]
    }
   ],
   "source": [
    "correctly_predicted = evaluate_recommender(prompts, generations, model, tokenizer, batch_size=4, device=device, threshold=95)\n",
    "success_rate = sum(correctly_predicted) / len(correctly_predicted)\n",
    "print(\"success_rate: \", success_rate)"
   ]
  },
  {
   "cell_type": "code",
   "execution_count": 22,
   "metadata": {},
   "outputs": [],
   "source": [
    "def chunk(list_of_elements, batch_size): # using this chunk function, we can split our data to multiple batches\n",
    "  for i in range(0, len(list_of_elements), batch_size):\n",
    "    yield list_of_elements[i:i+batch_size]\n",
    "    \n",
    "def convert_to_sublists(numbers, sublist_size):\n",
    "    return [numbers[i:i+sublist_size] for i in range(0, len(numbers), sublist_size)]\n",
    "\n",
    "def recommender_rank(prompts, candidate_apps, model, tokenizer, batch_size=8, device=device):\n",
    "  model.eval()\n",
    "  tokenizer.padding_side='left'\n",
    "  tokenizer.truncation_side='left'\n",
    "  max_length = 992 \n",
    "  prompts_ids = tokenizer(prompts, max_length=max_length, truncation=True, padding=\"max_length\", return_tensors=\"pt\")\n",
    "  \n",
    "  tokenizer.padding_side='right'\n",
    "  tokenizer.truncation_side='right'\n",
    "  input_ids = []\n",
    "  attention_mask = []\n",
    "  for index, candidate_app_elements in enumerate(candidate_apps):\n",
    "    candidate_apps_ids = tokenizer(candidate_app_elements, max_length=32, truncation=True, padding=\"max_length\", return_tensors=\"pt\")\n",
    "    for candidate_app_index in range(len(candidate_app_elements)):\n",
    "      input_ids.append(torch.cat([prompts_ids[\"input_ids\"][index], candidate_apps_ids[\"input_ids\"][candidate_app_index]]))\n",
    "      attention_mask.append(torch.cat([prompts_ids[\"attention_mask\"][index], candidate_apps_ids[\"attention_mask\"][candidate_app_index]]))\n",
    "      \n",
    "  input_ids_batches = list(chunk(input_ids, batch_size))\n",
    "  attention_mask_batches = list(chunk(attention_mask, batch_size))\n",
    "\n",
    "  scores = []\n",
    "  for input_ids_batch, attention_mask_batch in tqdm(zip(input_ids_batches, attention_mask_batches), total = len(attention_mask_batches)):\n",
    "\n",
    "    input_ids = torch.stack(input_ids_batch).to(device)\n",
    "    attention_mask = torch.stack(attention_mask_batch).to(device)\n",
    "    with torch.no_grad():\n",
    "      model_output = model(input_ids=input_ids) # attention_mask=attention_mask\n",
    "\n",
    "    logprobs = F.log_softmax(model_output[\"logits\"], dim=-1)[:, max_length -1:-1, :]\n",
    "    output_tokens = input_ids[:, max_length:]\n",
    "    \n",
    "    tokens_logprobs = torch.gather(logprobs, 2, output_tokens[:, :, None]).squeeze(-1).to(torch.float32)\n",
    "    \n",
    "    mask = torch.ones(tokens_logprobs.shape, dtype=torch.bool, device=device)\n",
    "    for i, _output in enumerate(output_tokens):\n",
    "      for j, _token in enumerate(_output):\n",
    "        if _token == tokenizer.pad_token_id:\n",
    "          mask[i, j] = False\n",
    "          \n",
    "    score = (tokens_logprobs * mask).sum(-1) / mask.sum(-1)\n",
    "    scores.extend(score.to('cpu').tolist())\n",
    "  \n",
    "  scores = convert_to_sublists(scores, len(candidate_apps[0]))\n",
    "  \n",
    "  return scores"
   ]
  },
  {
   "cell_type": "code",
   "execution_count": 23,
   "metadata": {},
   "outputs": [
    {
     "name": "stderr",
     "output_type": "stream",
     "text": [
      "100%|██████████| 3963/3963 [26:53<00:00,  2.46it/s]\n"
     ]
    }
   ],
   "source": [
    "scores = recommender_rank(prompts, candidate_apps, model, tokenizer, batch_size=16, device=device)"
   ]
  },
  {
   "cell_type": "code",
   "execution_count": 24,
   "metadata": {},
   "outputs": [
    {
     "data": {
      "text/plain": [
       "[0.3430599369085173,\n",
       " 0.4605678233438486,\n",
       " 0.526813880126183,\n",
       " 0.5772870662460567,\n",
       " 0.6222397476340694,\n",
       " 0.6533911671924291,\n",
       " 0.6865141955835962,\n",
       " 0.7121451104100947,\n",
       " 0.7440851735015773,\n",
       " 0.7661671924290221]"
      ]
     },
     "execution_count": 24,
     "metadata": {},
     "output_type": "execute_result"
    }
   ],
   "source": [
    "[top_k_accuracy_score(true_candidate_index, scores, k=k) for k in range(1, 11)]"
   ]
  },
  {
   "cell_type": "code",
   "execution_count": 25,
   "metadata": {},
   "outputs": [
    {
     "data": {
      "text/plain": [
       "0.7661671924290221"
      ]
     },
     "execution_count": 25,
     "metadata": {},
     "output_type": "execute_result"
    }
   ],
   "source": [
    "top_k_accuracy_score(true_candidate_index, scores, k=10)"
   ]
  },
  {
   "cell_type": "code",
   "execution_count": 26,
   "metadata": {},
   "outputs": [],
   "source": [
    "true_relevance = [[1 if item == index else 0 for item in range(len(candidate_apps[0]))] for index in true_candidate_index]"
   ]
  },
  {
   "cell_type": "code",
   "execution_count": 27,
   "metadata": {},
   "outputs": [
    {
     "data": {
      "text/plain": [
       "[0.3430599369085173,\n",
       " 0.4171991587398637,\n",
       " 0.4503221871310309,\n",
       " 0.4720598052041358,\n",
       " 0.48944987619180846,\n",
       " 0.5005462357271135,\n",
       " 0.511587245190836,\n",
       " 0.5196728985784828,\n",
       " 0.5292878156324191,\n",
       " 0.5356709505984294]"
      ]
     },
     "execution_count": 27,
     "metadata": {},
     "output_type": "execute_result"
    }
   ],
   "source": [
    "[ndcg_score(true_relevance, scores, k=k) for k in range(1, 11)]"
   ]
  }
 ],
 "metadata": {
  "kernelspec": {
   "display_name": "Python 3",
   "language": "python",
   "name": "python3"
  },
  "language_info": {
   "codemirror_mode": {
    "name": "ipython",
    "version": 3
   },
   "file_extension": ".py",
   "mimetype": "text/x-python",
   "name": "python",
   "nbconvert_exporter": "python",
   "pygments_lexer": "ipython3",
   "version": "3.9.0"
  }
 },
 "nbformat": 4,
 "nbformat_minor": 2
}
