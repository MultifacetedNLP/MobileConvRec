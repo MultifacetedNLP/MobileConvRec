{
 "cells": [
  {
   "cell_type": "code",
   "execution_count": 2,
   "metadata": {},
   "outputs": [
    {
     "name": "stdout",
     "output_type": "stream",
     "text": [
      "env: CUDA_DEVICE_ORDER=PCI_BUS_ID\n",
      "env: CUDA_VISIBLE_DEVICES=0\n"
     ]
    }
   ],
   "source": [
    "%env CUDA_DEVICE_ORDER=PCI_BUS_ID\n",
    "%env CUDA_VISIBLE_DEVICES=0"
   ]
  },
  {
   "cell_type": "code",
   "execution_count": 3,
   "metadata": {},
   "outputs": [
    {
     "name": "stderr",
     "output_type": "stream",
     "text": [
      "/mounts/u-spa-d4/grad/mfe261/Projects/MobileConvRec/envs/lib/python3.9/site-packages/tqdm/auto.py:21: TqdmWarning: IProgress not found. Please update jupyter and ipywidgets. See https://ipywidgets.readthedocs.io/en/stable/user_install.html\n",
      "  from .autonotebook import tqdm as notebook_tqdm\n",
      "/mounts/u-spa-d4/grad/mfe261/Projects/MobileConvRec/envs/lib/python3.9/site-packages/fuzzywuzzy/fuzz.py:11: UserWarning: Using slow pure-python SequenceMatcher. Install python-Levenshtein to remove this warning\n",
      "  warnings.warn('Using slow pure-python SequenceMatcher. Install python-Levenshtein to remove this warning')\n"
     ]
    }
   ],
   "source": [
    "from transformers import GPT2LMHeadModel, GPT2Tokenizer, Trainer, TrainingArguments\n",
    "import torch\n",
    "import os\n",
    "import pandas as pd\n",
    "from tqdm import tqdm\n",
    "from torch.utils.data import Dataset\n",
    "from dataclasses import dataclass\n",
    "from typing import Optional, List\n",
    "from fuzzywuzzy import fuzz\n",
    "import evaluate\n",
    "import csv\n",
    "import numpy as np\n",
    "import torch.nn.functional as F\n",
    "from sklearn.metrics import top_k_accuracy_score, ndcg_score"
   ]
  },
  {
   "cell_type": "code",
   "execution_count": 3,
   "metadata": {},
   "outputs": [],
   "source": [
    "input_file = \"/u/spa-d4/grad/mfe261/Projects/MobileConvRec/data/whole_dataset/mobilerec/splits/train.jsonl\"\n",
    "df_recommender_train = pd.read_json(input_file, lines=True)"
   ]
  },
  {
   "cell_type": "code",
   "execution_count": 4,
   "metadata": {},
   "outputs": [
    {
     "data": {
      "text/html": [
       "<div>\n",
       "<style scoped>\n",
       "    .dataframe tbody tr th:only-of-type {\n",
       "        vertical-align: middle;\n",
       "    }\n",
       "\n",
       "    .dataframe tbody tr th {\n",
       "        vertical-align: top;\n",
       "    }\n",
       "\n",
       "    .dataframe thead th {\n",
       "        text-align: right;\n",
       "    }\n",
       "</style>\n",
       "<table border=\"1\" class=\"dataframe\">\n",
       "  <thead>\n",
       "    <tr style=\"text-align: right;\">\n",
       "      <th></th>\n",
       "      <th>user_id</th>\n",
       "      <th>user_previous_interactions</th>\n",
       "      <th>recommended_app</th>\n",
       "      <th>negative_recommended_app</th>\n",
       "      <th>turns</th>\n",
       "    </tr>\n",
       "  </thead>\n",
       "  <tbody>\n",
       "    <tr>\n",
       "      <th>0</th>\n",
       "      <td>QpiHlryI4pvcIEjc</td>\n",
       "      <td>[{'app_name': 'Threema', 'app_package': 'ch.th...</td>\n",
       "      <td>{'app_name': 'Chug Patrol Kid Train: Ready to ...</td>\n",
       "      <td>[]</td>\n",
       "      <td>[{'turn': 1, 'is_rec': False, 'user_accept_rec...</td>\n",
       "    </tr>\n",
       "    <tr>\n",
       "      <th>1</th>\n",
       "      <td>AlktS4aqUweiO6c2</td>\n",
       "      <td>[{'app_name': 'Sector Strike', 'app_package': ...</td>\n",
       "      <td>{'app_name': 'Cardboard Design Lab', 'package_...</td>\n",
       "      <td>[]</td>\n",
       "      <td>[{'turn': 1, 'is_rec': False, 'user_accept_rec...</td>\n",
       "    </tr>\n",
       "    <tr>\n",
       "      <th>2</th>\n",
       "      <td>hNdOcoE3IfbPpQQv</td>\n",
       "      <td>[]</td>\n",
       "      <td>{'app_name': 'Nasty Goats', 'package_name': 'c...</td>\n",
       "      <td>[]</td>\n",
       "      <td>[{'turn': 1, 'is_rec': False, 'user_accept_rec...</td>\n",
       "    </tr>\n",
       "    <tr>\n",
       "      <th>3</th>\n",
       "      <td>9OJ3TBx83hlcGRW3</td>\n",
       "      <td>[{'app_name': 'RE/MAX Real Estate Search App (...</td>\n",
       "      <td>{'app_name': 'CamScanner (License)', 'package_...</td>\n",
       "      <td>[{'app_name': 'CamScanner - PDF Scanner App', ...</td>\n",
       "      <td>[{'turn': 1, 'is_rec': False, 'user_accept_rec...</td>\n",
       "    </tr>\n",
       "    <tr>\n",
       "      <th>4</th>\n",
       "      <td>pgwkSwLUE5VPU9vQ</td>\n",
       "      <td>[]</td>\n",
       "      <td>{'app_name': 'LEGO ® Batman: Beyond Gotham', '...</td>\n",
       "      <td>[]</td>\n",
       "      <td>[{'turn': 1, 'is_rec': False, 'user_accept_rec...</td>\n",
       "    </tr>\n",
       "    <tr>\n",
       "      <th>...</th>\n",
       "      <td>...</td>\n",
       "      <td>...</td>\n",
       "      <td>...</td>\n",
       "      <td>...</td>\n",
       "      <td>...</td>\n",
       "    </tr>\n",
       "    <tr>\n",
       "      <th>8630</th>\n",
       "      <td>FVXHRzhqHTg3AfU8</td>\n",
       "      <td>[{'app_name': 'BodyFast Intermittent Fasting',...</td>\n",
       "      <td>{'app_name': 'FaceApp: Face Editor', 'package_...</td>\n",
       "      <td>[{'app_name': 'Photoshop Express Photo Editor'...</td>\n",
       "      <td>[{'turn': 1, 'is_rec': False, 'user_accept_rec...</td>\n",
       "    </tr>\n",
       "    <tr>\n",
       "      <th>8631</th>\n",
       "      <td>15CoCtoYc3KXIdvy</td>\n",
       "      <td>[{'app_name': 'Hidden Through Time', 'app_pack...</td>\n",
       "      <td>{'app_name': 'The Walking Dead: Survivors', 'p...</td>\n",
       "      <td>[{'app_name': 'Plants vs. Zombies™ Heroes', 'p...</td>\n",
       "      <td>[{'turn': 1, 'is_rec': False, 'user_accept_rec...</td>\n",
       "    </tr>\n",
       "    <tr>\n",
       "      <th>8632</th>\n",
       "      <td>OroJNW8u3I4LORPC</td>\n",
       "      <td>[{'app_name': 'Weedmaps: Marijuana, Cannabis, ...</td>\n",
       "      <td>{'app_name': 'Hay Day', 'package_name': 'com.s...</td>\n",
       "      <td>[{'app_name': 'Farming Simulator 18', 'package...</td>\n",
       "      <td>[{'turn': 1, 'is_rec': False, 'user_accept_rec...</td>\n",
       "    </tr>\n",
       "    <tr>\n",
       "      <th>8633</th>\n",
       "      <td>h5nCG9WD0a6HYZYj</td>\n",
       "      <td>[{'app_name': 'Wordament® by Microsoft', 'app_...</td>\n",
       "      <td>{'app_name': 'Socratic by Google', 'package_na...</td>\n",
       "      <td>[]</td>\n",
       "      <td>[{'turn': 1, 'is_rec': False, 'user_accept_rec...</td>\n",
       "    </tr>\n",
       "    <tr>\n",
       "      <th>8634</th>\n",
       "      <td>tpGhfoOVOiTGxk7W</td>\n",
       "      <td>[{'app_name': 'Hades' Star', 'app_package': 'c...</td>\n",
       "      <td>{'app_name': 'Crunchyroll', 'package_name': 'c...</td>\n",
       "      <td>[]</td>\n",
       "      <td>[{'turn': 1, 'is_rec': False, 'user_accept_rec...</td>\n",
       "    </tr>\n",
       "  </tbody>\n",
       "</table>\n",
       "<p>8635 rows × 5 columns</p>\n",
       "</div>"
      ],
      "text/plain": [
       "               user_id                         user_previous_interactions  \\\n",
       "0     QpiHlryI4pvcIEjc  [{'app_name': 'Threema', 'app_package': 'ch.th...   \n",
       "1     AlktS4aqUweiO6c2  [{'app_name': 'Sector Strike', 'app_package': ...   \n",
       "2     hNdOcoE3IfbPpQQv                                                 []   \n",
       "3     9OJ3TBx83hlcGRW3  [{'app_name': 'RE/MAX Real Estate Search App (...   \n",
       "4     pgwkSwLUE5VPU9vQ                                                 []   \n",
       "...                ...                                                ...   \n",
       "8630  FVXHRzhqHTg3AfU8  [{'app_name': 'BodyFast Intermittent Fasting',...   \n",
       "8631  15CoCtoYc3KXIdvy  [{'app_name': 'Hidden Through Time', 'app_pack...   \n",
       "8632  OroJNW8u3I4LORPC  [{'app_name': 'Weedmaps: Marijuana, Cannabis, ...   \n",
       "8633  h5nCG9WD0a6HYZYj  [{'app_name': 'Wordament® by Microsoft', 'app_...   \n",
       "8634  tpGhfoOVOiTGxk7W  [{'app_name': 'Hades' Star', 'app_package': 'c...   \n",
       "\n",
       "                                        recommended_app  \\\n",
       "0     {'app_name': 'Chug Patrol Kid Train: Ready to ...   \n",
       "1     {'app_name': 'Cardboard Design Lab', 'package_...   \n",
       "2     {'app_name': 'Nasty Goats', 'package_name': 'c...   \n",
       "3     {'app_name': 'CamScanner (License)', 'package_...   \n",
       "4     {'app_name': 'LEGO ® Batman: Beyond Gotham', '...   \n",
       "...                                                 ...   \n",
       "8630  {'app_name': 'FaceApp: Face Editor', 'package_...   \n",
       "8631  {'app_name': 'The Walking Dead: Survivors', 'p...   \n",
       "8632  {'app_name': 'Hay Day', 'package_name': 'com.s...   \n",
       "8633  {'app_name': 'Socratic by Google', 'package_na...   \n",
       "8634  {'app_name': 'Crunchyroll', 'package_name': 'c...   \n",
       "\n",
       "                               negative_recommended_app  \\\n",
       "0                                                    []   \n",
       "1                                                    []   \n",
       "2                                                    []   \n",
       "3     [{'app_name': 'CamScanner - PDF Scanner App', ...   \n",
       "4                                                    []   \n",
       "...                                                 ...   \n",
       "8630  [{'app_name': 'Photoshop Express Photo Editor'...   \n",
       "8631  [{'app_name': 'Plants vs. Zombies™ Heroes', 'p...   \n",
       "8632  [{'app_name': 'Farming Simulator 18', 'package...   \n",
       "8633                                                 []   \n",
       "8634                                                 []   \n",
       "\n",
       "                                                  turns  \n",
       "0     [{'turn': 1, 'is_rec': False, 'user_accept_rec...  \n",
       "1     [{'turn': 1, 'is_rec': False, 'user_accept_rec...  \n",
       "2     [{'turn': 1, 'is_rec': False, 'user_accept_rec...  \n",
       "3     [{'turn': 1, 'is_rec': False, 'user_accept_rec...  \n",
       "4     [{'turn': 1, 'is_rec': False, 'user_accept_rec...  \n",
       "...                                                 ...  \n",
       "8630  [{'turn': 1, 'is_rec': False, 'user_accept_rec...  \n",
       "8631  [{'turn': 1, 'is_rec': False, 'user_accept_rec...  \n",
       "8632  [{'turn': 1, 'is_rec': False, 'user_accept_rec...  \n",
       "8633  [{'turn': 1, 'is_rec': False, 'user_accept_rec...  \n",
       "8634  [{'turn': 1, 'is_rec': False, 'user_accept_rec...  \n",
       "\n",
       "[8635 rows x 5 columns]"
      ]
     },
     "execution_count": 4,
     "metadata": {},
     "output_type": "execute_result"
    }
   ],
   "source": [
    "df_recommender_train"
   ]
  },
  {
   "cell_type": "code",
   "execution_count": 6,
   "metadata": {},
   "outputs": [],
   "source": [
    "input_file = \"/u/spa-d4/grad/mfe261/Projects/MobileConvRec/data/whole_dataset/mobilerec/splits/val.jsonl\"\n",
    "df_recommender_validation = pd.read_json(input_file, lines=True)"
   ]
  },
  {
   "cell_type": "code",
   "execution_count": 7,
   "metadata": {},
   "outputs": [
    {
     "data": {
      "text/html": [
       "<div>\n",
       "<style scoped>\n",
       "    .dataframe tbody tr th:only-of-type {\n",
       "        vertical-align: middle;\n",
       "    }\n",
       "\n",
       "    .dataframe tbody tr th {\n",
       "        vertical-align: top;\n",
       "    }\n",
       "\n",
       "    .dataframe thead th {\n",
       "        text-align: right;\n",
       "    }\n",
       "</style>\n",
       "<table border=\"1\" class=\"dataframe\">\n",
       "  <thead>\n",
       "    <tr style=\"text-align: right;\">\n",
       "      <th></th>\n",
       "      <th>user_id</th>\n",
       "      <th>user_previous_interactions</th>\n",
       "      <th>recommended_app</th>\n",
       "      <th>negative_recommended_app</th>\n",
       "      <th>turns</th>\n",
       "    </tr>\n",
       "  </thead>\n",
       "  <tbody>\n",
       "    <tr>\n",
       "      <th>0</th>\n",
       "      <td>7oYEjVyJoTb1Spl3</td>\n",
       "      <td>[{'app_name': 'DEAD TRIGGER 2: Zombie Games', ...</td>\n",
       "      <td>{'app_name': 'AZ Screen Recorder - Video Recor...</td>\n",
       "      <td>[{'app_name': 'Mobizen Screen Recorder', 'pack...</td>\n",
       "      <td>[{'turn': 1, 'is_rec': False, 'user_accept_rec...</td>\n",
       "    </tr>\n",
       "    <tr>\n",
       "      <th>1</th>\n",
       "      <td>qREr480MftU5cHmf</td>\n",
       "      <td>[{'app_name': 'Walli - 4K Wallpapers', 'app_pa...</td>\n",
       "      <td>{'app_name': 'dfndr security: antivirus', 'pac...</td>\n",
       "      <td>[{'app_name': 'Google Authenticator', 'package...</td>\n",
       "      <td>[{'turn': 1, 'is_rec': False, 'user_accept_rec...</td>\n",
       "    </tr>\n",
       "    <tr>\n",
       "      <th>2</th>\n",
       "      <td>932Lp6L51OFUf7G4</td>\n",
       "      <td>[{'app_name': 'Dynasty Origins: Pioneer', 'app...</td>\n",
       "      <td>{'app_name': 'Onmyoji Arena', 'package_name': ...</td>\n",
       "      <td>[{'app_name': 'Legend of Ace', 'package_name':...</td>\n",
       "      <td>[{'turn': 1, 'is_rec': False, 'user_accept_rec...</td>\n",
       "    </tr>\n",
       "    <tr>\n",
       "      <th>3</th>\n",
       "      <td>lloZoTmrDQU1UT6h</td>\n",
       "      <td>[{'app_name': 'Star Warfare2:Payback', 'app_pa...</td>\n",
       "      <td>{'app_name': 'Good Pizza, Great Pizza', 'packa...</td>\n",
       "      <td>[]</td>\n",
       "      <td>[{'turn': 1, 'is_rec': False, 'user_accept_rec...</td>\n",
       "    </tr>\n",
       "    <tr>\n",
       "      <th>4</th>\n",
       "      <td>3Ry4S118042YaHsQ</td>\n",
       "      <td>[{'app_name': 'Road to Valor: World War II', '...</td>\n",
       "      <td>{'app_name': 'Pepi Wonder World: Magic Isle!',...</td>\n",
       "      <td>[]</td>\n",
       "      <td>[{'turn': 1, 'is_rec': False, 'user_accept_rec...</td>\n",
       "    </tr>\n",
       "    <tr>\n",
       "      <th>...</th>\n",
       "      <td>...</td>\n",
       "      <td>...</td>\n",
       "      <td>...</td>\n",
       "      <td>...</td>\n",
       "      <td>...</td>\n",
       "    </tr>\n",
       "    <tr>\n",
       "      <th>1842</th>\n",
       "      <td>f9btKO9JA3uTiNNT</td>\n",
       "      <td>[{'app_name': 'Public.com - Stocks &amp; Crypto', ...</td>\n",
       "      <td>{'app_name': 'Mobile Legends: Bang Bang', 'pac...</td>\n",
       "      <td>[{'app_name': 'Onmyoji Arena', 'package_name':...</td>\n",
       "      <td>[{'turn': 1, 'is_rec': False, 'user_accept_rec...</td>\n",
       "    </tr>\n",
       "    <tr>\n",
       "      <th>1843</th>\n",
       "      <td>hTIn3sXfLCYgqFl2</td>\n",
       "      <td>[{'app_name': 'Crew Messaging and Scheduling',...</td>\n",
       "      <td>{'app_name': 'Tiles Hop: EDM Rush!', 'package_...</td>\n",
       "      <td>[{'app_name': 'Piano Music Go-EDM Piano Games'...</td>\n",
       "      <td>[{'turn': 1, 'is_rec': False, 'user_accept_rec...</td>\n",
       "    </tr>\n",
       "    <tr>\n",
       "      <th>1844</th>\n",
       "      <td>frAqBnUgTJEoFizS</td>\n",
       "      <td>[{'app_name': 'Google Calendar', 'app_package'...</td>\n",
       "      <td>{'app_name': 'Likee Lite - Let You Shine', 'pa...</td>\n",
       "      <td>[{'app_name': 'TikTok', 'package_name': 'com.z...</td>\n",
       "      <td>[{'turn': 1, 'is_rec': False, 'user_accept_rec...</td>\n",
       "    </tr>\n",
       "    <tr>\n",
       "      <th>1845</th>\n",
       "      <td>uhegyP6nZH3ZDh6D</td>\n",
       "      <td>[{'app_name': 'Broken Dawn II HD', 'app_packag...</td>\n",
       "      <td>{'app_name': 'Blockman Go', 'package_name': 'c...</td>\n",
       "      <td>[]</td>\n",
       "      <td>[{'turn': 1, 'is_rec': False, 'user_accept_rec...</td>\n",
       "    </tr>\n",
       "    <tr>\n",
       "      <th>1846</th>\n",
       "      <td>Pfph7yxMtKBARx4b</td>\n",
       "      <td>[{'app_name': 'The Battle Cats', 'app_package'...</td>\n",
       "      <td>{'app_name': 'WWE Undefeated', 'package_name':...</td>\n",
       "      <td>[]</td>\n",
       "      <td>[{'turn': 1, 'is_rec': False, 'user_accept_rec...</td>\n",
       "    </tr>\n",
       "  </tbody>\n",
       "</table>\n",
       "<p>1847 rows × 5 columns</p>\n",
       "</div>"
      ],
      "text/plain": [
       "               user_id                         user_previous_interactions  \\\n",
       "0     7oYEjVyJoTb1Spl3  [{'app_name': 'DEAD TRIGGER 2: Zombie Games', ...   \n",
       "1     qREr480MftU5cHmf  [{'app_name': 'Walli - 4K Wallpapers', 'app_pa...   \n",
       "2     932Lp6L51OFUf7G4  [{'app_name': 'Dynasty Origins: Pioneer', 'app...   \n",
       "3     lloZoTmrDQU1UT6h  [{'app_name': 'Star Warfare2:Payback', 'app_pa...   \n",
       "4     3Ry4S118042YaHsQ  [{'app_name': 'Road to Valor: World War II', '...   \n",
       "...                ...                                                ...   \n",
       "1842  f9btKO9JA3uTiNNT  [{'app_name': 'Public.com - Stocks & Crypto', ...   \n",
       "1843  hTIn3sXfLCYgqFl2  [{'app_name': 'Crew Messaging and Scheduling',...   \n",
       "1844  frAqBnUgTJEoFizS  [{'app_name': 'Google Calendar', 'app_package'...   \n",
       "1845  uhegyP6nZH3ZDh6D  [{'app_name': 'Broken Dawn II HD', 'app_packag...   \n",
       "1846  Pfph7yxMtKBARx4b  [{'app_name': 'The Battle Cats', 'app_package'...   \n",
       "\n",
       "                                        recommended_app  \\\n",
       "0     {'app_name': 'AZ Screen Recorder - Video Recor...   \n",
       "1     {'app_name': 'dfndr security: antivirus', 'pac...   \n",
       "2     {'app_name': 'Onmyoji Arena', 'package_name': ...   \n",
       "3     {'app_name': 'Good Pizza, Great Pizza', 'packa...   \n",
       "4     {'app_name': 'Pepi Wonder World: Magic Isle!',...   \n",
       "...                                                 ...   \n",
       "1842  {'app_name': 'Mobile Legends: Bang Bang', 'pac...   \n",
       "1843  {'app_name': 'Tiles Hop: EDM Rush!', 'package_...   \n",
       "1844  {'app_name': 'Likee Lite - Let You Shine', 'pa...   \n",
       "1845  {'app_name': 'Blockman Go', 'package_name': 'c...   \n",
       "1846  {'app_name': 'WWE Undefeated', 'package_name':...   \n",
       "\n",
       "                               negative_recommended_app  \\\n",
       "0     [{'app_name': 'Mobizen Screen Recorder', 'pack...   \n",
       "1     [{'app_name': 'Google Authenticator', 'package...   \n",
       "2     [{'app_name': 'Legend of Ace', 'package_name':...   \n",
       "3                                                    []   \n",
       "4                                                    []   \n",
       "...                                                 ...   \n",
       "1842  [{'app_name': 'Onmyoji Arena', 'package_name':...   \n",
       "1843  [{'app_name': 'Piano Music Go-EDM Piano Games'...   \n",
       "1844  [{'app_name': 'TikTok', 'package_name': 'com.z...   \n",
       "1845                                                 []   \n",
       "1846                                                 []   \n",
       "\n",
       "                                                  turns  \n",
       "0     [{'turn': 1, 'is_rec': False, 'user_accept_rec...  \n",
       "1     [{'turn': 1, 'is_rec': False, 'user_accept_rec...  \n",
       "2     [{'turn': 1, 'is_rec': False, 'user_accept_rec...  \n",
       "3     [{'turn': 1, 'is_rec': False, 'user_accept_rec...  \n",
       "4     [{'turn': 1, 'is_rec': False, 'user_accept_rec...  \n",
       "...                                                 ...  \n",
       "1842  [{'turn': 1, 'is_rec': False, 'user_accept_rec...  \n",
       "1843  [{'turn': 1, 'is_rec': False, 'user_accept_rec...  \n",
       "1844  [{'turn': 1, 'is_rec': False, 'user_accept_rec...  \n",
       "1845  [{'turn': 1, 'is_rec': False, 'user_accept_rec...  \n",
       "1846  [{'turn': 1, 'is_rec': False, 'user_accept_rec...  \n",
       "\n",
       "[1847 rows x 5 columns]"
      ]
     },
     "execution_count": 7,
     "metadata": {},
     "output_type": "execute_result"
    }
   ],
   "source": [
    "df_recommender_validation"
   ]
  },
  {
   "cell_type": "code",
   "execution_count": 8,
   "metadata": {},
   "outputs": [
    {
     "name": "stderr",
     "output_type": "stream",
     "text": [
      "/u/spa-d4/grad/mfe261/Projects/MobileConvRec/envs/lib/python3.9/site-packages/huggingface_hub/file_download.py:1132: FutureWarning: `resume_download` is deprecated and will be removed in version 1.0.0. Downloads always resume when possible. If you want to force a new download, use `force_download=True`.\n",
      "  warnings.warn(\n"
     ]
    }
   ],
   "source": [
    "model_checkpoint = \"gpt2\"\n",
    "bos = '<|startoftext|>'\n",
    "eos = '<|endoftext|>'\n",
    "pad = '<|pad|>'\n",
    "\n",
    "device = torch.device(\"cuda\" if torch.cuda.is_available() else \"cpu\")\n",
    "\n",
    "tokenizer = GPT2Tokenizer.from_pretrained(model_checkpoint, bos_token=bos, eos_token=eos, pad_token=pad, additional_special_tokens=[\"computer:\", \"human:\"])\n",
    "\n",
    "model = GPT2LMHeadModel.from_pretrained(model_checkpoint).to(device)\n",
    "model.resize_token_embeddings(len(tokenizer))\n",
    "model_max_length=512"
   ]
  },
  {
   "cell_type": "code",
   "execution_count": 9,
   "metadata": {},
   "outputs": [],
   "source": [
    "@dataclass\n",
    "class RecommenderItem:\n",
    "    prompt: str\n",
    "    generation: Optional[str] = None\n",
    "    \n",
    "class recommenderDataset(Dataset):\n",
    "    def __init__(self, data: List[RecommenderItem]):\n",
    "        self.data = data\n",
    "\n",
    "    def __len__(self):\n",
    "        return len(self.data)\n",
    "\n",
    "    def __getitem__(self, idx) -> RecommenderItem:\n",
    "        return self.data[idx]"
   ]
  },
  {
   "cell_type": "code",
   "execution_count": 10,
   "metadata": {},
   "outputs": [
    {
     "name": "stderr",
     "output_type": "stream",
     "text": [
      "100%|██████████| 8635/8635 [00:29<00:00, 291.01it/s]"
     ]
    },
    {
     "name": "stdout",
     "output_type": "stream",
     "text": [
      "Could not find 19\n",
      " number of items: 8616\n"
     ]
    },
    {
     "name": "stderr",
     "output_type": "stream",
     "text": [
      "\n"
     ]
    }
   ],
   "source": [
    "items_train = []\n",
    "not_founds = 0\n",
    "\n",
    "for _, row in tqdm(df_recommender_train.iterrows(), total=len(df_recommender_train)):\n",
    "    prompt = bos\n",
    "    found = False\n",
    "    recommended = row[\"recommended_app\"][\"app_name\"]\n",
    "    \n",
    "    for index, turn in enumerate(row[\"turns\"]):\n",
    "        computer = turn[\"COMPUTER\"]\n",
    "        \n",
    "        if fuzz.partial_ratio(recommended, computer) >= 90:\n",
    "            prompt += \"computer: I would recommend the \"\n",
    "            items_train.append(RecommenderItem(prompt, recommended + \" app.\" + eos))\n",
    "            found = True\n",
    "            break\n",
    "        else:\n",
    "            prompt += computer + \"\\n\"\n",
    "        \n",
    "        if \"HUMAN\" in turn:\n",
    "            human = turn[\"HUMAN\"]\n",
    "            prompt += \"human: \" + human + \"\\n\"\n",
    "    \n",
    "    if not found:\n",
    "        not_founds += 1\n",
    "\n",
    "print(f\"Could not find {not_founds}\")\n",
    "print(f\" number of items: {len(items_train)}\")"
   ]
  },
  {
   "cell_type": "code",
   "execution_count": 11,
   "metadata": {},
   "outputs": [
    {
     "name": "stderr",
     "output_type": "stream",
     "text": [
      "  0%|          | 0/1847 [00:00<?, ?it/s]"
     ]
    },
    {
     "name": "stderr",
     "output_type": "stream",
     "text": [
      "100%|██████████| 1847/1847 [00:06<00:00, 300.58it/s]"
     ]
    },
    {
     "name": "stdout",
     "output_type": "stream",
     "text": [
      "Could not find 11\n",
      " number of items: 1836\n"
     ]
    },
    {
     "name": "stderr",
     "output_type": "stream",
     "text": [
      "\n"
     ]
    }
   ],
   "source": [
    "items_validation = []\n",
    "not_founds = 0\n",
    "\n",
    "for _, row in tqdm(df_recommender_validation.iterrows(), total=len(df_recommender_validation)):\n",
    "    prompt = bos\n",
    "    found = False\n",
    "    recommended = row[\"recommended_app\"][\"app_name\"]\n",
    "    \n",
    "    for index, turn in enumerate(row[\"turns\"]):\n",
    "        computer = turn[\"COMPUTER\"]\n",
    "        \n",
    "        if fuzz.partial_ratio(recommended, computer) >= 90:\n",
    "            prompt += \"computer: I would recommend the \"\n",
    "            items_validation.append(RecommenderItem(prompt, recommended + \" app.\" + eos))\n",
    "            found = True\n",
    "            break\n",
    "        else:\n",
    "            prompt += computer + \"\\n\"\n",
    "        \n",
    "        if \"HUMAN\" in turn:\n",
    "            human = turn[\"HUMAN\"]\n",
    "            prompt += \"human: \" + human + \"\\n\"\n",
    "    \n",
    "    if not found:\n",
    "        not_founds += 1\n",
    "        \n",
    "print(f\"Could not find {not_founds}\")\n",
    "print(f\" number of items: {len(items_validation)}\")"
   ]
  },
  {
   "cell_type": "code",
   "execution_count": 12,
   "metadata": {},
   "outputs": [
    {
     "data": {
      "text/plain": [
       "'Gear.Club - True Racing app.<|endoftext|>'"
      ]
     },
     "execution_count": 12,
     "metadata": {},
     "output_type": "execute_result"
    }
   ],
   "source": [
    "items_train[70].generation"
   ]
  },
  {
   "cell_type": "code",
   "execution_count": 13,
   "metadata": {},
   "outputs": [
    {
     "data": {
      "text/plain": [
       "\"<|startoftext|>Hi! How can I help you today?\\nhuman: I am interested in children's train games that are compatible with Android.\\nAlright! Any specific features you are interested in?\\nhuman: I am looking for it to be interactive.\\nDo you want the game to have power-ups?\\nhuman: Yes, I am looking for power-ups.\\nAre you interested in a free app, or would you consider paying for additional features?\\nhuman: I prefer free apps.\\nDo you want the game to be challenging?\\nhuman: I need the game to be challenging.\\nAre app bugs an issue for you?\\nhuman: I prefer the app not to have bugs and glitches.\\ncomputer: I would recommend the \""
      ]
     },
     "execution_count": 13,
     "metadata": {},
     "output_type": "execute_result"
    }
   ],
   "source": [
    "items_train[0].prompt"
   ]
  },
  {
   "cell_type": "code",
   "execution_count": 14,
   "metadata": {},
   "outputs": [],
   "source": [
    "def training_collator(batch: list[recommenderDataset]): # for training a language model\n",
    "    input_ids = []\n",
    "    attention_masks = []\n",
    "    labels = []\n",
    "    for item in batch:\n",
    "        prompt_tokens = tokenizer.encode(item.prompt, return_tensors=\"pt\")[0] \n",
    "        generation_tokens = tokenizer.encode(item.generation, return_tensors=\"pt\")[0]\n",
    "        prompt_len = len(prompt_tokens)\n",
    "        generation_len = len(generation_tokens)\n",
    "        unused_len = model_max_length - prompt_len - generation_len\n",
    "        # handling case when input is greater than tokenizer length.\n",
    "        if unused_len < 0:\n",
    "            prompt_start_tokens = prompt_tokens[:1]\n",
    "            trimmed_prompt = prompt_tokens[unused_len * -1 + 1 :] # TODO: you could delete the prompt to reach the first |beginuser| token\n",
    "            prompt_tokens = torch.cat(\n",
    "                [prompt_start_tokens, trimmed_prompt], axis=0\n",
    "            )\n",
    "            prompt_len = len(prompt_tokens)\n",
    "            unused_len = 0\n",
    "        pad = torch.full([unused_len], tokenizer.pad_token_id)\n",
    "        input_tokens = torch.cat(\n",
    "            [prompt_tokens, generation_tokens, pad]\n",
    "        )\n",
    "        label = torch.cat(\n",
    "            [\n",
    "                torch.full(\n",
    "                    [prompt_len],\n",
    "                    -100,\n",
    "                ),\n",
    "                generation_tokens,\n",
    "                torch.full([unused_len], -100),\n",
    "            ]\n",
    "        )\n",
    "        attention_mask = torch.cat(\n",
    "            [\n",
    "                torch.full([prompt_len + generation_len], 1),\n",
    "                torch.full([unused_len], 0),\n",
    "            ]\n",
    "        )\n",
    "        input_ids.append(input_tokens)\n",
    "        attention_masks.append(attention_mask)\n",
    "        labels.append(label)\n",
    "\n",
    "    out = {\n",
    "        \"input_ids\": torch.stack(input_ids),\n",
    "        \"attention_mask\": torch.stack(attention_masks),\n",
    "        \"labels\": torch.stack(labels),\n",
    "    }\n",
    "\n",
    "    return out"
   ]
  },
  {
   "cell_type": "code",
   "execution_count": 15,
   "metadata": {},
   "outputs": [],
   "source": [
    "training_args = TrainingArguments(\n",
    "    output_dir=\"/u/spa-d4/grad/mfe261/Projects/MobileConvRec/models/new_models\",\n",
    "    num_train_epochs=5,\n",
    "    # logging_steps=500,\n",
    "    # logging_dir=self.cfg.logging_dir,\n",
    "    load_best_model_at_end=True,\n",
    "    metric_for_best_model=\"eval_loss\",\n",
    "    save_strategy=\"steps\",\n",
    "    evaluation_strategy=\"steps\",\n",
    "    save_steps=0.3,#self.cfg.save_steps,\n",
    "    eval_steps=0.3, #self.cfg.eval_steps,\n",
    "    save_total_limit=3,\n",
    "    gradient_accumulation_steps=3, #gradient_accumulation_steps,\n",
    "    per_device_train_batch_size=4, #train_batch_size,\n",
    "    per_device_eval_batch_size=4, #self.cfg.eval_batch_size,\n",
    "    warmup_steps=100,\n",
    "    weight_decay=0.01,\n",
    "    # dataloader_drop_last=True,\n",
    "    disable_tqdm=False,\n",
    "    push_to_hub=False\n",
    ")\n",
    "\n",
    "\n",
    "trainer = Trainer(\n",
    "        model=model,\n",
    "        args=training_args,\n",
    "        train_dataset=recommenderDataset(items_train),\n",
    "        eval_dataset=recommenderDataset(items_validation), #dm.datasets[DataNames.dev_language_model.value],\n",
    "        data_collator=training_collator,\n",
    "    )"
   ]
  },
  {
   "cell_type": "code",
   "execution_count": 16,
   "metadata": {},
   "outputs": [
    {
     "data": {
      "text/html": [
       "\n",
       "    <div>\n",
       "      \n",
       "      <progress value='3590' max='3590' style='width:300px; height:20px; vertical-align: middle;'></progress>\n",
       "      [3590/3590 28:34, Epoch 5/5]\n",
       "    </div>\n",
       "    <table border=\"1\" class=\"dataframe\">\n",
       "  <thead>\n",
       " <tr style=\"text-align: left;\">\n",
       "      <th>Step</th>\n",
       "      <th>Training Loss</th>\n",
       "      <th>Validation Loss</th>\n",
       "    </tr>\n",
       "  </thead>\n",
       "  <tbody>\n",
       "    <tr>\n",
       "      <td>1077</td>\n",
       "      <td>0.970200</td>\n",
       "      <td>0.951732</td>\n",
       "    </tr>\n",
       "    <tr>\n",
       "      <td>2154</td>\n",
       "      <td>0.399100</td>\n",
       "      <td>0.745969</td>\n",
       "    </tr>\n",
       "    <tr>\n",
       "      <td>3231</td>\n",
       "      <td>0.264000</td>\n",
       "      <td>0.729754</td>\n",
       "    </tr>\n",
       "  </tbody>\n",
       "</table><p>"
      ],
      "text/plain": [
       "<IPython.core.display.HTML object>"
      ]
     },
     "metadata": {},
     "output_type": "display_data"
    },
    {
     "name": "stderr",
     "output_type": "stream",
     "text": [
      "There were missing keys in the checkpoint model loaded: ['lm_head.weight'].\n"
     ]
    }
   ],
   "source": [
    "trainer.train()\n",
    "trainer.save_model()"
   ]
  },
  {
   "cell_type": "code",
   "execution_count": 17,
   "metadata": {},
   "outputs": [],
   "source": [
    "torch.cuda.empty_cache()"
   ]
  },
  {
   "cell_type": "markdown",
   "metadata": {},
   "source": [
    "# Load the model and test it on the test dataset"
   ]
  },
  {
   "cell_type": "code",
   "execution_count": 4,
   "metadata": {},
   "outputs": [],
   "source": [
    "input_file = \"/u/spa-d4/grad/mfe261/Projects/MobileConvRec/data/whole_dataset/mobilerec/splits/test.jsonl\"\n",
    "df_recommender_test = pd.read_json(input_file, lines=True)"
   ]
  },
  {
   "cell_type": "code",
   "execution_count": 5,
   "metadata": {},
   "outputs": [],
   "source": [
    "apps_training_path = \"/u/spa-d4/grad/mfe261/Projects/MobileConvRec/data/master_app_data_V1_true.csv\"\n",
    "\n",
    "all_apps = []\n",
    "with open(apps_training_path, 'r') as csv_file:\n",
    "    csv_reader = csv.DictReader(csv_file)\n",
    "    for row in csv_reader:\n",
    "        all_apps.append(row[\"app_name\"].lower())"
   ]
  },
  {
   "cell_type": "code",
   "execution_count": null,
   "metadata": {},
   "outputs": [],
   "source": [
    "def fix_recommended_apps_names(row):\n",
    "    if row[\"recommended_app\"][\"app_name\"] not in all_apps:\n",
    "        for app in all_apps:\n",
    "            if fuzz.ratio(row[\"recommended_app\"][\"app_name\"].lower(), app.lower()) > 80:\n",
    "                # return app\n",
    "                print(f\"Found: {row['recommended_app']['app_name']} -> {app}\")\n",
    "        return \"uno!™\"\n",
    "    else:\n",
    "        return row[\"recommended_app\"][\"app_name\"]\n",
    "\n",
    "df_recommender_test['recommended_app_name'] = df_recommender_test.apply(fix_recommended_apps_names, axis=1)"
   ]
  },
  {
   "cell_type": "code",
   "execution_count": 6,
   "metadata": {},
   "outputs": [],
   "source": [
    "def candidate_creator(row):\n",
    "    np.random.seed(row.name)\n",
    "    selected_values = np.random.choice(np.setdiff1d(all_apps, [row[\"recommended_app\"][\"app_name\"]]), 24, replace=False)\n",
    "    random_position = np.random.randint(0, len(selected_values) + 1)\n",
    "    \n",
    "    return np.insert(selected_values, random_position, row[\"recommended_app\"][\"app_name\"]) \n",
    "\n",
    "df_recommender_test['candidate_apps'] = df_recommender_test.apply(lambda row: candidate_creator(row), axis=1)"
   ]
  },
  {
   "cell_type": "code",
   "execution_count": 7,
   "metadata": {},
   "outputs": [
    {
     "data": {
      "text/plain": [
       "{'app_name': 'YouTube',\n",
       " 'package_name': 'com.google.android.youtube',\n",
       " 'date': '2021-12-26T00:00:00'}"
      ]
     },
     "execution_count": 7,
     "metadata": {},
     "output_type": "execute_result"
    }
   ],
   "source": [
    "df_recommender_test.iloc[0][\"recommended_app\"]"
   ]
  },
  {
   "cell_type": "code",
   "execution_count": 8,
   "metadata": {},
   "outputs": [
    {
     "data": {
      "text/plain": [
       "[{'turn': 1,\n",
       "  'is_rec': False,\n",
       "  'user_accept_recommendation': False,\n",
       "  'COMPUTER': 'Hi! How can I help you today?',\n",
       "  'HUMAN': \"I'm looking for a video streaming app for my Android phone. Any suggestions?\"},\n",
       " {'turn': 2,\n",
       "  'is_rec': False,\n",
       "  'user_accept_recommendation': False,\n",
       "  'COMPUTER': \"Could you share some more details about what you're looking for?\",\n",
       "  'HUMAN': 'It’d be great if it had convenience.'},\n",
       " {'turn': 3,\n",
       "  'is_rec': False,\n",
       "  'user_accept_recommendation': False,\n",
       "  'COMPUTER': 'Do you have any specific content rating in mind for the app?',\n",
       "  'HUMAN': \"I'm looking for apps suitable for teens.\"},\n",
       " {'turn': 4,\n",
       "  'is_rec': False,\n",
       "  'user_accept_recommendation': False,\n",
       "  'COMPUTER': 'Are you comfortable with the app having bugs and glitches?',\n",
       "  'HUMAN': 'I don’t have any problems with bugs and glitches.'},\n",
       " {'turn': 5,\n",
       "  'is_rec': False,\n",
       "  'user_accept_recommendation': False,\n",
       "  'COMPUTER': 'Got it! What about ads?',\n",
       "  'HUMAN': \"I'm open to exploring apps that contain ads.\"},\n",
       " {'turn': 6,\n",
       "  'is_rec': False,\n",
       "  'user_accept_recommendation': False,\n",
       "  'COMPUTER': 'What average rating are you looking for? Please give a number between 0 and 5.',\n",
       "  'HUMAN': 'I prefer apps with high ratings, around 5 stars.'},\n",
       " {'turn': 7,\n",
       "  'is_rec': True,\n",
       "  'user_accept_recommendation': False,\n",
       "  'COMPUTER': 'Based on what you’ve told me, I recommend giving \"Viu: Dramas, TV Shows & Movies\" a try.',\n",
       "  'HUMAN': \"I've come across this entertainment you recommended, but I'm worried it might be a scam. Can you confirm if it's legitimate?\"},\n",
       " {'turn': 8,\n",
       "  'is_rec': False,\n",
       "  'user_accept_recommendation': False,\n",
       "  'COMPUTER': 'Based on numerous user reviews, there have been several reports indicating that this app has scammed users in the past.',\n",
       "  'HUMAN': 'Hmm, I’m not sure. I think I’ll try a different app.'},\n",
       " {'turn': 9,\n",
       "  'is_rec': True,\n",
       "  'user_accept_recommendation': False,\n",
       "  'COMPUTER': 'In that case, \"YouTube\" is worth considering.',\n",
       "  'HUMAN': 'Could you give me some details on \"YouTube,\" please?'},\n",
       " {'turn': 10,\n",
       "  'is_rec': False,\n",
       "  'user_accept_recommendation': True,\n",
       "  'COMPUTER': 'You can expect convenience, as well as personalized and ad-free options.',\n",
       "  'HUMAN': 'Sounds good! I\\'ll test out \"YouTube.\" Thanks for the suggestion!'},\n",
       " {'turn': 11,\n",
       "  'is_rec': False,\n",
       "  'user_accept_recommendation': False,\n",
       "  'COMPUTER': 'You’re welcome! Enjoy your experience with \"YouTube.\" If you have any more questions or need assistance, feel free to ask.'}]"
      ]
     },
     "execution_count": 8,
     "metadata": {},
     "output_type": "execute_result"
    }
   ],
   "source": [
    "df_recommender_test.iloc[0][\"turns\"]"
   ]
  },
  {
   "cell_type": "code",
   "execution_count": 9,
   "metadata": {},
   "outputs": [
    {
     "data": {
      "text/plain": [
       "array(['move people', \"baby panda's juice shop\", 'YouTube',\n",
       "       'sonic dash 2: sonic boom', 'ca notify',\n",
       "       'vita - video editor & maker', 'whatsapp business',\n",
       "       'jurassic world™: the game', 'gravity rider: space bike race',\n",
       "       'tower defense king', 'music player - mp3 player',\n",
       "       '30 day fitness challenge', 'binance: buy btc & 600+ crypto',\n",
       "       'hair challenge', 'idle heroes', 'snipers vs thieves',\n",
       "       'race: rocket arena car extreme', 'azur lane',\n",
       "       'animal crossing: pocket camp', 'candy camera - photo editor',\n",
       "       'mytherapy pill reminder', 'uber - driver: drive & deliver',\n",
       "       \"motogp racing '21\", 'what3words', 'puzzle combat: match-3 rpg'],\n",
       "      dtype='<U50')"
      ]
     },
     "execution_count": 9,
     "metadata": {},
     "output_type": "execute_result"
    }
   ],
   "source": [
    "df_recommender_test.iloc[0][\"candidate_apps\"]"
   ]
  },
  {
   "cell_type": "code",
   "execution_count": 10,
   "metadata": {},
   "outputs": [],
   "source": [
    "@dataclass\n",
    "class RecommenderItem:\n",
    "    prompt: str\n",
    "    generation: Optional[str] = None\n",
    "    \n",
    "class recommenderDataset(Dataset):\n",
    "    def __init__(self, data: List[RecommenderItem]):\n",
    "        self.data = data\n",
    "\n",
    "    def __len__(self):\n",
    "        return len(self.data)\n",
    "\n",
    "    def __getitem__(self, idx) -> RecommenderItem:\n",
    "        return self.data[idx]"
   ]
  },
  {
   "cell_type": "code",
   "execution_count": 11,
   "metadata": {},
   "outputs": [
    {
     "name": "stderr",
     "output_type": "stream",
     "text": [
      "/mounts/u-spa-d4/grad/mfe261/Projects/MobileConvRec/envs/lib/python3.9/site-packages/huggingface_hub/file_download.py:1132: FutureWarning: `resume_download` is deprecated and will be removed in version 1.0.0. Downloads always resume when possible. If you want to force a new download, use `force_download=True`.\n",
      "  warnings.warn(\n"
     ]
    },
    {
     "data": {
      "text/plain": [
       "GPT2LMHeadModel(\n",
       "  (transformer): GPT2Model(\n",
       "    (wte): Embedding(50261, 768)\n",
       "    (wpe): Embedding(1024, 768)\n",
       "    (drop): Dropout(p=0.1, inplace=False)\n",
       "    (h): ModuleList(\n",
       "      (0-11): 12 x GPT2Block(\n",
       "        (ln_1): LayerNorm((768,), eps=1e-05, elementwise_affine=True)\n",
       "        (attn): GPT2Attention(\n",
       "          (c_attn): Conv1D()\n",
       "          (c_proj): Conv1D()\n",
       "          (attn_dropout): Dropout(p=0.1, inplace=False)\n",
       "          (resid_dropout): Dropout(p=0.1, inplace=False)\n",
       "        )\n",
       "        (ln_2): LayerNorm((768,), eps=1e-05, elementwise_affine=True)\n",
       "        (mlp): GPT2MLP(\n",
       "          (c_fc): Conv1D()\n",
       "          (c_proj): Conv1D()\n",
       "          (act): NewGELUActivation()\n",
       "          (dropout): Dropout(p=0.1, inplace=False)\n",
       "        )\n",
       "      )\n",
       "    )\n",
       "    (ln_f): LayerNorm((768,), eps=1e-05, elementwise_affine=True)\n",
       "  )\n",
       "  (lm_head): Linear(in_features=768, out_features=50261, bias=False)\n",
       ")"
      ]
     },
     "execution_count": 11,
     "metadata": {},
     "output_type": "execute_result"
    }
   ],
   "source": [
    "device = torch.device(\"cuda\" if torch.cuda.is_available() else \"cpu\")\n",
    "bos = '<|startoftext|>'\n",
    "eos = '<|endoftext|>'\n",
    "pad = '<|pad|>'\n",
    "\n",
    "tokenizer = GPT2Tokenizer.from_pretrained(\"gpt2\", bos_token=bos, eos_token=eos, pad_token=pad, additional_special_tokens=[\"computer:\", \"human:\"], padding_side='left')\n",
    "\n",
    "model = GPT2LMHeadModel.from_pretrained(\"/u/spa-d4/grad/mfe261/Projects/MobileConvRec/models/new_models/GPT2_recommender/checkpoint-3231\").to(device)\n",
    "model.resize_token_embeddings(len(tokenizer))\n",
    "model.eval()"
   ]
  },
  {
   "cell_type": "code",
   "execution_count": 12,
   "metadata": {},
   "outputs": [
    {
     "data": {
      "text/plain": [
       "'right'"
      ]
     },
     "execution_count": 12,
     "metadata": {},
     "output_type": "execute_result"
    }
   ],
   "source": [
    "tokenizer.truncation_side"
   ]
  },
  {
   "cell_type": "code",
   "execution_count": 44,
   "metadata": {},
   "outputs": [
    {
     "name": "stdout",
     "output_type": "stream",
     "text": [
      "Could not find 3\n",
      "Number of prompt: 1844\n",
      "Number of generations: 1844\n",
      "Number of candidate apps: 1844\n"
     ]
    }
   ],
   "source": [
    "prompts = []\n",
    "generations = []\n",
    "candidate_apps = []\n",
    "true_candidate_indexes = []\n",
    "not_founds = 0\n",
    "for _, row in df_recommender_test.iterrows():\n",
    "    # creating candidate apps\n",
    "    candidates = []\n",
    "    for index, candidate_app in enumerate(row[\"candidate_apps\"].tolist()):\n",
    "        candidates.append(candidate_app + \" app.\" + eos)\n",
    "        if candidate_app == row[\"recommended_app\"][\"app_name\"]:\n",
    "            true_candidate_index = index\n",
    "    prompt = bos\n",
    "    found = False\n",
    "    recommended = row[\"recommended_app\"][\"app_name\"]\n",
    "    \n",
    "    for index, turn in enumerate(row[\"turns\"]):\n",
    "        computer = turn[\"COMPUTER\"]\n",
    "        \n",
    "        if fuzz.partial_ratio(recommended, computer) >= 90:\n",
    "            prompt += \"computer: I would recommend the \"\n",
    "            prompts.append(prompt)\n",
    "            generations.append(recommended + \" app.\")\n",
    "            candidate_apps.append(candidates)\n",
    "            true_candidate_indexes.append(true_candidate_index)\n",
    "            found = True\n",
    "            break\n",
    "        else:\n",
    "            prompt += computer + \"\\n\"\n",
    "        \n",
    "        if \"HUMAN\" in turn:\n",
    "            human = turn[\"HUMAN\"]\n",
    "            prompt += \"human: \" + human + \"\\n\"\n",
    "    \n",
    "    if not found:\n",
    "        not_founds += 1\n",
    "\n",
    "print(f\"Could not find {not_founds}\")\n",
    "print(f\"Number of prompt: {len(prompts)}\")\n",
    "print(f\"Number of generations: {len(generations)}\")\n",
    "print(f\"Number of candidate apps: {len(candidate_apps)}\")"
   ]
  },
  {
   "cell_type": "code",
   "execution_count": 45,
   "metadata": {},
   "outputs": [
    {
     "data": {
      "text/plain": [
       "'<|startoftext|>Hello! How may I assist you today?\\nhuman: I\\'m interested in finding a Virtual Pet Game that works with Android. Any recommendations?\\nGot it! Are there any particular features you\\'re excited about?\\nhuman: I’d prefer if it comes with fun elements.\\nAre you looking for the game and its characters to have power-ups?\\nhuman: Yes, I need the game to feature power-ups.\\nDo you need the app to be user-friendly?\\nhuman: Yes, I want it to be user-friendly.\\nDo you have any specific content rating in mind for the app?\\nhuman: I generally prefer apps with a rating of Everyone.\\nBased on your preferences, I recommend trying out \"Penguin Isle.\"\\nhuman: I\\'ve heard about this app you\\'re recommending, but I\\'m worried about potential issues. Can you tell me if users have reported any problems with battery drain, intrusive ads, or other negative points?\\nBased on multiple user reviews, significant battery drain and frequent intrusive ads have been common complaints about this app.\\nhuman: Hmm, I\\'m not sure. I think I will try a different app.\\nNoted. There\\'s also \"Happy Pet Story: Virtual Pet Game.\" Would you like to consider it?\\nhuman: I\\'m seeing that you\\'ve recommended a lifestyle app for me to try. Can you tell me if there are any drawbacks I should be aware of before I decide?\\nBased on numerous user reviews, some drawbacks include limited functionality and unstable progress in achieving lifestyle goals.\\nhuman: Thanks for the suggestion, but I\\'m not comfortable with the reported limited functionality and unstable progress.\\ncomputer: I would recommend the '"
      ]
     },
     "execution_count": 45,
     "metadata": {},
     "output_type": "execute_result"
    }
   ],
   "source": [
    "prompts[100]"
   ]
  },
  {
   "cell_type": "code",
   "execution_count": 46,
   "metadata": {},
   "outputs": [
    {
     "data": {
      "text/plain": [
       "'My Talking Hank app.'"
      ]
     },
     "execution_count": 46,
     "metadata": {},
     "output_type": "execute_result"
    }
   ],
   "source": [
    "generations[100]"
   ]
  },
  {
   "cell_type": "code",
   "execution_count": 47,
   "metadata": {},
   "outputs": [
    {
     "data": {
      "text/plain": [
       "['radio garden app.<|endoftext|>',\n",
       " \"alto's odyssey app.<|endoftext|>\",\n",
       " 'cookie swirl world app.<|endoftext|>',\n",
       " 'adobe acrobat reader: edit pdf app.<|endoftext|>',\n",
       " \"alto's adventure app.<|endoftext|>\",\n",
       " 'My Talking Hank app.<|endoftext|>',\n",
       " \"june's journey: hidden objects app.<|endoftext|>\",\n",
       " 'cymera - photo editor collage app.<|endoftext|>',\n",
       " 'real drum: electronic drums app.<|endoftext|>',\n",
       " 'walk band - multitracks music app.<|endoftext|>',\n",
       " 'angry neighbor app.<|endoftext|>',\n",
       " 'flex run 3d app.<|endoftext|>',\n",
       " 'smashing rush : parkour action run game app.<|endoftext|>',\n",
       " 'toy blast app.<|endoftext|>',\n",
       " 'world of tanks blitz app.<|endoftext|>',\n",
       " 'soccer live scores - sofascore app.<|endoftext|>',\n",
       " 'mico: make friends, live chat and go live stream app.<|endoftext|>',\n",
       " 'ramboat 2- offline action game app.<|endoftext|>',\n",
       " 'infinite painter app.<|endoftext|>',\n",
       " 'doordash - food delivery app.<|endoftext|>',\n",
       " 'super mario run app.<|endoftext|>',\n",
       " 'toca life: vacation app.<|endoftext|>',\n",
       " 'banana kong app.<|endoftext|>',\n",
       " 'lords mobile: tower defense app.<|endoftext|>',\n",
       " 'ninja arashi app.<|endoftext|>']"
      ]
     },
     "execution_count": 47,
     "metadata": {},
     "output_type": "execute_result"
    }
   ],
   "source": [
    "candidate_apps[100]"
   ]
  },
  {
   "cell_type": "code",
   "execution_count": 37,
   "metadata": {},
   "outputs": [],
   "source": [
    "def chunk(list_of_elements, batch_size): # using this chunk function, we can split our data to multiple batches\n",
    "  for i in range(0, len(list_of_elements), batch_size):\n",
    "    yield list_of_elements[i:i+batch_size]\n",
    "\n",
    "def evaluate_recommender(prompts, generations, model, tokenizer, batch_size=8, device=device, threshold=70):\n",
    "  prompt_batches = list(chunk(prompts, batch_size))\n",
    "  generation_batches = list(chunk(generations, batch_size))\n",
    "  max_length=512\n",
    "  generation_length = 32\n",
    "  correctly_predicted = []\n",
    "  for prompt_batch, generation_batch in tqdm(zip(prompt_batches, generation_batches), total = len(generation_batches)):\n",
    "\n",
    "    inputs = tokenizer(prompt_batch, max_length=max_length, truncation=True, padding=\"max_length\", return_tensors=\"pt\") \n",
    "\n",
    "    generations_predicted = model.generate(input_ids=inputs[\"input_ids\"].to(device), attention_mask=inputs[\"attention_mask\"].to(device),\n",
    "                            max_new_tokens=generation_length,\n",
    "                            num_beams=8,\n",
    "                            eos_token_id=tokenizer.eos_token_id,\n",
    "                            pad_token_id=tokenizer.pad_token_id,\n",
    "                            bos_token_id=tokenizer.bos_token_id) # length_penalty=0.8, Set length_penalty to values < 1.0 in order to encourage the model to generate shorter sequences, to a value > 1.0 in order to encourage the model to produce longer sequences.\n",
    "\n",
    "    generations_predicted = generations_predicted[:, max_length:] # we only need the generation part, not the prompt part.\n",
    "    decoded_generations = [tokenizer.decode(generation, skip_special_tokens=True, clean_up_tokenization_spaces=True).replace(\" app.\", \"\")  for generation in generations_predicted]\n",
    "    generation_batch = [generation.replace(\" app.\", \"\").replace(\"<|endoftext|>\", \"\") for generation in generation_batch]\n",
    "    \n",
    "    correctly_predicted.extend([1 if fuzz.ratio(predicted, ground_truth) > threshold else 0 for predicted, ground_truth in zip(decoded_generations, generation_batch)])\n",
    "    \n",
    "  \n",
    "  return correctly_predicted"
   ]
  },
  {
   "cell_type": "code",
   "execution_count": 39,
   "metadata": {},
   "outputs": [
    {
     "name": "stderr",
     "output_type": "stream",
     "text": [
      "100%|██████████| 922/922 [06:07<00:00,  2.51it/s]"
     ]
    },
    {
     "name": "stdout",
     "output_type": "stream",
     "text": [
      "success_rate:  0.45336225596529284\n"
     ]
    },
    {
     "name": "stderr",
     "output_type": "stream",
     "text": [
      "\n"
     ]
    }
   ],
   "source": [
    "correctly_predicted = evaluate_recommender(prompts, generations, model, tokenizer, batch_size=2, device=device, threshold=95)\n",
    "success_rate = sum(correctly_predicted) / len(correctly_predicted)\n",
    "print(\"success_rate: \", success_rate)"
   ]
  },
  {
   "cell_type": "code",
   "execution_count": 38,
   "metadata": {},
   "outputs": [],
   "source": [
    "def chunk(list_of_elements, batch_size): # using this chunk function, we can split our data to multiple batches\n",
    "  for i in range(0, len(list_of_elements), batch_size):\n",
    "    yield list_of_elements[i:i+batch_size]\n",
    "    \n",
    "def convert_to_sublists(numbers, sublist_size):\n",
    "    return [numbers[i:i+sublist_size] for i in range(0, len(numbers), sublist_size)]\n",
    "\n",
    "def recommender_rank(prompts, candidate_apps, model, tokenizer, batch_size=8, device=device):\n",
    "  model.eval()\n",
    "  tokenizer.padding_side='left'\n",
    "  tokenizer.truncation_side='left'\n",
    "  max_length = 512\n",
    "  prompts_ids = tokenizer(prompts, max_length=max_length, truncation=True, padding=\"max_length\", return_tensors=\"pt\")\n",
    "  \n",
    "  tokenizer.padding_side='right'\n",
    "  tokenizer.truncation_side='right'\n",
    "  input_ids = []\n",
    "  attention_mask = []\n",
    "  for index, candidate_app_elements in enumerate(candidate_apps):\n",
    "    candidate_apps_ids = tokenizer(candidate_app_elements, max_length=32, truncation=True, padding=\"max_length\", return_tensors=\"pt\")\n",
    "    for candidate_app_index in range(len(candidate_app_elements)):\n",
    "      input_ids.append(torch.cat([prompts_ids[\"input_ids\"][index], candidate_apps_ids[\"input_ids\"][candidate_app_index]]))\n",
    "      attention_mask.append(torch.cat([prompts_ids[\"attention_mask\"][index], candidate_apps_ids[\"attention_mask\"][candidate_app_index]]))\n",
    "      \n",
    "  input_ids_batches = list(chunk(input_ids, batch_size))\n",
    "  attention_mask_batches = list(chunk(attention_mask, batch_size))\n",
    "\n",
    "  scores = []\n",
    "  for input_ids_batch, attention_mask_batch in tqdm(zip(input_ids_batches, attention_mask_batches), total = len(attention_mask_batches)):\n",
    "\n",
    "    input_ids = torch.stack(input_ids_batch).to(device)\n",
    "    attention_mask = torch.stack(attention_mask_batch).to(device)\n",
    "    with torch.no_grad():\n",
    "      model_output = model(input_ids=input_ids) # attention_mask=attention_mask\n",
    "\n",
    "    logprobs = F.log_softmax(model_output[\"logits\"], dim=-1)[:, max_length -1:-1, :]\n",
    "    output_tokens = input_ids[:, max_length:]\n",
    "    \n",
    "    tokens_logprobs = torch.gather(logprobs, 2, output_tokens[:, :, None]).squeeze(-1).to(torch.float32)\n",
    "    \n",
    "    mask = torch.ones(tokens_logprobs.shape, dtype=torch.bool, device=device)\n",
    "    for i, _output in enumerate(output_tokens):\n",
    "      for j, _token in enumerate(_output):\n",
    "        if _token == tokenizer.pad_token_id:\n",
    "          mask[i, j] = False\n",
    "          \n",
    "    score = (tokens_logprobs * mask).sum(-1) / mask.sum(-1)\n",
    "    scores.extend(score.to('cpu').tolist())\n",
    "  \n",
    "  scores = convert_to_sublists(scores, len(candidate_apps[0]))\n",
    "  \n",
    "  return scores"
   ]
  },
  {
   "cell_type": "code",
   "execution_count": 41,
   "metadata": {},
   "outputs": [
    {
     "name": "stderr",
     "output_type": "stream",
     "text": [
      "100%|██████████| 11525/11525 [10:05<00:00, 19.03it/s]\n"
     ]
    }
   ],
   "source": [
    "scores = recommender_rank(prompts, candidate_apps, model, tokenizer, batch_size=4, device=device)"
   ]
  },
  {
   "cell_type": "code",
   "execution_count": null,
   "metadata": {},
   "outputs": [
    {
     "data": {
      "text/plain": [
       "[np.float64(0.8497830802603037),\n",
       " np.float64(0.9056399132321041),\n",
       " np.float64(0.9365509761388287),\n",
       " np.float64(0.9614967462039046),\n",
       " np.float64(0.9755965292841648),\n",
       " np.float64(0.9831887201735358),\n",
       " np.float64(0.9864425162689805),\n",
       " np.float64(0.9891540130151844),\n",
       " np.float64(0.9907809110629068),\n",
       " np.float64(0.9940347071583514)]"
      ]
     },
     "execution_count": 49,
     "metadata": {},
     "output_type": "execute_result"
    }
   ],
   "source": [
    "[top_k_accuracy_score(true_candidate_indexes, scores, k=k) for k in range(1, 11)]"
   ]
  },
  {
   "cell_type": "code",
   "execution_count": 52,
   "metadata": {},
   "outputs": [],
   "source": [
    "true_relevance = [[1 if item == index else 0 for item in range(len(candidate_apps[0]))] for index in true_candidate_indexes]"
   ]
  },
  {
   "cell_type": "code",
   "execution_count": 53,
   "metadata": {},
   "outputs": [
    {
     "data": {
      "text/plain": [
       "[np.float64(0.8497830802603037),\n",
       " np.float64(0.8850248181224839),\n",
       " np.float64(0.9004803495758461),\n",
       " np.float64(0.9112239079659632),\n",
       " np.float64(0.9166784486319601),\n",
       " np.float64(0.91938284159265),\n",
       " np.float64(0.9204674402911316),\n",
       " np.float64(0.9213228222780776),\n",
       " np.float64(0.9218125673903294),\n",
       " np.float64(0.9227531253935328)]"
      ]
     },
     "execution_count": 53,
     "metadata": {},
     "output_type": "execute_result"
    }
   ],
   "source": [
    "[ndcg_score(true_relevance, scores, k=k) for k in range(1, 11)]"
   ]
  }
 ],
 "metadata": {
  "kernelspec": {
   "display_name": "Python 3",
   "language": "python",
   "name": "python3"
  },
  "language_info": {
   "codemirror_mode": {
    "name": "ipython",
    "version": 3
   },
   "file_extension": ".py",
   "mimetype": "text/x-python",
   "name": "python",
   "nbconvert_exporter": "python",
   "pygments_lexer": "ipython3",
   "version": "3.9.0"
  }
 },
 "nbformat": 4,
 "nbformat_minor": 2
}
