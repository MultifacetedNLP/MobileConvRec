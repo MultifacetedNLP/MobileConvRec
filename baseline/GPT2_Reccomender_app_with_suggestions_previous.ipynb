{
 "cells": [
  {
   "cell_type": "code",
   "execution_count": 1,
   "metadata": {},
   "outputs": [
    {
     "name": "stdout",
     "output_type": "stream",
     "text": [
      "env: CUDA_DEVICE_ORDER=PCI_BUS_ID\n",
      "env: CUDA_VISIBLE_DEVICES=0\n"
     ]
    }
   ],
   "source": [
    "%env CUDA_DEVICE_ORDER=PCI_BUS_ID\n",
    "%env CUDA_VISIBLE_DEVICES=0"
   ]
  },
  {
   "cell_type": "code",
   "execution_count": 2,
   "metadata": {},
   "outputs": [
    {
     "name": "stderr",
     "output_type": "stream",
     "text": [
      "/u/amo-d1/grad/sma340/envs/lib/python3.9/site-packages/tqdm/auto.py:21: TqdmWarning: IProgress not found. Please update jupyter and ipywidgets. See https://ipywidgets.readthedocs.io/en/stable/user_install.html\n",
      "  from .autonotebook import tqdm as notebook_tqdm\n",
      "/u/amo-d1/grad/sma340/envs/lib/python3.9/site-packages/fuzzywuzzy/fuzz.py:11: UserWarning: Using slow pure-python SequenceMatcher. Install python-Levenshtein to remove this warning\n",
      "  warnings.warn('Using slow pure-python SequenceMatcher. Install python-Levenshtein to remove this warning')\n"
     ]
    }
   ],
   "source": [
    "from transformers import GPT2LMHeadModel, GPT2Tokenizer, Trainer, TrainingArguments\n",
    "import torch\n",
    "import os\n",
    "import pandas as pd\n",
    "from tqdm import tqdm\n",
    "from torch.utils.data import Dataset\n",
    "from dataclasses import dataclass\n",
    "from typing import Optional, List\n",
    "from fuzzywuzzy import fuzz\n",
    "import csv\n",
    "import numpy as np\n",
    "import evaluate\n",
    "import torch.nn.functional as F\n",
    "from sklearn.metrics import top_k_accuracy_score, ndcg_score"
   ]
  },
  {
   "cell_type": "code",
   "execution_count": 3,
   "metadata": {},
   "outputs": [],
   "source": [
    "def is_approximate_substring(substring, string, threshold=70):\n",
    "    for i in range(len(string) - len(substring) + 1):\n",
    "        window = string[i:i+len(substring)]\n",
    "        similarity_ratio = fuzz.ratio(substring, window)\n",
    "        if similarity_ratio >= threshold:\n",
    "            return True\n",
    "    return False"
   ]
  },
  {
   "cell_type": "code",
   "execution_count": 6,
   "metadata": {},
   "outputs": [
    {
     "name": "stderr",
     "output_type": "stream",
     "text": [
      "  0%|          | 0/8720 [00:00<?, ?it/s]"
     ]
    },
    {
     "name": "stderr",
     "output_type": "stream",
     "text": [
      "100%|██████████| 8720/8720 [00:53<00:00, 161.67it/s]"
     ]
    },
    {
     "name": "stdout",
     "output_type": "stream",
     "text": [
      "8720\n",
      "8720\n",
      "8720\n",
      "8720\n",
      "\n",
      "number of rows: 8720\n"
     ]
    },
    {
     "name": "stderr",
     "output_type": "stream",
     "text": [
      "\n"
     ]
    }
   ],
   "source": [
    "conversation_training_path = \"/u/amo-d1/grad/sma340/project/llmrank/MobileConvRec-Main/dialogs/training\"\n",
    "\n",
    "user_id = []\n",
    "previous_interactions = []\n",
    "recommended_app_name = []\n",
    "turns = []\n",
    "recommend_indexes = []\n",
    "\n",
    "\n",
    "# List all files in the folder\n",
    "files = os.listdir(conversation_training_path)\n",
    "\n",
    "# Loop through each file in the directory\n",
    "for filename in tqdm(files):\n",
    "    # Construct the full file path\n",
    "    file_path = os.path.join(conversation_training_path, filename)\n",
    "\n",
    "    # Check if the current item is a file\n",
    "    if os.path.isfile(file_path):\n",
    "        # Open and read the file\n",
    "        with open(file_path, 'r') as file:\n",
    "            # Read the content of the file\n",
    "            file_content = file.read().lower()\n",
    "            \n",
    "            # finding the user id\n",
    "            index_1 = file_content.find(\"user's previous interactions\")\n",
    "            user_id.append(file_content[9:index_1].rstrip('\\n'))\n",
    "            \n",
    "            # finding the User's Previous Interactions\n",
    "            index_2 = file_content.find(\"recommended app name:\")\n",
    "            previous_interactions_arr = file_content[index_1+29:index_2].rstrip('\\n').split(\"app name:\")\n",
    "            previous_interactions_arr_filtered = []\n",
    "            for previous_interaction in previous_interactions_arr[1:]:\n",
    "                previous_interactions_arr_filtered.append(previous_interaction[:previous_interaction.find(\" | \")])\n",
    "            if len(previous_interactions_arr_filtered) > 0:\n",
    "                previous_interactions.append(\",\".join(previous_interactions_arr_filtered))\n",
    "            else:\n",
    "                previous_interactions.append(None)\n",
    "            \n",
    "            # finding recommended app name\n",
    "            index_3 = file_content[index_2:].find(\"package name\")\n",
    "            recommended = file_content[index_2+22:index_2+index_3-3].rstrip('\\n')\n",
    "            recommended_app_name.append(recommended)\n",
    "            \n",
    "            # finding each turns\n",
    "            dialog_turns = []\n",
    "            dialog_index = 0\n",
    "            COMPUTER_index = file_content.find(\"computer:\")\n",
    "            file_content = file_content[COMPUTER_index:]\n",
    "            found_recommender = False\n",
    "            while True:\n",
    "                HUMAN_index = file_content.find(\"human:\")\n",
    "                if HUMAN_index == -1:\n",
    "                    break\n",
    "                turn = file_content[:HUMAN_index].rstrip('\\n') # computer dialog\n",
    "                if (recommended in turn) and not found_recommender:\n",
    "                    recommend_indexes.append(dialog_index)\n",
    "                    found_recommender = True\n",
    "                dialog_turns.append(turn)\n",
    "                dialog_index +=1\n",
    "                file_content = file_content[HUMAN_index:]\n",
    "                \n",
    "                COMPUTER_index = file_content.find(\"computer:\")\n",
    "                turn = file_content[:COMPUTER_index].rstrip('\\n') # human dialog\n",
    "                dialog_turns.append(turn)\n",
    "                dialog_index +=1\n",
    "                file_content = file_content[COMPUTER_index:]\n",
    "                \n",
    "            if not found_recommender: # approximately finding the recommender turn\n",
    "                for i, dialog_turn in enumerate(dialog_turns):\n",
    "                    if is_approximate_substring(recommended, dialog_turn):\n",
    "                        recommend_indexes.append(i)\n",
    "                        found_recommender = True\n",
    "                        break\n",
    "                    \n",
    "            if not found_recommender:\n",
    "                recommend_indexes.append(-1)\n",
    "                        \n",
    "            turns.append(dialog_turns)\n",
    "\n",
    "print(len(user_id))\n",
    "print(len(previous_interactions))\n",
    "print(len(recommended_app_name))\n",
    "print(len(recommend_indexes))\n",
    "df_recommender_train = pd.DataFrame({\"user_id\": user_id, \"previous_interactions\":previous_interactions, \"recommended_app_name\":recommended_app_name, \"turns\": turns, \"recommend_indexes\":recommend_indexes})\n",
    "print(f\"\\nnumber of rows: {len(df_recommender_train)}\")"
   ]
  },
  {
   "cell_type": "code",
   "execution_count": 7,
   "metadata": {},
   "outputs": [],
   "source": [
    "df_recommender_train = df_recommender_train[(df_recommender_train[\"recommend_indexes\"] != -1) & (df_recommender_train[\"turns\"].apply(lambda x: len(x) > 0))]"
   ]
  },
  {
   "cell_type": "code",
   "execution_count": 8,
   "metadata": {},
   "outputs": [],
   "source": [
    "apps_training_path = \"/u/amo-d1/grad/sma340/project/llmrank/MobileConvRec-Main/data/master_app_data_V1_true.csv\"\n",
    "\n",
    "all_apps = []\n",
    "with open(apps_training_path, 'r') as csv_file:\n",
    "    csv_reader = csv.DictReader(csv_file)\n",
    "    for row in csv_reader:\n",
    "        all_apps.append(row[\"app_name\"].lower())"
   ]
  },
  {
   "cell_type": "code",
   "execution_count": 9,
   "metadata": {},
   "outputs": [],
   "source": [
    "def fix_recommended_apps_names(row):\n",
    "    if row[\"recommended_app_name\"] not in all_apps:\n",
    "        for app in all_apps:\n",
    "            if fuzz.ratio(row[\"recommended_app_name\"], app) > 80:\n",
    "                return app\n",
    "        return \"uno!™\"\n",
    "    else:\n",
    "        return row[\"recommended_app_name\"]\n",
    "\n",
    "df_recommender_train['recommended_app_name'] = df_recommender_train.apply(fix_recommended_apps_names, axis=1)"
   ]
  },
  {
   "cell_type": "code",
   "execution_count": 10,
   "metadata": {},
   "outputs": [
    {
     "name": "stdout",
     "output_type": "stream",
     "text": [
      "0\n",
      "0\n",
      "8644\n"
     ]
    }
   ],
   "source": [
    "counter = 0\n",
    "counter_not_found = 0\n",
    "found = False\n",
    "recommended_apps = df_recommender_train['recommended_app_name'].values\n",
    "for recommended in recommended_apps:\n",
    "    if recommended not in all_apps:\n",
    "        found = False\n",
    "        for app in all_apps:\n",
    "            if fuzz.ratio(recommended, app) > 80:\n",
    "                print(recommended, app)\n",
    "                found = True\n",
    "                break\n",
    "        if not found:\n",
    "            counter_not_found += 1\n",
    "            print(recommended, \"not found\")\n",
    "        counter += 1\n",
    "        \n",
    "        \n",
    "print(counter)\n",
    "print(counter_not_found)\n",
    "print(len(recommended_apps))"
   ]
  },
  {
   "cell_type": "code",
   "execution_count": 11,
   "metadata": {},
   "outputs": [
    {
     "name": "stderr",
     "output_type": "stream",
     "text": [
      "/tmp/ipykernel_1373651/1958505097.py:3: FutureWarning: DataFrame.applymap has been deprecated. Use DataFrame.map instead.\n",
      "  df_apps = df_app.applymap(lambda x: x.lower() if isinstance(x, str) else x)\n"
     ]
    }
   ],
   "source": [
    "cols = ['app_name','app_type','app_category']\n",
    "df_app = pd.read_csv(apps_training_path, usecols=cols)\n",
    "df_apps = df_app.applymap(lambda x: x.lower() if isinstance(x, str) else x)\n",
    "candidate_apps = []\n",
    "def filter_candidate_apps(rec_app_name):\n",
    "    \n",
    "    df_rec_app=df_apps[df_apps['app_name'] == rec_app_name]\n",
    "    recommended_app_type = df_rec_app['app_type'].iloc[0]\n",
    "    recommended_app_category = df_rec_app['app_category'].iloc[0]\n",
    "    category_filtered = df_apps[df_apps['app_category'] == recommended_app_category]\n",
    "    df_apps_filter_1 = df_apps[df_apps['app_category'] != recommended_app_category]\n",
    "    #print(recommended_app_type, recommended_app_category)\n",
    "    #print(len(category_filtered))\n",
    "    \n",
    "    max_ratio = 0\n",
    "    best_match = None\n",
    "    for index, row in category_filtered.iterrows():\n",
    "        if len(candidate_apps) >= 25:\n",
    "            break\n",
    "        if fuzz.ratio(row[\"app_type\"], recommended_app_type) > 30:\n",
    "            app = row['app_name']\n",
    "            \n",
    "            candidate_apps.append(app)\n",
    "    \n",
    "    for index, row in df_apps_filter_1.iterrows():\n",
    "        if len(candidate_apps) >= 25:\n",
    "            break\n",
    "        ratio = fuzz.ratio(row[\"app_type\"], recommended_app_type)\n",
    "        if ratio > max_ratio:\n",
    "            max_ratio = ratio\n",
    "            app = row['app_name']\n",
    "            best_match = app\n",
    "            candidate_apps.append(best_match)\n",
    "    \n",
    "    apps_to_remove_2 = set(candidate_apps)\n",
    "    df_apps_filter_2 = df_apps[~df_apps['app_name'].isin(apps_to_remove_2)]\n",
    "\n",
    "    for index, row in df_apps_filter_1.iterrows():\n",
    "        if len(candidate_apps) >= 25:\n",
    "            break\n",
    "        app = row['app_name']\n",
    "        candidate_apps.append(app)\n",
    "\n",
    "    \n",
    "     \n",
    "    return candidate_apps"
   ]
  },
  {
   "cell_type": "code",
   "execution_count": 12,
   "metadata": {},
   "outputs": [],
   "source": [
    "def candidate_creator(row):\n",
    "    selected_values = np.random.choice(np.setdiff1d(filter_candidate_apps(row[\"recommended_app_name\"]), [row[\"recommended_app_name\"]]), 24, replace=False)\n",
    "    random_position = np.random.randint(0, len(selected_values) + 1)\n",
    "    \n",
    "    return np.insert(selected_values, random_position, row[\"recommended_app_name\"]) \n",
    "\n",
    "df_recommender_train['candidate_apps'] = df_recommender_train.apply(candidate_creator, axis=1)"
   ]
  },
  {
   "cell_type": "code",
   "execution_count": 13,
   "metadata": {},
   "outputs": [
    {
     "data": {
      "text/plain": [
       "'six pack in 30 days'"
      ]
     },
     "execution_count": 13,
     "metadata": {},
     "output_type": "execute_result"
    }
   ],
   "source": [
    "df_recommender_train[\"recommended_app_name\"][874] "
   ]
  },
  {
   "cell_type": "code",
   "execution_count": 14,
   "metadata": {},
   "outputs": [
    {
     "data": {
      "text/plain": [
       "'computer: alright, then i recommend giving the six pack in 30 days app a try.'"
      ]
     },
     "execution_count": 14,
     "metadata": {},
     "output_type": "execute_result"
    }
   ],
   "source": [
    "df_recommender_train[\"turns\"][874][df_recommender_train[\"recommend_indexes\"][874]]"
   ]
  },
  {
   "cell_type": "code",
   "execution_count": 15,
   "metadata": {},
   "outputs": [
    {
     "data": {
      "text/plain": [
       "array(['lily’s garden',\n",
       "       'sweet escapes: design a bakery with puzzle games',\n",
       "       'antistress - relaxation toys', 'flow free', 'cut the rope',\n",
       "       'math | riddles and puzzles maths games',\n",
       "       'magic jigsaw puzzles - game hd', 'the room: old sins', 'fishdom',\n",
       "       'drop the number® : merge game', 'bad piggies hd',\n",
       "       'dop 4: draw one part', 'sweet fruit candy',\n",
       "       'angry birds dream blast', 'bad piggies', 'candy crush jelly saga',\n",
       "       'empires & puzzles: match-3 rpg', 'disney frozen free fall games',\n",
       "       'my home design - modern city', 'bubble shooter: panda pop!',\n",
       "       'sudoku - classic sudoku puzzle', 'six pack in 30 days',\n",
       "       'pokémon café remix', 'bubble shooter rainbow', 'human: fall flat'],\n",
       "      dtype='<U48')"
      ]
     },
     "execution_count": 15,
     "metadata": {},
     "output_type": "execute_result"
    }
   ],
   "source": [
    "df_recommender_train[\"candidate_apps\"][874]"
   ]
  },
  {
   "cell_type": "code",
   "execution_count": 16,
   "metadata": {},
   "outputs": [
    {
     "name": "stderr",
     "output_type": "stream",
     "text": [
      " 19%|█▊        | 238/1285 [00:00<00:02, 460.52it/s]"
     ]
    },
    {
     "name": "stderr",
     "output_type": "stream",
     "text": [
      "100%|██████████| 1285/1285 [00:03<00:00, 330.34it/s]"
     ]
    },
    {
     "name": "stdout",
     "output_type": "stream",
     "text": [
      "1285\n",
      "1285\n",
      "1285\n",
      "1285\n",
      "\n",
      "number of rows: 1285\n"
     ]
    },
    {
     "name": "stderr",
     "output_type": "stream",
     "text": [
      "\n"
     ]
    }
   ],
   "source": [
    "conversation_validation_path = \"/u/amo-d1/grad/sma340/project/llmrank/MobileConvRec-Main/dialogs/validation\"\n",
    "\n",
    "user_id = []\n",
    "previous_interactions = []\n",
    "recommended_app_name = []\n",
    "turns = []\n",
    "recommend_indexes = []\n",
    "\n",
    "\n",
    "# List all files in the folder\n",
    "files = os.listdir(conversation_validation_path)\n",
    "\n",
    "# Loop through each file in the directory\n",
    "for filename in tqdm(files):\n",
    "    # Construct the full file path\n",
    "    file_path = os.path.join(conversation_validation_path, filename)\n",
    "\n",
    "    # Check if the current item is a file\n",
    "    if os.path.isfile(file_path):\n",
    "        # Open and read the file\n",
    "        with open(file_path, 'r') as file:\n",
    "            # Read the content of the file\n",
    "            file_content = file.read().lower()\n",
    "            \n",
    "            # finding the user id\n",
    "            index_1 = file_content.find(\"user's previous interactions\")\n",
    "            user_id.append(file_content[9:index_1].rstrip('\\n'))\n",
    "            \n",
    "            # finding the User's Previous Interactions\n",
    "            index_2 = file_content.find(\"recommended app name:\")\n",
    "            previous_interactions_arr = file_content[index_1+29:index_2].rstrip('\\n').split(\"app name:\")\n",
    "            previous_interactions_arr_filtered = []\n",
    "            for previous_interaction in previous_interactions_arr[1:]:\n",
    "                previous_interactions_arr_filtered.append(previous_interaction[:previous_interaction.find(\" | \")])\n",
    "            if len(previous_interactions_arr_filtered) > 0:\n",
    "                previous_interactions.append(\",\".join(previous_interactions_arr_filtered))\n",
    "            else:\n",
    "                previous_interactions.append(None)\n",
    "            \n",
    "            # finding recommended app name\n",
    "            index_3 = file_content[index_2:].find(\"package name\")\n",
    "            recommended = file_content[index_2+22:index_2+index_3-3].rstrip('\\n')\n",
    "            recommended_app_name.append(recommended)\n",
    "            \n",
    "            # finding each turns\n",
    "            dialog_turns = []\n",
    "            dialog_index = 0\n",
    "            COMPUTER_index = file_content.find(\"computer:\")\n",
    "            file_content = file_content[COMPUTER_index:]\n",
    "            found_recommender = False\n",
    "            while True:\n",
    "                HUMAN_index = file_content.find(\"human:\")\n",
    "                if HUMAN_index == -1:\n",
    "                    break\n",
    "                turn = file_content[:HUMAN_index].rstrip('\\n') # computer dialog\n",
    "                if (recommended in turn) and not found_recommender:\n",
    "                    recommend_indexes.append(dialog_index)\n",
    "                    found_recommender = True\n",
    "                dialog_turns.append(turn)\n",
    "                dialog_index +=1\n",
    "                file_content = file_content[HUMAN_index:]\n",
    "                \n",
    "                COMPUTER_index = file_content.find(\"computer:\")\n",
    "                turn = file_content[:COMPUTER_index].rstrip('\\n') # human dialog\n",
    "                dialog_turns.append(turn)\n",
    "                dialog_index +=1\n",
    "                file_content = file_content[COMPUTER_index:]\n",
    "                \n",
    "            if not found_recommender: # approximately finding the recommender turn\n",
    "                for i, dialog_turn in enumerate(dialog_turns):\n",
    "                    if is_approximate_substring(recommended, dialog_turn):\n",
    "                        recommend_indexes.append(i)\n",
    "                        found_recommender = True\n",
    "                        break\n",
    "                    \n",
    "            if not found_recommender:\n",
    "                recommend_indexes.append(-1)\n",
    "                        \n",
    "            turns.append(dialog_turns)\n",
    "\n",
    "print(len(user_id))\n",
    "print(len(previous_interactions))\n",
    "print(len(recommended_app_name))\n",
    "print(len(recommend_indexes))\n",
    "df_recommender_validation = pd.DataFrame({\"user_id\": user_id, \"previous_interactions\":previous_interactions, \"recommended_app_name\":recommended_app_name, \"turns\": turns, \"recommend_indexes\":recommend_indexes})\n",
    "print(f\"\\nnumber of rows: {len(df_recommender_validation)}\")"
   ]
  },
  {
   "cell_type": "code",
   "execution_count": 17,
   "metadata": {},
   "outputs": [],
   "source": [
    "df_recommender_validation = df_recommender_validation[(df_recommender_validation[\"recommend_indexes\"] != -1) & (df_recommender_validation[\"turns\"].apply(lambda x: len(x) > 0))]"
   ]
  },
  {
   "cell_type": "code",
   "execution_count": 18,
   "metadata": {},
   "outputs": [
    {
     "name": "stdout",
     "output_type": "stream",
     "text": [
      "0\n",
      "0\n"
     ]
    }
   ],
   "source": [
    "count = 0\n",
    "for turn in df_recommender_validation['turns']:\n",
    "    if len(turn) == 0:\n",
    "        count += 1\n",
    "print(count)\n",
    "\n",
    "count = 0\n",
    "for recommend_index in df_recommender_validation['recommend_indexes']:\n",
    "    if recommend_index == -1:\n",
    "        count += 1\n",
    "print(count)"
   ]
  },
  {
   "cell_type": "code",
   "execution_count": 19,
   "metadata": {},
   "outputs": [],
   "source": [
    "def fix_recommended_apps_names(row):\n",
    "    if row[\"recommended_app_name\"] not in all_apps:\n",
    "        for app in all_apps:\n",
    "            if fuzz.ratio(row[\"recommended_app_name\"], app) > 80:\n",
    "                return app\n",
    "        return \"uno!™\"\n",
    "    else:\n",
    "        return row[\"recommended_app_name\"]\n",
    "\n",
    "df_recommender_validation['recommended_app_name'] = df_recommender_validation.apply(fix_recommended_apps_names, axis=1)"
   ]
  },
  {
   "cell_type": "code",
   "execution_count": 20,
   "metadata": {},
   "outputs": [
    {
     "name": "stderr",
     "output_type": "stream",
     "text": [
      "/tmp/ipykernel_1373651/1958505097.py:3: FutureWarning: DataFrame.applymap has been deprecated. Use DataFrame.map instead.\n",
      "  df_apps = df_app.applymap(lambda x: x.lower() if isinstance(x, str) else x)\n"
     ]
    }
   ],
   "source": [
    "cols = ['app_name','app_type','app_category']\n",
    "df_app = pd.read_csv(apps_training_path, usecols=cols)\n",
    "df_apps = df_app.applymap(lambda x: x.lower() if isinstance(x, str) else x)\n",
    "candidate_apps = []\n",
    "def filter_candidate_apps(rec_app_name):\n",
    "    \n",
    "    df_rec_app=df_apps[df_apps['app_name'] == rec_app_name]\n",
    "    recommended_app_type = df_rec_app['app_type'].iloc[0]\n",
    "    recommended_app_category = df_rec_app['app_category'].iloc[0]\n",
    "    category_filtered = df_apps[df_apps['app_category'] == recommended_app_category]\n",
    "    df_apps_filter_1 = df_apps[df_apps['app_category'] != recommended_app_category]\n",
    "    #print(recommended_app_type, recommended_app_category)\n",
    "    #print(len(category_filtered))\n",
    "    \n",
    "    max_ratio = 0\n",
    "    best_match = None\n",
    "    for index, row in category_filtered.iterrows():\n",
    "        if len(candidate_apps) >= 25:\n",
    "            break\n",
    "        if fuzz.ratio(row[\"app_type\"], recommended_app_type) > 30:\n",
    "            app = row['app_name']\n",
    "            \n",
    "            candidate_apps.append(app)\n",
    "    \n",
    "    for index, row in df_apps_filter_1.iterrows():\n",
    "        if len(candidate_apps) >= 25:\n",
    "            break\n",
    "        ratio = fuzz.ratio(row[\"app_type\"], recommended_app_type)\n",
    "        if ratio > max_ratio:\n",
    "            max_ratio = ratio\n",
    "            app = row['app_name']\n",
    "            best_match = app\n",
    "            candidate_apps.append(best_match)\n",
    "    \n",
    "    apps_to_remove_2 = set(candidate_apps)\n",
    "    df_apps_filter_2 = df_apps[~df_apps['app_name'].isin(apps_to_remove_2)]\n",
    "\n",
    "    for index, row in df_apps_filter_1.iterrows():\n",
    "        if len(candidate_apps) >= 25:\n",
    "            break\n",
    "        app = row['app_name']\n",
    "        candidate_apps.append(app)\n",
    "\n",
    "    \n",
    "     \n",
    "    return candidate_apps"
   ]
  },
  {
   "cell_type": "code",
   "execution_count": 21,
   "metadata": {},
   "outputs": [],
   "source": [
    "def candidate_creator(row):\n",
    "    selected_values = np.random.choice(np.setdiff1d(all_apps, [row[\"recommended_app_name\"]]), 24, replace=False)\n",
    "    random_position = np.random.randint(0, len(selected_values) + 1)\n",
    "    \n",
    "    return np.insert(selected_values, random_position, row[\"recommended_app_name\"]) \n",
    "\n",
    "df_recommender_validation['candidate_apps'] = df_recommender_validation.apply(candidate_creator, axis=1)"
   ]
  },
  {
   "cell_type": "code",
   "execution_count": 22,
   "metadata": {},
   "outputs": [
    {
     "data": {
      "text/html": [
       "<div>\n",
       "<style scoped>\n",
       "    .dataframe tbody tr th:only-of-type {\n",
       "        vertical-align: middle;\n",
       "    }\n",
       "\n",
       "    .dataframe tbody tr th {\n",
       "        vertical-align: top;\n",
       "    }\n",
       "\n",
       "    .dataframe thead th {\n",
       "        text-align: right;\n",
       "    }\n",
       "</style>\n",
       "<table border=\"1\" class=\"dataframe\">\n",
       "  <thead>\n",
       "    <tr style=\"text-align: right;\">\n",
       "      <th></th>\n",
       "      <th>user_id</th>\n",
       "      <th>previous_interactions</th>\n",
       "      <th>recommended_app_name</th>\n",
       "      <th>turns</th>\n",
       "      <th>recommend_indexes</th>\n",
       "      <th>candidate_apps</th>\n",
       "    </tr>\n",
       "  </thead>\n",
       "  <tbody>\n",
       "    <tr>\n",
       "      <th>0</th>\n",
       "      <td>vtg1e7gwd7akgogt</td>\n",
       "      <td>drag battle, twitch: live game streaming, mam...</td>\n",
       "      <td>uno!™</td>\n",
       "      <td>[computer: hello! what brings you here today?,...</td>\n",
       "      <td>22</td>\n",
       "      <td>[photo studio, flight pilot simulator 3d, tang...</td>\n",
       "    </tr>\n",
       "    <tr>\n",
       "      <th>1</th>\n",
       "      <td>kp38ptk4vwffenzn</td>\n",
       "      <td>blockstarplanet, lotsa slots - casino games</td>\n",
       "      <td>snapchat</td>\n",
       "      <td>[computer: hi there! what are you looking for ...</td>\n",
       "      <td>20</td>\n",
       "      <td>[amazon fire tv, color roll 3d, crash bandicoo...</td>\n",
       "    </tr>\n",
       "    <tr>\n",
       "      <th>2</th>\n",
       "      <td>4704gqsclz6315op</td>\n",
       "      <td>golf clash, xender - share music transfer, nf...</td>\n",
       "      <td>video downloader</td>\n",
       "      <td>[computer: hi there! how can i assist you toda...</td>\n",
       "      <td>2</td>\n",
       "      <td>[messenger lite, draw a stickman: epic 2, viu:...</td>\n",
       "    </tr>\n",
       "    <tr>\n",
       "      <th>3</th>\n",
       "      <td>rnvsafiijygjzyvk</td>\n",
       "      <td>csr classics, tata cliq shopping app india, f...</td>\n",
       "      <td>piano fire: edm music &amp; piano</td>\n",
       "      <td>[computer: hello! how can i help you today?, h...</td>\n",
       "      <td>22</td>\n",
       "      <td>[agar.io, i want pizza, kohl's - online shoppi...</td>\n",
       "    </tr>\n",
       "    <tr>\n",
       "      <th>4</th>\n",
       "      <td>tmxwkzm2cat22pvh</td>\n",
       "      <td>the house of da vinci, pet rescue saga, facem...</td>\n",
       "      <td>facebook</td>\n",
       "      <td>[computer: hi there! how can i help you today?...</td>\n",
       "      <td>22</td>\n",
       "      <td>[b612 camera&amp;photo/video editor, king of avalo...</td>\n",
       "    </tr>\n",
       "    <tr>\n",
       "      <th>...</th>\n",
       "      <td>...</td>\n",
       "      <td>...</td>\n",
       "      <td>...</td>\n",
       "      <td>...</td>\n",
       "      <td>...</td>\n",
       "      <td>...</td>\n",
       "    </tr>\n",
       "    <tr>\n",
       "      <th>1280</th>\n",
       "      <td>rsbsgtmy4ncjvhdx</td>\n",
       "      <td>waze - gps, maps, traffic alerts &amp; live navig...</td>\n",
       "      <td>bitmoji</td>\n",
       "      <td>[computer: hey there! what are you looking for...</td>\n",
       "      <td>12</td>\n",
       "      <td>[crossword quest, acorns: save &amp; invest, gt cl...</td>\n",
       "    </tr>\n",
       "    <tr>\n",
       "      <th>1281</th>\n",
       "      <td>nzhuiko02pyj8vro</td>\n",
       "      <td>video editor app - vivacut</td>\n",
       "      <td>music player - mp3 player</td>\n",
       "      <td>[computer: hi there! how can i help you today?...</td>\n",
       "      <td>24</td>\n",
       "      <td>[music player - mp3 player, streamer rush, top...</td>\n",
       "    </tr>\n",
       "    <tr>\n",
       "      <th>1282</th>\n",
       "      <td>ldzrids0o452udvr</td>\n",
       "      <td>the frostrune, ark: survival evolved, street ...</td>\n",
       "      <td>colornote notepad notes</td>\n",
       "      <td>[computer: hi there! how can i help you today?...</td>\n",
       "      <td>20</td>\n",
       "      <td>[glamland: fashion show, dress up competition ...</td>\n",
       "    </tr>\n",
       "    <tr>\n",
       "      <th>1283</th>\n",
       "      <td>lekzvahdmv1bcian</td>\n",
       "      <td>pandora - music &amp; podcasts, kingdom rush veng...</td>\n",
       "      <td>minecraft</td>\n",
       "      <td>[computer: hi! how can i help you today?, huma...</td>\n",
       "      <td>20</td>\n",
       "      <td>[chrome canary (unstable), kinemaster - video ...</td>\n",
       "    </tr>\n",
       "    <tr>\n",
       "      <th>1284</th>\n",
       "      <td>4hced3vnrxtganiq</td>\n",
       "      <td>hide online - hunters vs props, onmyoji arena...</td>\n",
       "      <td>self - build credit &amp; savings</td>\n",
       "      <td>[computer: sure! what kind of credit building ...</td>\n",
       "      <td>20</td>\n",
       "      <td>[top speed: drag &amp; fast racing, dragon tamer, ...</td>\n",
       "    </tr>\n",
       "  </tbody>\n",
       "</table>\n",
       "<p>1267 rows × 6 columns</p>\n",
       "</div>"
      ],
      "text/plain": [
       "               user_id                              previous_interactions  \\\n",
       "0     vtg1e7gwd7akgogt   drag battle, twitch: live game streaming, mam...   \n",
       "1     kp38ptk4vwffenzn        blockstarplanet, lotsa slots - casino games   \n",
       "2     4704gqsclz6315op   golf clash, xender - share music transfer, nf...   \n",
       "3     rnvsafiijygjzyvk   csr classics, tata cliq shopping app india, f...   \n",
       "4     tmxwkzm2cat22pvh   the house of da vinci, pet rescue saga, facem...   \n",
       "...                ...                                                ...   \n",
       "1280  rsbsgtmy4ncjvhdx   waze - gps, maps, traffic alerts & live navig...   \n",
       "1281  nzhuiko02pyj8vro                         video editor app - vivacut   \n",
       "1282  ldzrids0o452udvr   the frostrune, ark: survival evolved, street ...   \n",
       "1283  lekzvahdmv1bcian   pandora - music & podcasts, kingdom rush veng...   \n",
       "1284  4hced3vnrxtganiq   hide online - hunters vs props, onmyoji arena...   \n",
       "\n",
       "               recommended_app_name  \\\n",
       "0                             uno!™   \n",
       "1                          snapchat   \n",
       "2                  video downloader   \n",
       "3     piano fire: edm music & piano   \n",
       "4                          facebook   \n",
       "...                             ...   \n",
       "1280                        bitmoji   \n",
       "1281      music player - mp3 player   \n",
       "1282        colornote notepad notes   \n",
       "1283                      minecraft   \n",
       "1284  self - build credit & savings   \n",
       "\n",
       "                                                  turns  recommend_indexes  \\\n",
       "0     [computer: hello! what brings you here today?,...                 22   \n",
       "1     [computer: hi there! what are you looking for ...                 20   \n",
       "2     [computer: hi there! how can i assist you toda...                  2   \n",
       "3     [computer: hello! how can i help you today?, h...                 22   \n",
       "4     [computer: hi there! how can i help you today?...                 22   \n",
       "...                                                 ...                ...   \n",
       "1280  [computer: hey there! what are you looking for...                 12   \n",
       "1281  [computer: hi there! how can i help you today?...                 24   \n",
       "1282  [computer: hi there! how can i help you today?...                 20   \n",
       "1283  [computer: hi! how can i help you today?, huma...                 20   \n",
       "1284  [computer: sure! what kind of credit building ...                 20   \n",
       "\n",
       "                                         candidate_apps  \n",
       "0     [photo studio, flight pilot simulator 3d, tang...  \n",
       "1     [amazon fire tv, color roll 3d, crash bandicoo...  \n",
       "2     [messenger lite, draw a stickman: epic 2, viu:...  \n",
       "3     [agar.io, i want pizza, kohl's - online shoppi...  \n",
       "4     [b612 camera&photo/video editor, king of avalo...  \n",
       "...                                                 ...  \n",
       "1280  [crossword quest, acorns: save & invest, gt cl...  \n",
       "1281  [music player - mp3 player, streamer rush, top...  \n",
       "1282  [glamland: fashion show, dress up competition ...  \n",
       "1283  [chrome canary (unstable), kinemaster - video ...  \n",
       "1284  [top speed: drag & fast racing, dragon tamer, ...  \n",
       "\n",
       "[1267 rows x 6 columns]"
      ]
     },
     "execution_count": 22,
     "metadata": {},
     "output_type": "execute_result"
    }
   ],
   "source": [
    "df_recommender_validation"
   ]
  },
  {
   "cell_type": "code",
   "execution_count": 23,
   "metadata": {},
   "outputs": [
    {
     "data": {
      "text/html": [
       "<div>\n",
       "<style scoped>\n",
       "    .dataframe tbody tr th:only-of-type {\n",
       "        vertical-align: middle;\n",
       "    }\n",
       "\n",
       "    .dataframe tbody tr th {\n",
       "        vertical-align: top;\n",
       "    }\n",
       "\n",
       "    .dataframe thead th {\n",
       "        text-align: right;\n",
       "    }\n",
       "</style>\n",
       "<table border=\"1\" class=\"dataframe\">\n",
       "  <thead>\n",
       "    <tr style=\"text-align: right;\">\n",
       "      <th></th>\n",
       "      <th>user_id</th>\n",
       "      <th>previous_interactions</th>\n",
       "      <th>recommended_app_name</th>\n",
       "      <th>turns</th>\n",
       "      <th>recommend_indexes</th>\n",
       "      <th>candidate_apps</th>\n",
       "    </tr>\n",
       "  </thead>\n",
       "  <tbody>\n",
       "    <tr>\n",
       "      <th>0</th>\n",
       "      <td>mw3eetfcrkivh692</td>\n",
       "      <td>calm - meditate, sleep, relax, kahoot! play &amp;...</td>\n",
       "      <td>fishdom</td>\n",
       "      <td>[computer: hi! how can i help you today?, huma...</td>\n",
       "      <td>20</td>\n",
       "      <td>[antistress - relaxation toys, candy crush jel...</td>\n",
       "    </tr>\n",
       "    <tr>\n",
       "      <th>1</th>\n",
       "      <td>7ttbcevntpi81xyq</td>\n",
       "      <td>None</td>\n",
       "      <td>uno!™</td>\n",
       "      <td>[computer: hi! need help finding a pokãâãâ©...</td>\n",
       "      <td>14</td>\n",
       "      <td>[my home design - modern city, sweet escapes: ...</td>\n",
       "    </tr>\n",
       "    <tr>\n",
       "      <th>2</th>\n",
       "      <td>xj3hkxd3ms7sbgrk</td>\n",
       "      <td>cat escape, math kids: math games for kids, r...</td>\n",
       "      <td>sonic dash - endless running</td>\n",
       "      <td>[computer: hi there! how can i help you today?...</td>\n",
       "      <td>24</td>\n",
       "      <td>[lemmings, bubble shooter rainbow, disney froz...</td>\n",
       "    </tr>\n",
       "    <tr>\n",
       "      <th>3</th>\n",
       "      <td>pdfiesy5vzbpkz58</td>\n",
       "      <td>animal jam, brave private web browser, starz,...</td>\n",
       "      <td>pixel gun 3d - battle royale</td>\n",
       "      <td>[computer: hello there! how can i assist you t...</td>\n",
       "      <td>20</td>\n",
       "      <td>[bubble shooter: panda pop!, sudoku - classic ...</td>\n",
       "    </tr>\n",
       "    <tr>\n",
       "      <th>4</th>\n",
       "      <td>p1putumtxe7yw3vl</td>\n",
       "      <td>war heroes: strategy card game, meetme: chat ...</td>\n",
       "      <td>stick war: legacy</td>\n",
       "      <td>[computer: hello! how can i help you today?, h...</td>\n",
       "      <td>20</td>\n",
       "      <td>[stick war: legacy, fishdom, flow free, magic ...</td>\n",
       "    </tr>\n",
       "    <tr>\n",
       "      <th>...</th>\n",
       "      <td>...</td>\n",
       "      <td>...</td>\n",
       "      <td>...</td>\n",
       "      <td>...</td>\n",
       "      <td>...</td>\n",
       "      <td>...</td>\n",
       "    </tr>\n",
       "    <tr>\n",
       "      <th>8715</th>\n",
       "      <td>dxkdnbbfqx25oqa9</td>\n",
       "      <td>google go: a lighter, faster way to search, a...</td>\n",
       "      <td>whatsapp messenger</td>\n",
       "      <td>[computer: hi there! how can i help you today?...</td>\n",
       "      <td>18</td>\n",
       "      <td>[sweet escapes: design a bakery with puzzle ga...</td>\n",
       "    </tr>\n",
       "    <tr>\n",
       "      <th>8716</th>\n",
       "      <td>r0ad7rnsodtnrkea</td>\n",
       "      <td>speedtest by ookla, kitten match, gamee prize...</td>\n",
       "      <td>pk xd - play with your friends</td>\n",
       "      <td>[computer: hello there! how can i help you tod...</td>\n",
       "      <td>20</td>\n",
       "      <td>[bubble shooter rainbow, bubble shooter: panda...</td>\n",
       "    </tr>\n",
       "    <tr>\n",
       "      <th>8717</th>\n",
       "      <td>1c30afayr0kyblrc</td>\n",
       "      <td>stickman party: 1 2 3 4 player games free, li...</td>\n",
       "      <td>ludo club - fun dice game</td>\n",
       "      <td>[computer: hi there! how can i help you today?...</td>\n",
       "      <td>18</td>\n",
       "      <td>[sweet fruit candy, candy crush jelly saga, ba...</td>\n",
       "    </tr>\n",
       "    <tr>\n",
       "      <th>8718</th>\n",
       "      <td>mkh0usitaxezqehu</td>\n",
       "      <td>warhammer 40,000: lost crusade, hot wheels un...</td>\n",
       "      <td>garena free fire max</td>\n",
       "      <td>[computer: hi there! how can i assist you toda...</td>\n",
       "      <td>18</td>\n",
       "      <td>[disney frozen free fall games, drop the numbe...</td>\n",
       "    </tr>\n",
       "    <tr>\n",
       "      <th>8719</th>\n",
       "      <td>yj1yj9bl3h3vvtjb</td>\n",
       "      <td>credit karma, mytherapy pill reminder, beauty...</td>\n",
       "      <td>soundcloud: play music &amp; songs</td>\n",
       "      <td>[computer: hello! how can i help you today?, h...</td>\n",
       "      <td>18</td>\n",
       "      <td>[math | riddles and puzzles maths games, human...</td>\n",
       "    </tr>\n",
       "  </tbody>\n",
       "</table>\n",
       "<p>8644 rows × 6 columns</p>\n",
       "</div>"
      ],
      "text/plain": [
       "               user_id                              previous_interactions  \\\n",
       "0     mw3eetfcrkivh692   calm - meditate, sleep, relax, kahoot! play &...   \n",
       "1     7ttbcevntpi81xyq                                               None   \n",
       "2     xj3hkxd3ms7sbgrk   cat escape, math kids: math games for kids, r...   \n",
       "3     pdfiesy5vzbpkz58   animal jam, brave private web browser, starz,...   \n",
       "4     p1putumtxe7yw3vl   war heroes: strategy card game, meetme: chat ...   \n",
       "...                ...                                                ...   \n",
       "8715  dxkdnbbfqx25oqa9   google go: a lighter, faster way to search, a...   \n",
       "8716  r0ad7rnsodtnrkea   speedtest by ookla, kitten match, gamee prize...   \n",
       "8717  1c30afayr0kyblrc   stickman party: 1 2 3 4 player games free, li...   \n",
       "8718  mkh0usitaxezqehu   warhammer 40,000: lost crusade, hot wheels un...   \n",
       "8719  yj1yj9bl3h3vvtjb   credit karma, mytherapy pill reminder, beauty...   \n",
       "\n",
       "                recommended_app_name  \\\n",
       "0                            fishdom   \n",
       "1                              uno!™   \n",
       "2       sonic dash - endless running   \n",
       "3       pixel gun 3d - battle royale   \n",
       "4                  stick war: legacy   \n",
       "...                              ...   \n",
       "8715              whatsapp messenger   \n",
       "8716  pk xd - play with your friends   \n",
       "8717       ludo club - fun dice game   \n",
       "8718            garena free fire max   \n",
       "8719  soundcloud: play music & songs   \n",
       "\n",
       "                                                  turns  recommend_indexes  \\\n",
       "0     [computer: hi! how can i help you today?, huma...                 20   \n",
       "1     [computer: hi! need help finding a pokãâãâ©...                 14   \n",
       "2     [computer: hi there! how can i help you today?...                 24   \n",
       "3     [computer: hello there! how can i assist you t...                 20   \n",
       "4     [computer: hello! how can i help you today?, h...                 20   \n",
       "...                                                 ...                ...   \n",
       "8715  [computer: hi there! how can i help you today?...                 18   \n",
       "8716  [computer: hello there! how can i help you tod...                 20   \n",
       "8717  [computer: hi there! how can i help you today?...                 18   \n",
       "8718  [computer: hi there! how can i assist you toda...                 18   \n",
       "8719  [computer: hello! how can i help you today?, h...                 18   \n",
       "\n",
       "                                         candidate_apps  \n",
       "0     [antistress - relaxation toys, candy crush jel...  \n",
       "1     [my home design - modern city, sweet escapes: ...  \n",
       "2     [lemmings, bubble shooter rainbow, disney froz...  \n",
       "3     [bubble shooter: panda pop!, sudoku - classic ...  \n",
       "4     [stick war: legacy, fishdom, flow free, magic ...  \n",
       "...                                                 ...  \n",
       "8715  [sweet escapes: design a bakery with puzzle ga...  \n",
       "8716  [bubble shooter rainbow, bubble shooter: panda...  \n",
       "8717  [sweet fruit candy, candy crush jelly saga, ba...  \n",
       "8718  [disney frozen free fall games, drop the numbe...  \n",
       "8719  [math | riddles and puzzles maths games, human...  \n",
       "\n",
       "[8644 rows x 6 columns]"
      ]
     },
     "execution_count": 23,
     "metadata": {},
     "output_type": "execute_result"
    }
   ],
   "source": [
    "df_recommender_train"
   ]
  },
  {
   "cell_type": "code",
   "execution_count": 24,
   "metadata": {},
   "outputs": [
    {
     "data": {
      "text/plain": [
       "'gacha life'"
      ]
     },
     "execution_count": 24,
     "metadata": {},
     "output_type": "execute_result"
    }
   ],
   "source": [
    "df_recommender_validation[\"recommended_app_name\"][213]"
   ]
  },
  {
   "cell_type": "code",
   "execution_count": 25,
   "metadata": {},
   "outputs": [
    {
     "data": {
      "text/plain": [
       "array(['score! match - pvp soccer', 'dragon city mobile', 'aldi usa',\n",
       "       'reigns: game of thrones', 'terraria', 'cookie run: kingdom',\n",
       "       'gacha life', 'plank challenge: core workout', 'apple music',\n",
       "       'free stuff finder: save money with deals & coupons',\n",
       "       'video editor, crop video, edit video, magic effect',\n",
       "       'google drive', 'hijacker jack - famous. rich. wanted.',\n",
       "       'hooked inc: fishing games', 'tangle master 3d',\n",
       "       'glamdiva: international fashion stylist dressup',\n",
       "       'peppa pig: holiday', 'beautyplus-snap retouch filter',\n",
       "       'happy daycare stories - school playhouse baby care',\n",
       "       'critical ops: multiplayer fps', 'knife hit',\n",
       "       'pepi wonder world: magic isle!', 'coin master',\n",
       "       'hello yo - group chat rooms', 'draw a stickman: epic 2'],\n",
       "      dtype='<U50')"
      ]
     },
     "execution_count": 25,
     "metadata": {},
     "output_type": "execute_result"
    }
   ],
   "source": [
    "df_recommender_validation[\"candidate_apps\"][213]"
   ]
  },
  {
   "cell_type": "code",
   "execution_count": 26,
   "metadata": {},
   "outputs": [],
   "source": [
    "model_checkpoint = \"gpt2\"\n",
    "bos = '<|startoftext|>'\n",
    "eos = '<|endoftext|>'\n",
    "pad = '<|pad|>'\n",
    "\n",
    "device = torch.device(\"cuda\" if torch.cuda.is_available() else \"cpu\")\n",
    "\n",
    "tokenizer = GPT2Tokenizer.from_pretrained(model_checkpoint, bos_token=bos, eos_token=eos, pad_token=pad, additional_special_tokens=[\"computer:\", \"human:\", \"candidate_apps:\", \"previous_interactions:\"])\n",
    "\n",
    "model = GPT2LMHeadModel.from_pretrained(model_checkpoint).to(device)\n",
    "model.resize_token_embeddings(len(tokenizer))\n",
    "model_max_length=1024"
   ]
  },
  {
   "cell_type": "code",
   "execution_count": 27,
   "metadata": {},
   "outputs": [],
   "source": [
    "@dataclass\n",
    "class RecommenderItem:\n",
    "    prompt: str\n",
    "    generation: Optional[str] = None\n",
    "    \n",
    "class recommenderDataset(Dataset):\n",
    "    def __init__(self, data: List[RecommenderItem]):\n",
    "        self.data = data\n",
    "\n",
    "    def __len__(self):\n",
    "        return len(self.data)\n",
    "\n",
    "    def __getitem__(self, idx) -> RecommenderItem:\n",
    "        return self.data[idx]"
   ]
  },
  {
   "cell_type": "code",
   "execution_count": 28,
   "metadata": {},
   "outputs": [],
   "source": [
    "items_validation = []\n",
    "for _, row in df_recommender_validation.iterrows():\n",
    "    if row[\"previous_interactions\"] is not None:\n",
    "        prompt = bos + \"previous_interactions:\" + row[\"previous_interactions\"] + \"\\n\"\n",
    "    else:\n",
    "        prompt = bos + \"previous_interactions: No previous interactions\" + \"\\n\"\n",
    "    for index, turn in enumerate(row[\"turns\"]):\n",
    "        if index < row[\"recommend_indexes\"]:\n",
    "            prompt += turn + \"\\n\"\n",
    "        elif index == row[\"recommend_indexes\"]:\n",
    "            prompt += \"candidate_apps: \"\n",
    "            for app in row[\"candidate_apps\"]:\n",
    "                prompt += \"'\" + app + \"', \"\n",
    "            prompt += \"\\n\"\n",
    "            prompt += \"computer: I would recommend the \"\n",
    "            items_validation.append(RecommenderItem(prompt, row[\"recommended_app_name\"] + \" app.\" + eos))\n",
    "            break\n",
    "        else:\n",
    "            print(\"error!!\")"
   ]
  },
  {
   "cell_type": "code",
   "execution_count": 29,
   "metadata": {},
   "outputs": [
    {
     "data": {
      "text/plain": [
       "\"<|startoftext|>previous_interactions: the house of da vinci, pet rescue saga, facemoji emoji keyboard&fonts, akinator, headspace: mindful meditation, dreame, idle theme park tycoon - recreation game, jiosaavn - music & podcasts, beat roller - music ball race, mergical-fun match island game\\ncomputer: hi there! how can i help you today?\\nhuman: i'm looking for social media apps for android phones.\\ncomputer: great choice! do you want apps that help you connect with friends and family?\\nhuman: yes, that's what i'm looking for.\\ncomputer: any specific age rating you prefer for these apps?\\nhuman: i usually go for apps with a teen rating.\\ncomputer: how many user reviews are you looking for in an app?\\nhuman: at least 1 billion user reviews.\\ncomputer: what about the app's average rating?\\nhuman: i prefer apps with a rating of 3.1 stars or higher.\\ncomputer: based on your preferences, i recommend checking out tagged - meet, chat & dating app.\\nhuman: can you give me some information about the app's users?\\ncomputer: some users have mentioned encountering fake profiles on the app.\\nhuman: hmm, that doesn't sound good. i might explore other options.\\ncomputer: no problem. how about trying tango-live stream & video chat? \\nhuman: is their customer service good?\\ncomputer: there have been complaints about poor customer service from some users.\\nhuman: thank you for the suggestion, but i'm hesitant about poor customer service. do you have any other recommendations?\\ncomputer: sure thing. you might want to consider tantan as an alternative.\\nhuman: i'm interested in learning more about tantan.\\ncomputer: some users have faced payment issues with tantan.\\nhuman: thanks for letting me know, but payment issues make me cautious.\\ncandidate_apps: 'b612 camera&photo/video editor', 'king of avalon: dominion', 'bubble shooter splash', 'phone by google', 'wish - shopping made fun', 'city island 3 - building sim offline', 'guardians from truecaller', 'chamet - live video chat & meet & party rooms', 'penny & flo: finding home', 'postmates - food, grocery & more', 'bloons adventure time td', 'house of fun™ - casino slots', 'my tizi town - newborn baby daycare games for kids', 'bloons td battles', 'giphy: gif & sticker keyboard & maker', 'streamkar - live video chat', 'facebook', 'bilibili comics - read comics', 'escape room: mystery word', 'file manager', 'my little pony: magic princess', 'destiny run', 'design keyboard - fonts, emoji', 'astracraft', 'norton secure vpn: wi-fi proxy', \\ncomputer: I would recommend the \""
      ]
     },
     "execution_count": 29,
     "metadata": {},
     "output_type": "execute_result"
    }
   ],
   "source": [
    "items_validation[4].prompt"
   ]
  },
  {
   "cell_type": "code",
   "execution_count": 30,
   "metadata": {},
   "outputs": [
    {
     "data": {
      "text/plain": [
       "'facebook app.<|endoftext|>'"
      ]
     },
     "execution_count": 30,
     "metadata": {},
     "output_type": "execute_result"
    }
   ],
   "source": [
    "items_validation[4].generation"
   ]
  },
  {
   "cell_type": "code",
   "execution_count": 31,
   "metadata": {},
   "outputs": [],
   "source": [
    "items_train = []\n",
    "for _, row in df_recommender_train.iterrows():\n",
    "    if row[\"previous_interactions\"] is not None:\n",
    "        prompt = bos + \"previous_interactions:\" + row[\"previous_interactions\"] + \"\\n\"\n",
    "    else:\n",
    "        prompt = bos + \"previous_interactions: No previous interactions\" + \"\\n\"\n",
    "    for index, turn in enumerate(row[\"turns\"]):\n",
    "        if index < row[\"recommend_indexes\"]:\n",
    "            prompt += turn + \"\\n\"\n",
    "        elif index == row[\"recommend_indexes\"]:\n",
    "            prompt += \"candidate_apps: \"\n",
    "            for app in row[\"candidate_apps\"]:\n",
    "                prompt += \"'\" + app + \"', \"\n",
    "            prompt += \"\\n\"\n",
    "            prompt += \"computer: I would recommend the \"\n",
    "            items_train.append(RecommenderItem(prompt, row[\"recommended_app_name\"] + \" app.\" + eos))\n",
    "            break\n",
    "        else:\n",
    "            print(\"error!!\")"
   ]
  },
  {
   "cell_type": "code",
   "execution_count": 32,
   "metadata": {},
   "outputs": [
    {
     "data": {
      "text/plain": [
       "\"<|startoftext|>previous_interactions: ace dating - video chat live, cat game - the cats collector!, teamviewer quicksupport, bloons td battles, audiolab - audio editor recorder & ringtone maker, my little pony color by magic, labo brick train game for kids, 9gag: funny gif, meme & video, pocket troops: strategy rpg, hackers\\ncomputer: hello! how can i assist you today?\\nhuman: i'm looking for a video editing app for my android phone. any recommendations?\\ncomputer: are you looking for an easy-to-use video editing app?\\nhuman: yes, i prefer apps that are easy to use.\\ncomputer: would you like a free app or are you willing to pay for extra features?\\nhuman: i prefer free apps.\\ncomputer: do you want an app with many reviews?\\nhuman: yes, i prefer popular apps with at least 10 million reviews.\\ncomputer: how about trying video editor, crop video, edit video, magic effect app?\\nhuman: can you tell me more about it?\\ncomputer: it has cool effects, but some users have mentioned hidden charges. want to try it out?\\nhuman: i think i'll pass on that one.\\ncomputer: what do you think about magisto - video editor & music slideshow maker?\\nhuman: can you provide more information about it?\\ncomputer: it has ai-driven features, but some users reported hidden fees. interested in giving it a try?\\nhuman: i'll skip that one too.\\ncomputer: how about checking out mx player pro?\\nhuman: can you tell me more about it?\\ncomputer: users have mentioned ui changes and codec compatibility. interested in trying it?\\nhuman: i'm cautious about the reported changes. do you have other suggestions?\\ncandidate_apps: 'flow free', 'empires & puzzles: match-3 rpg', 'fishdom', 'sudoku - classic sudoku puzzle', 'pokémon café remix', 'my home design - modern city', 'lemmings', 'drop the number® : merge game', 'lily’s garden', 'sweet fruit candy', 'the room: old sins', 'math | riddles and puzzles maths games', 'angry birds dream blast', 'dop 4: draw one part', 'antistress - relaxation toys', 'cut the rope', 'human: fall flat', 'bubble shooter: panda pop!', 'bubble shooter rainbow', 'capcut - video editor', 'sweet escapes: design a bakery with puzzle games', 'disney frozen free fall games', 'bad piggies', 'bad piggies hd', 'magic jigsaw puzzles - game hd', \\ncomputer: I would recommend the \""
      ]
     },
     "execution_count": 32,
     "metadata": {},
     "output_type": "execute_result"
    }
   ],
   "source": [
    "items_train[70].prompt"
   ]
  },
  {
   "cell_type": "code",
   "execution_count": 33,
   "metadata": {},
   "outputs": [
    {
     "data": {
      "text/plain": [
       "'capcut - video editor app.<|endoftext|>'"
      ]
     },
     "execution_count": 33,
     "metadata": {},
     "output_type": "execute_result"
    }
   ],
   "source": [
    "items_train[70].generation"
   ]
  },
  {
   "cell_type": "code",
   "execution_count": 34,
   "metadata": {},
   "outputs": [],
   "source": [
    "def training_collator(batch: list[recommenderDataset]): # for training a language model\n",
    "    input_ids = []\n",
    "    attention_masks = []\n",
    "    labels = []\n",
    "    for item in batch:\n",
    "        prompt_tokens = tokenizer.encode(item.prompt, return_tensors=\"pt\")[0] \n",
    "        generation_tokens = tokenizer.encode(item.generation, return_tensors=\"pt\")[0]\n",
    "        prompt_len = len(prompt_tokens)\n",
    "        generation_len = len(generation_tokens)\n",
    "        unused_len = model_max_length - prompt_len - generation_len\n",
    "        # handling case when input is greater than tokenizer length.\n",
    "        if unused_len < 0:\n",
    "            prompt_start_tokens = prompt_tokens[:1]\n",
    "            trimmed_prompt = prompt_tokens[unused_len * -1 + 1 :] # TODO: you could delete the prompt to reach the first |beginuser| token\n",
    "            prompt_tokens = torch.cat(\n",
    "                [prompt_start_tokens, trimmed_prompt], axis=0\n",
    "            )\n",
    "            prompt_len = len(prompt_tokens)\n",
    "            unused_len = 0\n",
    "        pad = torch.full([unused_len], tokenizer.pad_token_id)\n",
    "        input_tokens = torch.cat(\n",
    "            [prompt_tokens, generation_tokens, pad]\n",
    "        )\n",
    "        label = torch.cat(\n",
    "            [\n",
    "                torch.full(\n",
    "                    [prompt_len],\n",
    "                    -100,\n",
    "                ),\n",
    "                generation_tokens,\n",
    "                torch.full([unused_len], -100),\n",
    "            ]\n",
    "        )\n",
    "        attention_mask = torch.cat(\n",
    "            [\n",
    "                torch.full([prompt_len + generation_len], 1),\n",
    "                torch.full([unused_len], 0),\n",
    "            ]\n",
    "        )\n",
    "        input_ids.append(input_tokens)\n",
    "        attention_masks.append(attention_mask)\n",
    "        labels.append(label)\n",
    "\n",
    "    out = {\n",
    "        \"input_ids\": torch.stack(input_ids),\n",
    "        \"attention_mask\": torch.stack(attention_masks),\n",
    "        \"labels\": torch.stack(labels),\n",
    "    }\n",
    "\n",
    "    return out"
   ]
  },
  {
   "cell_type": "code",
   "execution_count": 35,
   "metadata": {},
   "outputs": [],
   "source": [
    "training_args = TrainingArguments(\n",
    "    output_dir=\"/u/amo-d1/grad/sma340/project/llmrank/MobileConvRec-Main/metrics/outputs_GPT2_with_interactions_with_candidate_apps\",\n",
    "    num_train_epochs=5,\n",
    "    # logging_steps=500,\n",
    "    # logging_dir=self.cfg.logging_dir,\n",
    "    load_best_model_at_end=True,\n",
    "    metric_for_best_model=\"eval_loss\",\n",
    "    save_strategy=\"steps\",\n",
    "    evaluation_strategy=\"steps\",\n",
    "    save_steps=1000,#self.cfg.save_steps,\n",
    "    eval_steps=1000, #self.cfg.eval_steps,\n",
    "    save_total_limit=3,\n",
    "    gradient_accumulation_steps=3, #gradient_accumulation_steps,\n",
    "    per_device_train_batch_size=4, #train_batch_size,\n",
    "    per_device_eval_batch_size=4, #self.cfg.eval_batch_size,\n",
    "    warmup_steps=100,\n",
    "    weight_decay=0.01,\n",
    "    # dataloader_drop_last=True,\n",
    "    disable_tqdm=False,\n",
    "    push_to_hub=False\n",
    ")\n",
    "\n",
    "\n",
    "trainer = Trainer(\n",
    "        model=model,\n",
    "        args=training_args,\n",
    "        train_dataset=recommenderDataset(items_train),\n",
    "        eval_dataset=recommenderDataset(items_validation), #dm.datasets[DataNames.dev_language_model.value],\n",
    "        data_collator=training_collator,\n",
    "    )"
   ]
  },
  {
   "cell_type": "code",
   "execution_count": 36,
   "metadata": {},
   "outputs": [
    {
     "data": {
      "text/html": [
       "\n",
       "    <div>\n",
       "      \n",
       "      <progress value='287' max='3600' style='width:300px; height:20px; vertical-align: middle;'></progress>\n",
       "      [ 287/3600 04:44 < 55:03, 1.00 it/s, Epoch 0.40/5]\n",
       "    </div>\n",
       "    <table border=\"1\" class=\"dataframe\">\n",
       "  <thead>\n",
       " <tr style=\"text-align: left;\">\n",
       "      <th>Step</th>\n",
       "      <th>Training Loss</th>\n",
       "      <th>Validation Loss</th>\n",
       "    </tr>\n",
       "  </thead>\n",
       "  <tbody>\n",
       "  </tbody>\n",
       "</table><p>"
      ],
      "text/plain": [
       "<IPython.core.display.HTML object>"
      ]
     },
     "metadata": {},
     "output_type": "display_data"
    }
   ],
   "source": [
    "trainer.train()\n",
    "trainer.save_model()"
   ]
  },
  {
   "cell_type": "code",
   "execution_count": 4,
   "metadata": {},
   "outputs": [],
   "source": [
    "torch.cuda.empty_cache()"
   ]
  },
  {
   "cell_type": "markdown",
   "metadata": {},
   "source": [
    "Load the model and test it on the test dataset"
   ]
  },
  {
   "cell_type": "code",
   "execution_count": 5,
   "metadata": {},
   "outputs": [],
   "source": [
    "def is_approximate_substring(substring, string, threshold=70):\n",
    "    for i in range(len(string) - len(substring) + 1):\n",
    "        window = string[i:i+len(substring)]\n",
    "        similarity_ratio = fuzz.ratio(substring, window)\n",
    "        if similarity_ratio >= threshold:\n",
    "            return True\n",
    "    return False"
   ]
  },
  {
   "cell_type": "code",
   "execution_count": 6,
   "metadata": {},
   "outputs": [
    {
     "name": "stderr",
     "output_type": "stream",
     "text": [
      "  0%|          | 0/2557 [00:00<?, ?it/s]"
     ]
    },
    {
     "name": "stderr",
     "output_type": "stream",
     "text": [
      "100%|██████████| 2557/2557 [00:11<00:00, 220.16it/s]"
     ]
    },
    {
     "name": "stdout",
     "output_type": "stream",
     "text": [
      "2557\n",
      "2557\n",
      "2557\n",
      "2557\n",
      "\n",
      "number of rows: 2557\n"
     ]
    },
    {
     "name": "stderr",
     "output_type": "stream",
     "text": [
      "\n"
     ]
    }
   ],
   "source": [
    "conversation_test_path = \"/u/amo-d1/grad/sma340/project/llmrank/MobileConvRec-Main/dialogs/testing\"\n",
    "\n",
    "user_id = []\n",
    "previous_interactions = []\n",
    "recommended_app_name = []\n",
    "turns = []\n",
    "recommend_indexes = []\n",
    "\n",
    "\n",
    "# List all files in the folder\n",
    "files = os.listdir(conversation_test_path)\n",
    "\n",
    "# Loop through each file in the directory\n",
    "for filename in tqdm(files):\n",
    "    # Construct the full file path\n",
    "    file_path = os.path.join(conversation_test_path, filename)\n",
    "\n",
    "    # Check if the current item is a file\n",
    "    if os.path.isfile(file_path):\n",
    "        # Open and read the file\n",
    "        with open(file_path, 'r') as file:\n",
    "            # Read the content of the file\n",
    "            file_content = file.read().lower()\n",
    "            \n",
    "            # finding the user id\n",
    "            index_1 = file_content.find(\"user's previous interactions\")\n",
    "            user_id.append(file_content[9:index_1].rstrip('\\n'))\n",
    "            \n",
    "            # finding the User's Previous Interactions\n",
    "            index_2 = file_content.find(\"recommended app name:\")\n",
    "            previous_interactions_arr = file_content[index_1+29:index_2].rstrip('\\n').split(\"app name:\")\n",
    "            previous_interactions_arr_filtered = []\n",
    "            for previous_interaction in previous_interactions_arr[1:]:\n",
    "                previous_interactions_arr_filtered.append(previous_interaction[:previous_interaction.find(\" | \")])\n",
    "            if len(previous_interactions_arr_filtered) > 0:\n",
    "                previous_interactions.append(\",\".join(previous_interactions_arr_filtered))\n",
    "            else:\n",
    "                previous_interactions.append(None)\n",
    "            \n",
    "            # finding recommended app name\n",
    "            index_3 = file_content[index_2:].find(\"package name\")\n",
    "            recommended = file_content[index_2+22:index_2+index_3-3].rstrip('\\n')\n",
    "            recommended_app_name.append(recommended)\n",
    "            \n",
    "            # finding each turns\n",
    "            dialog_turns = []\n",
    "            dialog_index = 0\n",
    "            COMPUTER_index = file_content.find(\"computer:\")\n",
    "            file_content = file_content[COMPUTER_index:]\n",
    "            found_recommender = False\n",
    "            while True:\n",
    "                HUMAN_index = file_content.find(\"human:\")\n",
    "                if HUMAN_index == -1:\n",
    "                    break\n",
    "                turn = file_content[:HUMAN_index].rstrip('\\n') # computer dialog\n",
    "                if (recommended in turn) and not found_recommender:\n",
    "                    recommend_indexes.append(dialog_index)\n",
    "                    found_recommender = True\n",
    "                dialog_turns.append(turn)\n",
    "                dialog_index +=1\n",
    "                file_content = file_content[HUMAN_index:]\n",
    "                \n",
    "                COMPUTER_index = file_content.find(\"computer:\")\n",
    "                turn = file_content[:COMPUTER_index].rstrip('\\n') # human dialog\n",
    "                dialog_turns.append(turn)\n",
    "                dialog_index +=1\n",
    "                file_content = file_content[COMPUTER_index:]\n",
    "                \n",
    "            if not found_recommender: # approximately finding the recommender turn\n",
    "                for i, dialog_turn in enumerate(dialog_turns):\n",
    "                    if is_approximate_substring(recommended, dialog_turn):\n",
    "                        recommend_indexes.append(i)\n",
    "                        found_recommender = True\n",
    "                        break\n",
    "                    \n",
    "            if not found_recommender:\n",
    "                recommend_indexes.append(-1)\n",
    "                        \n",
    "            turns.append(dialog_turns)\n",
    "\n",
    "print(len(user_id))\n",
    "print(len(previous_interactions))\n",
    "print(len(recommended_app_name))\n",
    "print(len(recommend_indexes))\n",
    "df_recommender_test = pd.DataFrame({\"user_id\": user_id, \"previous_interactions\":previous_interactions, \"recommended_app_name\":recommended_app_name, \"turns\": turns, \"recommend_indexes\":recommend_indexes})\n",
    "print(f\"\\nnumber of rows: {len(df_recommender_test)}\")"
   ]
  },
  {
   "cell_type": "code",
   "execution_count": 7,
   "metadata": {},
   "outputs": [],
   "source": [
    "df_recommender_test = df_recommender_test[(df_recommender_test[\"recommend_indexes\"] != -1) & (df_recommender_test[\"turns\"].apply(lambda x: len(x) > 0))]"
   ]
  },
  {
   "cell_type": "code",
   "execution_count": 8,
   "metadata": {},
   "outputs": [],
   "source": [
    "apps_training_path = \"/u/amo-d1/grad/sma340/project/llmrank/MobileConvRec-Main/data/master_app_data_V1_true.csv\"\n",
    "\n",
    "all_apps = []\n",
    "with open(apps_training_path, 'r') as csv_file:\n",
    "    csv_reader = csv.DictReader(csv_file)\n",
    "    for row in csv_reader:\n",
    "        all_apps.append(row[\"app_name\"].lower())"
   ]
  },
  {
   "cell_type": "code",
   "execution_count": 9,
   "metadata": {},
   "outputs": [],
   "source": [
    "def fix_recommended_apps_names(row):\n",
    "    if row[\"recommended_app_name\"] not in all_apps:\n",
    "        for app in all_apps:\n",
    "            if fuzz.ratio(row[\"recommended_app_name\"], app) > 80:\n",
    "                return app\n",
    "        return \"uno!™\"\n",
    "    else:\n",
    "        return row[\"recommended_app_name\"]\n",
    "\n",
    "df_recommender_test['recommended_app_name'] = df_recommender_test.apply(fix_recommended_apps_names, axis=1)"
   ]
  },
  {
   "cell_type": "code",
   "execution_count": 10,
   "metadata": {},
   "outputs": [],
   "source": [
    "def candidate_creator(row):\n",
    "    np.random.seed(row.name)\n",
    "    selected_values = np.random.choice(np.setdiff1d(all_apps, [row[\"recommended_app_name\"]]), 24, replace=False)\n",
    "    random_position = np.random.randint(0, len(selected_values) + 1)\n",
    "    \n",
    "    return np.insert(selected_values, random_position, row[\"recommended_app_name\"]) \n",
    "\n",
    "df_recommender_test['candidate_apps'] = df_recommender_test.apply(lambda row: candidate_creator(row), axis=1)"
   ]
  },
  {
   "cell_type": "code",
   "execution_count": 11,
   "metadata": {},
   "outputs": [],
   "source": [
    "@dataclass\n",
    "class RecommenderItem:\n",
    "    prompt: str\n",
    "    generation: Optional[str] = None\n",
    "    \n",
    "class recommenderDataset(Dataset):\n",
    "    def __init__(self, data: List[RecommenderItem]):\n",
    "        self.data = data\n",
    "\n",
    "    def __len__(self):\n",
    "        return len(self.data)\n",
    "\n",
    "    def __getitem__(self, idx) -> RecommenderItem:\n",
    "        return self.data[idx]"
   ]
  },
  {
   "cell_type": "code",
   "execution_count": 12,
   "metadata": {},
   "outputs": [
    {
     "data": {
      "text/plain": [
       "Embedding(50263, 768)"
      ]
     },
     "execution_count": 12,
     "metadata": {},
     "output_type": "execute_result"
    }
   ],
   "source": [
    "device = torch.device(\"cuda\" if torch.cuda.is_available() else \"cpu\")\n",
    "bos = '<|startoftext|>'\n",
    "eos = '<|endoftext|>'\n",
    "pad = '<|pad|>'\n",
    "\n",
    "tokenizer = GPT2Tokenizer.from_pretrained(\"gpt2\", bos_token=bos, eos_token=eos, pad_token=pad, additional_special_tokens=[\"computer:\", \"human:\", \"candidate_apps:\", \"previous_interactions:\"], padding_side='left')\n",
    "\n",
    "model = GPT2LMHeadModel.from_pretrained(\"/u/amo-d1/grad/sma340/project/llmrank/MobileConvRec-Main/metrics/outputs_GPT2_with_interactions_with_candidate_apps\").to(device)\n",
    "model.resize_token_embeddings(len(tokenizer))"
   ]
  },
  {
   "cell_type": "code",
   "execution_count": 13,
   "metadata": {},
   "outputs": [],
   "source": [
    "prompts = []\n",
    "generations = []\n",
    "candidate_apps = []\n",
    "true_candidate_index = []\n",
    "for _, row in df_recommender_test.iterrows():\n",
    "    # creating candidate apps\n",
    "    candidates = []\n",
    "    for index, candidate_app in enumerate(row[\"candidate_apps\"].tolist()):\n",
    "        candidates.append(candidate_app + \" app.\" + eos)\n",
    "        if candidate_app == row[\"recommended_app_name\"]:\n",
    "            true_candidate_index.append(index)\n",
    "    candidate_apps.append(candidates)\n",
    "    # creating prompts and generations\n",
    "    if row[\"previous_interactions\"] is not None:\n",
    "        prompt = bos + \"previous_interactions:\" + row[\"previous_interactions\"] + \"\\n\"\n",
    "    else:\n",
    "        prompt = bos + \"previous_interactions: No previous interactions\" + \"\\n\"\n",
    "    for index, turn in enumerate(row[\"turns\"]):\n",
    "        if index < row[\"recommend_indexes\"]:\n",
    "            prompt += turn + \"\\n\"\n",
    "        elif index == row[\"recommend_indexes\"]:\n",
    "            prompt += \"candidate_apps: \"\n",
    "            for app in row[\"candidate_apps\"]:\n",
    "                prompt += \"'\" + app + \"', \"\n",
    "            prompt += \"\\n\"\n",
    "            # prompt += \"computer: I would recommend the \"\n",
    "            prompt += \"computer: I would recommend the \"\n",
    "            prompts.append(prompt)\n",
    "            generations.append(row[\"recommended_app_name\"] + \" app.\" + eos)\n",
    "            break\n",
    "        else:\n",
    "            print(\"error!!\")"
   ]
  },
  {
   "cell_type": "code",
   "execution_count": 14,
   "metadata": {},
   "outputs": [
    {
     "data": {
      "text/plain": [
       "\"<|startoftext|>previous_interactions: nasty goats, table tennis touch, darts of fury, animal crossing: pocket camp, ultimate guitar: chords & tabs, badland, grand theft auto: vice city\\ncomputer: hello there! how can i help you today?\\nhuman: i'm looking for an action adventure game app for my android phone. any recommendations?\\ncomputer: are you looking for an action adventure game app or something specific with high-resolution graphics?\\nhuman: i want an app with high-resolution graphics.\\ncomputer: how many user reviews are you looking for?\\nhuman: i prefer apps with at least 1 million user reviews.\\ncomputer: what average rating do you prefer?\\nhuman: i usually look for apps with an average rating of 4.2 stars or higher.\\ncomputer: are you okay with some ads in the app?\\nhuman: a few ads are fine.\\ncomputer: i suggest trying out the rider app based on your interests.\\nhuman: can you tell me about the ads in this app?\\ncomputer: users have mentioned frequent ads in the rider app.\\nhuman: i'd rather not deal with frequent ads. do you have any other suggestions?\\ncomputer: how about checking out ab transformers?\\nhuman: can you provide information on the in-app purchases for this app?\\ncomputer: there have been reports of expensive in-app purchases in ab transformers.\\nhuman: i'm concerned about expensive in-app purchases. do you have another suggestion?\\ncandidate_apps: 'my town home: family playhouse', 'race: rocket arena car extreme', 'home street—dream house design', 'flow free', 'period calendar period tracker', 'ludo star', 'ice scream: horror brawl', 'klarna | shop now. pay later.', 'grand theft auto: vice city', 'cooking fever: restaurant game', 'magic tiles 3', 'karaoke - sing karaoke, unlimited songs', 'video downloader', 'my little pony: harmony quest', 'onmyoji arena', 'animal town - my squirrel home', 'animation throwdown: epic ccg', 'toca kitchen 2', 'zombie age 3 premium: survival', 'color by number: coloring game', 'chamet - live video chat & meet & party rooms', 'cute cut - video editor & movie maker', 'my lottery dream life', 'city island 5 - building sim', 'shadow fight 2 special edition', \\ncomputer: I would recommend the \""
      ]
     },
     "execution_count": 14,
     "metadata": {},
     "output_type": "execute_result"
    }
   ],
   "source": [
    "prompts[40]"
   ]
  },
  {
   "cell_type": "code",
   "execution_count": 15,
   "metadata": {},
   "outputs": [
    {
     "data": {
      "text/plain": [
       "'grand theft auto: vice city app.<|endoftext|>'"
      ]
     },
     "execution_count": 15,
     "metadata": {},
     "output_type": "execute_result"
    }
   ],
   "source": [
    "generations[40]"
   ]
  },
  {
   "cell_type": "code",
   "execution_count": 16,
   "metadata": {},
   "outputs": [
    {
     "data": {
      "text/plain": [
       "8"
      ]
     },
     "execution_count": 16,
     "metadata": {},
     "output_type": "execute_result"
    }
   ],
   "source": [
    "true_candidate_index[40]"
   ]
  },
  {
   "cell_type": "code",
   "execution_count": 17,
   "metadata": {},
   "outputs": [
    {
     "data": {
      "text/plain": [
       "['my town home: family playhouse app.<|endoftext|>',\n",
       " 'race: rocket arena car extreme app.<|endoftext|>',\n",
       " 'home street—dream house design app.<|endoftext|>',\n",
       " 'flow free app.<|endoftext|>',\n",
       " 'period calendar period tracker app.<|endoftext|>',\n",
       " 'ludo star app.<|endoftext|>',\n",
       " 'ice scream: horror brawl app.<|endoftext|>',\n",
       " 'klarna | shop now. pay later. app.<|endoftext|>',\n",
       " 'grand theft auto: vice city app.<|endoftext|>',\n",
       " 'cooking fever: restaurant game app.<|endoftext|>',\n",
       " 'magic tiles 3 app.<|endoftext|>',\n",
       " 'karaoke - sing karaoke, unlimited songs app.<|endoftext|>',\n",
       " 'video downloader app.<|endoftext|>',\n",
       " 'my little pony: harmony quest app.<|endoftext|>',\n",
       " 'onmyoji arena app.<|endoftext|>',\n",
       " 'animal town - my squirrel home app.<|endoftext|>',\n",
       " 'animation throwdown: epic ccg app.<|endoftext|>',\n",
       " 'toca kitchen 2 app.<|endoftext|>',\n",
       " 'zombie age 3 premium: survival app.<|endoftext|>',\n",
       " 'color by number: coloring game app.<|endoftext|>',\n",
       " 'chamet - live video chat & meet & party rooms app.<|endoftext|>',\n",
       " 'cute cut - video editor & movie maker app.<|endoftext|>',\n",
       " 'my lottery dream life app.<|endoftext|>',\n",
       " 'city island 5 - building sim app.<|endoftext|>',\n",
       " 'shadow fight 2 special edition app.<|endoftext|>']"
      ]
     },
     "execution_count": 17,
     "metadata": {},
     "output_type": "execute_result"
    }
   ],
   "source": [
    "candidate_apps[40]"
   ]
  },
  {
   "cell_type": "code",
   "execution_count": 18,
   "metadata": {},
   "outputs": [],
   "source": [
    "def chunk(list_of_elements, batch_size): # using this chunk function, we can split our data to multiple batches\n",
    "  for i in range(0, len(list_of_elements), batch_size):\n",
    "    yield list_of_elements[i:i+batch_size]\n",
    "\n",
    "def evaluate_recommender(prompts, generations, model, tokenizer, batch_size=8, device=device, threshold=70):\n",
    "  prompt_batches = list(chunk(prompts, batch_size))\n",
    "  generation_batches = list(chunk(generations, batch_size))\n",
    "  max_length = 992\n",
    "  generation_length = 32\n",
    "  correctly_predicted = []\n",
    "  for prompt_batch, generation_batch in tqdm(zip(prompt_batches, generation_batches), total = len(generation_batches)):\n",
    "\n",
    "    inputs = tokenizer(prompt_batch, max_length=max_length, truncation=True, padding=\"max_length\", return_tensors=\"pt\") \n",
    "\n",
    "    generations_predicted = model.generate(input_ids=inputs[\"input_ids\"].to(device), attention_mask=inputs[\"attention_mask\"].to(device),\n",
    "                            max_new_tokens=generation_length,\n",
    "                            num_beams=8,\n",
    "                            eos_token_id=tokenizer.eos_token_id,\n",
    "                            pad_token_id=tokenizer.pad_token_id,\n",
    "                            bos_token_id=tokenizer.bos_token_id) # length_penalty=0.8, Set length_penalty to values < 1.0 in order to encourage the model to generate shorter sequences, to a value > 1.0 in order to encourage the model to produce longer sequences.\n",
    "\n",
    "    generations_predicted = generations_predicted[:, max_length:] # we only need the generation part, not the prompt part.\n",
    "    decoded_generations = [tokenizer.decode(generation, skip_special_tokens=True, clean_up_tokenization_spaces=True).replace(\" app.\", \"\")  for generation in generations_predicted]\n",
    "    generation_batch = [generation.replace(\" app.\", \"\").replace(\"<|endoftext|>\", \"\") for generation in generation_batch]\n",
    "    \n",
    "    correctly_predicted.extend([1 if fuzz.ratio(predicted, ground_truth) >= threshold else 0 for predicted, ground_truth in zip(decoded_generations, generation_batch)])\n",
    "  \n",
    "  return correctly_predicted"
   ]
  },
  {
   "cell_type": "code",
   "execution_count": 19,
   "metadata": {},
   "outputs": [
    {
     "name": "stderr",
     "output_type": "stream",
     "text": [
      "100%|██████████| 634/634 [11:54<00:00,  1.13s/it]"
     ]
    },
    {
     "name": "stdout",
     "output_type": "stream",
     "text": [
      "success_rate:  0.09542586750788644\n"
     ]
    },
    {
     "name": "stderr",
     "output_type": "stream",
     "text": [
      "\n"
     ]
    }
   ],
   "source": [
    "correctly_predicted = evaluate_recommender(prompts, generations, model, tokenizer, batch_size=4, device=device)\n",
    "success_rate = sum(correctly_predicted) / len(correctly_predicted)\n",
    "print(\"success_rate: \", success_rate)"
   ]
  },
  {
   "cell_type": "code",
   "execution_count": 20,
   "metadata": {},
   "outputs": [],
   "source": [
    "def chunk(list_of_elements, batch_size): # using this chunk function, we can split our data to multiple batches\n",
    "  for i in range(0, len(list_of_elements), batch_size):\n",
    "    yield list_of_elements[i:i+batch_size]\n",
    "    \n",
    "def convert_to_sublists(numbers, sublist_size):\n",
    "    return [numbers[i:i+sublist_size] for i in range(0, len(numbers), sublist_size)]\n",
    "\n",
    "def recommender_rank(prompts, candidate_apps, model, tokenizer, batch_size=8, device=device):\n",
    "  model.eval()\n",
    "  tokenizer.padding_side='left'\n",
    "  tokenizer.truncation_side='left'\n",
    "  max_length = 992 \n",
    "  prompts_ids = tokenizer(prompts, max_length=max_length, truncation=True, padding=\"max_length\", return_tensors=\"pt\")\n",
    "  \n",
    "  tokenizer.padding_side='right'\n",
    "  tokenizer.truncation_side='right'\n",
    "  input_ids = []\n",
    "  attention_mask = []\n",
    "  for index, candidate_app_elements in enumerate(candidate_apps):\n",
    "    candidate_apps_ids = tokenizer(candidate_app_elements, max_length=32, truncation=True, padding=\"max_length\", return_tensors=\"pt\")\n",
    "    for candidate_app_index in range(len(candidate_app_elements)):\n",
    "      input_ids.append(torch.cat([prompts_ids[\"input_ids\"][index], candidate_apps_ids[\"input_ids\"][candidate_app_index]]))\n",
    "      attention_mask.append(torch.cat([prompts_ids[\"attention_mask\"][index], candidate_apps_ids[\"attention_mask\"][candidate_app_index]]))\n",
    "      \n",
    "  input_ids_batches = list(chunk(input_ids, batch_size))\n",
    "  attention_mask_batches = list(chunk(attention_mask, batch_size))\n",
    "\n",
    "  scores = []\n",
    "  for input_ids_batch, attention_mask_batch in tqdm(zip(input_ids_batches, attention_mask_batches), total = len(attention_mask_batches)):\n",
    "\n",
    "    input_ids = torch.stack(input_ids_batch).to(device)\n",
    "    attention_mask = torch.stack(attention_mask_batch).to(device)\n",
    "    with torch.no_grad():\n",
    "      model_output = model(input_ids=input_ids) # attention_mask=attention_mask\n",
    "\n",
    "    logprobs = F.log_softmax(model_output[\"logits\"], dim=-1)[:, max_length -1:-1, :]\n",
    "    output_tokens = input_ids[:, max_length:]\n",
    "    \n",
    "    tokens_logprobs = torch.gather(logprobs, 2, output_tokens[:, :, None]).squeeze(-1).to(torch.float32)\n",
    "    \n",
    "    mask = torch.ones(tokens_logprobs.shape, dtype=torch.bool, device=device)\n",
    "    for i, _output in enumerate(output_tokens):\n",
    "      for j, _token in enumerate(_output):\n",
    "        if _token == tokenizer.pad_token_id:\n",
    "          mask[i, j] = False\n",
    "          \n",
    "    score = (tokens_logprobs * mask).sum(-1) / mask.sum(-1)\n",
    "    scores.extend(score.to('cpu').tolist())\n",
    "  \n",
    "  scores = convert_to_sublists(scores, len(candidate_apps[0]))\n",
    "  \n",
    "  return scores"
   ]
  },
  {
   "cell_type": "code",
   "execution_count": 21,
   "metadata": {},
   "outputs": [
    {
     "name": "stderr",
     "output_type": "stream",
     "text": [
      "100%|██████████| 3963/3963 [26:14<00:00,  2.52it/s]\n"
     ]
    }
   ],
   "source": [
    "scores = recommender_rank(prompts, candidate_apps, model, tokenizer, batch_size=16, device=device)"
   ]
  },
  {
   "cell_type": "code",
   "execution_count": 22,
   "metadata": {},
   "outputs": [
    {
     "data": {
      "text/plain": [
       "22"
      ]
     },
     "execution_count": 22,
     "metadata": {},
     "output_type": "execute_result"
    }
   ],
   "source": [
    "np.argmax(scores[0])"
   ]
  },
  {
   "cell_type": "code",
   "execution_count": 33,
   "metadata": {},
   "outputs": [
    {
     "data": {
      "text/plain": [
       "0.08162460567823344"
      ]
     },
     "execution_count": 33,
     "metadata": {},
     "output_type": "execute_result"
    }
   ],
   "source": [
    "top_k_accuracy_score(true_candidate_index, scores, k=1)"
   ]
  },
  {
   "cell_type": "code",
   "execution_count": 24,
   "metadata": {},
   "outputs": [],
   "source": [
    "true_relevance = [[1 if item == index else 0 for item in range(len(candidate_apps[0]))] for index in true_candidate_index]"
   ]
  },
  {
   "cell_type": "code",
   "execution_count": 42,
   "metadata": {},
   "outputs": [
    {
     "data": {
      "text/plain": [
       "0.08162460567823344"
      ]
     },
     "execution_count": 42,
     "metadata": {},
     "output_type": "execute_result"
    }
   ],
   "source": [
    "ndcg_score(true_relevance, scores, k=1)"
   ]
  },
  {
   "cell_type": "code",
   "execution_count": 21,
   "metadata": {},
   "outputs": [
    {
     "name": "stdout",
     "output_type": "stream",
     "text": [
      "18\n",
      "<|startoftext|>computer: hey there! how can i assist you today? i'm here to help with your mobile application recommendations.\n",
      "human: i'm specifically looking for an app designed for teenagers.\n",
      "computer: of course! do you have a minimum number of reviews in mind before deciding to install an app?\n",
      "human: well, i feel more comfortable installing an app when it has at least a billion reviews.\n",
      "computer: got it! how important is the reputation or credibility of the developer to you when choosing a mobile app?\n",
      "human: honestly, i don't pay much attention to the developer when installing apps.\n",
      "computer: alright, understood. are there any app categories that catch your interest?\n",
      "human: today, i'm really keen on checking out social apps.\n",
      "computer: do you have any concerns about the app's performance?\n",
      "human: nah, i don't really care about app performance.\n",
      "candidate_apps: 'food diary: girls cooking game', 'mobile royale mmorpg - build a strategy for battle', 'animal restaurant', 'clash of wizards', 'craigslist', 'peppa pig: sports day', 'reporter - scary horror game', 'yalla ludo - ludo&domino', 'aloha browser (beta)', 'invasion: modern empire', 'battle for the galaxy', 'galaxy invaders: alien shooter', 'bloom, meet singles. find love', 'jurassic world alive', 'emergency hq: rescue strategy', 'bloons adventure time td', 'mini football - mobile soccer', 'quora — ask questions, get answers', 'instagram', 'first strike', 'going balls', 'hello weather', 'collage maker | photo editor', 'disney pop town', 'garena free fire max', \n",
      "computer: I would recommend the \n",
      "instagram app.<|endoftext|>\n"
     ]
    }
   ],
   "source": [
    "print(true_candidate_index[0])\n",
    "print(prompts[0])\n",
    "print(candidate_apps[0][true_candidate_index[0]])"
   ]
  },
  {
   "cell_type": "code",
   "execution_count": 37,
   "metadata": {},
   "outputs": [
    {
     "name": "stdout",
     "output_type": "stream",
     "text": [
      "instagram app.<|endoftext|>\n"
     ]
    }
   ],
   "source": [
    "tokenizer.padding_side='left'\n",
    "inputs = tokenizer(prompts[0], max_length=992, truncation=True, padding=\"max_length\", return_tensors=\"pt\") \n",
    "\n",
    "generations_predicted = model.generate(input_ids=inputs[\"input_ids\"].to(device), attention_mask=inputs[\"attention_mask\"].to(device),\n",
    "                max_new_tokens=32,\n",
    "                num_beams=8,\n",
    "                eos_token_id=tokenizer.eos_token_id,\n",
    "                pad_token_id=tokenizer.pad_token_id,\n",
    "                bos_token_id=tokenizer.bos_token_id, \n",
    "                output_scores=True,\n",
    "                return_dict_in_generate=True)\n",
    "\n",
    "generations_predicted_sequences = generations_predicted.sequences[0, 992:] # we only need the generation part, not the prompt part.\n",
    "print(tokenizer.decode(generations_predicted_sequences))"
   ]
  },
  {
   "cell_type": "code",
   "execution_count": 44,
   "metadata": {},
   "outputs": [
    {
     "data": {
      "text/plain": [
       "tensor([ 8625,  6713,   598,    13, 50256], device='cuda:0')"
      ]
     },
     "execution_count": 44,
     "metadata": {},
     "output_type": "execute_result"
    }
   ],
   "source": [
    "generations_predicted_sequences"
   ]
  },
  {
   "cell_type": "code",
   "execution_count": 23,
   "metadata": {},
   "outputs": [
    {
     "data": {
      "text/plain": [
       "odict_keys(['sequences', 'sequences_scores', 'scores', 'beam_indices', 'past_key_values'])"
      ]
     },
     "execution_count": 23,
     "metadata": {},
     "output_type": "execute_result"
    }
   ],
   "source": [
    "generations_predicted.keys()"
   ]
  },
  {
   "cell_type": "code",
   "execution_count": 38,
   "metadata": {},
   "outputs": [
    {
     "data": {
      "text/plain": [
       "tensor([-0.0147], device='cuda:0')"
      ]
     },
     "execution_count": 38,
     "metadata": {},
     "output_type": "execute_result"
    }
   ],
   "source": [
    "generations_predicted[\"sequences_scores\"]"
   ]
  },
  {
   "cell_type": "code",
   "execution_count": 39,
   "metadata": {},
   "outputs": [
    {
     "data": {
      "text/plain": [
       "32"
      ]
     },
     "execution_count": 39,
     "metadata": {},
     "output_type": "execute_result"
    }
   ],
   "source": [
    "len(generations_predicted['scores'])"
   ]
  },
  {
   "cell_type": "code",
   "execution_count": 49,
   "metadata": {},
   "outputs": [
    {
     "data": {
      "text/plain": [
       "tensor([-16.0206, -15.8438, -13.5233,  ..., -14.2624, -13.0779, -14.2395],\n",
       "       device='cuda:0')"
      ]
     },
     "execution_count": 49,
     "metadata": {},
     "output_type": "execute_result"
    }
   ],
   "source": [
    "generations_predicted['scores'][0][0]"
   ]
  },
  {
   "cell_type": "code",
   "execution_count": 76,
   "metadata": {},
   "outputs": [
    {
     "data": {
      "text/plain": [
       "tensor(8625, device='cuda:0')"
      ]
     },
     "execution_count": 76,
     "metadata": {},
     "output_type": "execute_result"
    }
   ],
   "source": [
    "torch.argmax(generations_predicted['scores'][0][0])"
   ]
  },
  {
   "cell_type": "code",
   "execution_count": 82,
   "metadata": {},
   "outputs": [
    {
     "data": {
      "text/plain": [
       "tensor(-0.0734, device='cuda:0')"
      ]
     },
     "execution_count": 82,
     "metadata": {},
     "output_type": "execute_result"
    }
   ],
   "source": [
    "generations_predicted['scores'][0][0][8625]"
   ]
  },
  {
   "cell_type": "code",
   "execution_count": 77,
   "metadata": {},
   "outputs": [
    {
     "data": {
      "text/plain": [
       "tensor(6713, device='cuda:0')"
      ]
     },
     "execution_count": 77,
     "metadata": {},
     "output_type": "execute_result"
    }
   ],
   "source": [
    "torch.argmax(generations_predicted['scores'][1][0])"
   ]
  },
  {
   "cell_type": "code",
   "execution_count": 83,
   "metadata": {},
   "outputs": [
    {
     "data": {
      "text/plain": [
       "tensor(-0.0002, device='cuda:0')"
      ]
     },
     "execution_count": 83,
     "metadata": {},
     "output_type": "execute_result"
    }
   ],
   "source": [
    "generations_predicted['scores'][1][0][6713]"
   ]
  },
  {
   "cell_type": "code",
   "execution_count": 84,
   "metadata": {},
   "outputs": [
    {
     "data": {
      "text/plain": [
       "tensor(598, device='cuda:0')"
      ]
     },
     "execution_count": 84,
     "metadata": {},
     "output_type": "execute_result"
    }
   ],
   "source": [
    "torch.argmax(generations_predicted['scores'][2][0])"
   ]
  },
  {
   "cell_type": "code",
   "execution_count": 87,
   "metadata": {},
   "outputs": [
    {
     "data": {
      "text/plain": [
       "tensor(-1.4305e-05, device='cuda:0')"
      ]
     },
     "execution_count": 87,
     "metadata": {},
     "output_type": "execute_result"
    }
   ],
   "source": [
    "generations_predicted['scores'][2][0][598]"
   ]
  },
  {
   "cell_type": "code",
   "execution_count": 88,
   "metadata": {},
   "outputs": [
    {
     "data": {
      "text/plain": [
       "tensor(13, device='cuda:0')"
      ]
     },
     "execution_count": 88,
     "metadata": {},
     "output_type": "execute_result"
    }
   ],
   "source": [
    "torch.argmax(generations_predicted['scores'][3][0])"
   ]
  },
  {
   "cell_type": "code",
   "execution_count": 89,
   "metadata": {},
   "outputs": [
    {
     "data": {
      "text/plain": [
       "tensor(-1.0848e-05, device='cuda:0')"
      ]
     },
     "execution_count": 89,
     "metadata": {},
     "output_type": "execute_result"
    }
   ],
   "source": [
    "generations_predicted['scores'][3][0][13]"
   ]
  },
  {
   "cell_type": "code",
   "execution_count": 85,
   "metadata": {},
   "outputs": [
    {
     "data": {
      "text/plain": [
       "' app'"
      ]
     },
     "execution_count": 85,
     "metadata": {},
     "output_type": "execute_result"
    }
   ],
   "source": [
    "tokenizer.decode(598)"
   ]
  },
  {
   "cell_type": "code",
   "execution_count": 43,
   "metadata": {},
   "outputs": [
    {
     "data": {
      "text/plain": [
       "torch.Size([8, 50262])"
      ]
     },
     "execution_count": 43,
     "metadata": {},
     "output_type": "execute_result"
    }
   ],
   "source": [
    "generations_predicted['scores'][0].size()"
   ]
  },
  {
   "cell_type": "code",
   "execution_count": 33,
   "metadata": {},
   "outputs": [],
   "source": [
    "import pickle\n",
    "\n",
    "# Open a file in binary write mode\n",
    "with open('scores_GPT2_with_AC_PI.pkl', 'wb') as file:\n",
    "    # Use pickle to dump the array into the file\n",
    "    pickle.dump(scores, file)"
   ]
  },
  {
   "cell_type": "code",
   "execution_count": 26,
   "metadata": {},
   "outputs": [],
   "source": [
    "# Open the file in binary read mode\n",
    "import pickle\n",
    "with open('scores_GPT2_with_AC_PI.pkl', 'rb') as file:\n",
    "    # Load the array from the file\n",
    "    scores = pickle.load(file)"
   ]
  },
  {
   "cell_type": "code",
   "execution_count": 28,
   "metadata": {},
   "outputs": [
    {
     "data": {
      "text/plain": [
       "0.38198473282442746"
      ]
     },
     "execution_count": 28,
     "metadata": {},
     "output_type": "execute_result"
    }
   ],
   "source": [
    "top_k_accuracy_score(true_candidate_index, scores, k=1)"
   ]
  }
 ],
 "metadata": {
  "kernelspec": {
   "display_name": "Python 3",
   "language": "python",
   "name": "python3"
  },
  "language_info": {
   "codemirror_mode": {
    "name": "ipython",
    "version": 3
   },
   "file_extension": ".py",
   "mimetype": "text/x-python",
   "name": "python",
   "nbconvert_exporter": "python",
   "pygments_lexer": "ipython3",
   "version": "3.9.16"
  }
 },
 "nbformat": 4,
 "nbformat_minor": 2
}
